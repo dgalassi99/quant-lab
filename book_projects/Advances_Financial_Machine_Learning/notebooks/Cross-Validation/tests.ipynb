{
 "cells": [
  {
   "cell_type": "markdown",
   "id": "917f896e",
   "metadata": {},
   "source": [
    "# Cross Validation"
   ]
  },
  {
   "cell_type": "markdown",
   "id": "e5e0f7b4",
   "metadata": {},
   "source": [
    "## Prepare Data"
   ]
  },
  {
   "cell_type": "code",
   "execution_count": 1,
   "id": "d6371b79",
   "metadata": {},
   "outputs": [],
   "source": [
    "# import libraries\n",
    "\n",
    "import sys\n",
    "import os\n",
    "import pandas as pd\n",
    "import numpy as np\n",
    "import matplotlib.pyplot as plt\n",
    "import datetime\n",
    "import seaborn as sns\n",
    "import statsmodels\n",
    "from statsmodels.tsa.stattools import acf\n",
    "from sklearn.ensemble import RandomForestClassifier\n",
    "from sklearn.model_selection import cross_val_score\n",
    "from statsmodels.tsa.stattools import adfuller\n",
    "from statsmodels.tsa.stattools import coint\n",
    "from scipy.stats import jarque_bera\n",
    "from sklearn.model_selection import train_test_split\n",
    "from sklearn.ensemble import BaggingClassifier\n",
    "from sklearn.tree import DecisionTreeClassifier\n",
    "\n",
    "#import functions from scripts folder\n",
    "\n",
    "sys.path.append('../../scripts')\n",
    "from fracdiff import *\n",
    "from labelling import *\n",
    "from samp_weights import *\n",
    "from fin_data_management import * \n",
    "from sequential_CV import *\n",
    "from fetch_yf_data import fetch_data\n",
    "from AFML_book_scripts import *\n",
    "from AFML_my_scripts import *"
   ]
  },
  {
   "cell_type": "code",
   "execution_count": 2,
   "id": "b06d958b",
   "metadata": {},
   "outputs": [
    {
     "name": "stdout",
     "output_type": "stream",
     "text": [
      "Index([], dtype='int64')\n",
      "DatetimeIndex([], dtype='datetime64[ns]', name='datetime', freq=None)\n"
     ]
    }
   ],
   "source": [
    "# import data \n",
    "data = pd.read_csv(\"../../data/SP_futures_tick_data.csv\")\n",
    "#manipulate data such that we can transfomr into a dollar bar series\n",
    "datetime_str = data['date'] + ' ' + data['time']\n",
    "data['datetime'] = pd.to_datetime(datetime_str, errors='coerce')\n",
    "#drop date and time columns\n",
    "data = data.drop(['date', 'time'], axis=1)\n",
    "#get the dollar bar dataframe\n",
    "dollars_bars_size = 1000000  \n",
    "df = DollarBarsDfVectorized(data, dollar_per_bar=dollars_bars_size)\n",
    "#check for duplicates\n",
    "print(df.index[df.index.duplicated()])\n",
    "# reindex the dataframe to datetime as we will need timeindexed series objects\n",
    "df = df.drop('start_date', axis=1 )\n",
    "df = df.rename(columns={'end_date': 'datetime'})\n",
    "df = df.set_index('datetime')\n",
    "#remove duplicate indices and check again\n",
    "df = df[~df.index.duplicated(keep='first')]\n",
    "print(df.index[df.index.duplicated()])"
   ]
  },
  {
   "cell_type": "code",
   "execution_count": 3,
   "id": "b8dab976",
   "metadata": {},
   "outputs": [],
   "source": [
    "#drop non useful columns \n",
    "df = df.drop(['open', 'high', 'low'],axis =1)\n",
    "#create some extra features\n",
    "window = 5  \n",
    "df['rolling_mean'] = df['close'].rolling(window).mean()\n",
    "df['rolling_std'] = df['close'].rolling(window).std()\n",
    "df['returns'] = df['close'].pct_change()\n"
   ]
  },
  {
   "cell_type": "code",
   "execution_count": 4,
   "id": "e59cc431",
   "metadata": {},
   "outputs": [
    {
     "data": {
      "text/html": [
       "<div>\n",
       "<style scoped>\n",
       "    .dataframe tbody tr th:only-of-type {\n",
       "        vertical-align: middle;\n",
       "    }\n",
       "\n",
       "    .dataframe tbody tr th {\n",
       "        vertical-align: top;\n",
       "    }\n",
       "\n",
       "    .dataframe thead th {\n",
       "        text-align: right;\n",
       "    }\n",
       "</style>\n",
       "<table border=\"1\" class=\"dataframe\">\n",
       "  <thead>\n",
       "    <tr style=\"text-align: right;\">\n",
       "      <th></th>\n",
       "      <th>close</th>\n",
       "      <th>volume</th>\n",
       "      <th>dollar_volume</th>\n",
       "      <th>rolling_mean</th>\n",
       "      <th>rolling_std</th>\n",
       "      <th>returns</th>\n",
       "    </tr>\n",
       "    <tr>\n",
       "      <th>datetime</th>\n",
       "      <th></th>\n",
       "      <th></th>\n",
       "      <th></th>\n",
       "      <th></th>\n",
       "      <th></th>\n",
       "      <th></th>\n",
       "    </tr>\n",
       "  </thead>\n",
       "  <tbody>\n",
       "    <tr>\n",
       "      <th>2003-07-01 03:16:58.000</th>\n",
       "      <td>971.9</td>\n",
       "      <td>1031</td>\n",
       "      <td>1003316.0</td>\n",
       "      <td>NaN</td>\n",
       "      <td>NaN</td>\n",
       "      <td>NaN</td>\n",
       "    </tr>\n",
       "    <tr>\n",
       "      <th>2003-07-01 06:32:13.000</th>\n",
       "      <td>971.3</td>\n",
       "      <td>1030</td>\n",
       "      <td>1001129.9</td>\n",
       "      <td>NaN</td>\n",
       "      <td>NaN</td>\n",
       "      <td>-0.000617</td>\n",
       "    </tr>\n",
       "    <tr>\n",
       "      <th>2003-07-01 07:44:30.000</th>\n",
       "      <td>968.1</td>\n",
       "      <td>1032</td>\n",
       "      <td>1001141.2</td>\n",
       "      <td>NaN</td>\n",
       "      <td>NaN</td>\n",
       "      <td>-0.003295</td>\n",
       "    </tr>\n",
       "    <tr>\n",
       "      <th>2003-07-01 16:25:20.000</th>\n",
       "      <td>982.2</td>\n",
       "      <td>1024</td>\n",
       "      <td>994588.6</td>\n",
       "      <td>NaN</td>\n",
       "      <td>NaN</td>\n",
       "      <td>0.014565</td>\n",
       "    </tr>\n",
       "    <tr>\n",
       "      <th>2003-07-02 01:51:56.000</th>\n",
       "      <td>983.2</td>\n",
       "      <td>1026</td>\n",
       "      <td>1008342.4</td>\n",
       "      <td>975.34</td>\n",
       "      <td>6.881352</td>\n",
       "      <td>0.001018</td>\n",
       "    </tr>\n",
       "    <tr>\n",
       "      <th>...</th>\n",
       "      <td>...</td>\n",
       "      <td>...</td>\n",
       "      <td>...</td>\n",
       "      <td>...</td>\n",
       "      <td>...</td>\n",
       "      <td>...</td>\n",
       "    </tr>\n",
       "    <tr>\n",
       "      <th>2019-10-08 17:29:47.032</th>\n",
       "      <td>2893.5</td>\n",
       "      <td>341</td>\n",
       "      <td>998716.1</td>\n",
       "      <td>2933.06</td>\n",
       "      <td>53.892374</td>\n",
       "      <td>-0.026839</td>\n",
       "    </tr>\n",
       "    <tr>\n",
       "      <th>2019-10-14 03:01:58.578</th>\n",
       "      <td>2966.8</td>\n",
       "      <td>344</td>\n",
       "      <td>1005621.3</td>\n",
       "      <td>2953.08</td>\n",
       "      <td>39.838072</td>\n",
       "      <td>0.025333</td>\n",
       "    </tr>\n",
       "    <tr>\n",
       "      <th>2019-10-29 20:10:53.206</th>\n",
       "      <td>3034.3</td>\n",
       "      <td>332</td>\n",
       "      <td>994846.1</td>\n",
       "      <td>2972.88</td>\n",
       "      <td>51.644574</td>\n",
       "      <td>0.022752</td>\n",
       "    </tr>\n",
       "    <tr>\n",
       "      <th>2019-11-21 04:07:51.275</th>\n",
       "      <td>3108.8</td>\n",
       "      <td>324</td>\n",
       "      <td>999676.2</td>\n",
       "      <td>2995.34</td>\n",
       "      <td>80.719781</td>\n",
       "      <td>0.024553</td>\n",
       "    </tr>\n",
       "    <tr>\n",
       "      <th>2019-12-06 07:51:31.295</th>\n",
       "      <td>3136.7</td>\n",
       "      <td>320</td>\n",
       "      <td>997912.4</td>\n",
       "      <td>3028.02</td>\n",
       "      <td>100.274259</td>\n",
       "      <td>0.008975</td>\n",
       "    </tr>\n",
       "  </tbody>\n",
       "</table>\n",
       "<p>14553 rows × 6 columns</p>\n",
       "</div>"
      ],
      "text/plain": [
       "                          close  volume  dollar_volume  rolling_mean  \\\n",
       "datetime                                                               \n",
       "2003-07-01 03:16:58.000   971.9    1031      1003316.0           NaN   \n",
       "2003-07-01 06:32:13.000   971.3    1030      1001129.9           NaN   \n",
       "2003-07-01 07:44:30.000   968.1    1032      1001141.2           NaN   \n",
       "2003-07-01 16:25:20.000   982.2    1024       994588.6           NaN   \n",
       "2003-07-02 01:51:56.000   983.2    1026      1008342.4        975.34   \n",
       "...                         ...     ...            ...           ...   \n",
       "2019-10-08 17:29:47.032  2893.5     341       998716.1       2933.06   \n",
       "2019-10-14 03:01:58.578  2966.8     344      1005621.3       2953.08   \n",
       "2019-10-29 20:10:53.206  3034.3     332       994846.1       2972.88   \n",
       "2019-11-21 04:07:51.275  3108.8     324       999676.2       2995.34   \n",
       "2019-12-06 07:51:31.295  3136.7     320       997912.4       3028.02   \n",
       "\n",
       "                         rolling_std   returns  \n",
       "datetime                                        \n",
       "2003-07-01 03:16:58.000          NaN       NaN  \n",
       "2003-07-01 06:32:13.000          NaN -0.000617  \n",
       "2003-07-01 07:44:30.000          NaN -0.003295  \n",
       "2003-07-01 16:25:20.000          NaN  0.014565  \n",
       "2003-07-02 01:51:56.000     6.881352  0.001018  \n",
       "...                              ...       ...  \n",
       "2019-10-08 17:29:47.032    53.892374 -0.026839  \n",
       "2019-10-14 03:01:58.578    39.838072  0.025333  \n",
       "2019-10-29 20:10:53.206    51.644574  0.022752  \n",
       "2019-11-21 04:07:51.275    80.719781  0.024553  \n",
       "2019-12-06 07:51:31.295   100.274259  0.008975  \n",
       "\n",
       "[14553 rows x 6 columns]"
      ]
     },
     "execution_count": 4,
     "metadata": {},
     "output_type": "execute_result"
    }
   ],
   "source": [
    "df"
   ]
  },
  {
   "cell_type": "code",
   "execution_count": 5,
   "id": "7f46d65e",
   "metadata": {},
   "outputs": [],
   "source": [
    "ptSL = (1,1)\n",
    "min_ret = df['close'].pct_change().mean()\n",
    "target = GetTargetforTBM(df.close,ema_periods=window)\n",
    "numDays = 5\n",
    "close = df.close\n",
    "tEvents = close.index[100:5000]\n",
    "\n",
    "t1=close.index.searchsorted(tEvents+pd.Timedelta(days=numDays))\n",
    "t1=t1[t1<close.shape[0]]\n",
    "t1=pd.Series(close.index[t1],index=tEvents[:t1.shape[0]])\n"
   ]
  },
  {
   "cell_type": "code",
   "execution_count": 6,
   "id": "5bddfad7",
   "metadata": {},
   "outputs": [
    {
     "data": {
      "text/html": [
       "<div>\n",
       "<style scoped>\n",
       "    .dataframe tbody tr th:only-of-type {\n",
       "        vertical-align: middle;\n",
       "    }\n",
       "\n",
       "    .dataframe tbody tr th {\n",
       "        vertical-align: top;\n",
       "    }\n",
       "\n",
       "    .dataframe thead th {\n",
       "        text-align: right;\n",
       "    }\n",
       "</style>\n",
       "<table border=\"1\" class=\"dataframe\">\n",
       "  <thead>\n",
       "    <tr style=\"text-align: right;\">\n",
       "      <th></th>\n",
       "      <th>t1</th>\n",
       "      <th>trgt</th>\n",
       "      <th>side</th>\n",
       "      <th>hit_first</th>\n",
       "    </tr>\n",
       "    <tr>\n",
       "      <th>datetime</th>\n",
       "      <th></th>\n",
       "      <th></th>\n",
       "      <th></th>\n",
       "      <th></th>\n",
       "    </tr>\n",
       "  </thead>\n",
       "  <tbody>\n",
       "    <tr>\n",
       "      <th>2003-07-30 23:11:40</th>\n",
       "      <td>2003-07-31 07:34:51</td>\n",
       "      <td>0.003966</td>\n",
       "      <td>1.0</td>\n",
       "      <td>tp</td>\n",
       "    </tr>\n",
       "    <tr>\n",
       "      <th>2003-07-31 05:46:31</th>\n",
       "      <td>2003-07-31 07:34:51</td>\n",
       "      <td>0.003299</td>\n",
       "      <td>1.0</td>\n",
       "      <td>tp</td>\n",
       "    </tr>\n",
       "    <tr>\n",
       "      <th>2003-07-31 07:20:38</th>\n",
       "      <td>2003-07-31 07:34:51</td>\n",
       "      <td>0.002720</td>\n",
       "      <td>1.0</td>\n",
       "      <td>tp</td>\n",
       "    </tr>\n",
       "    <tr>\n",
       "      <th>2003-07-31 07:34:51</th>\n",
       "      <td>2003-08-01 07:31:01</td>\n",
       "      <td>0.004399</td>\n",
       "      <td>1.0</td>\n",
       "      <td>sl</td>\n",
       "    </tr>\n",
       "    <tr>\n",
       "      <th>2003-07-31 07:42:38</th>\n",
       "      <td>2003-08-01 07:31:01</td>\n",
       "      <td>0.003635</td>\n",
       "      <td>1.0</td>\n",
       "      <td>sl</td>\n",
       "    </tr>\n",
       "    <tr>\n",
       "      <th>...</th>\n",
       "      <td>...</td>\n",
       "      <td>...</td>\n",
       "      <td>...</td>\n",
       "      <td>...</td>\n",
       "    </tr>\n",
       "    <tr>\n",
       "      <th>2007-03-14 05:08:11</th>\n",
       "      <td>2007-03-14 15:56:12</td>\n",
       "      <td>0.002336</td>\n",
       "      <td>1.0</td>\n",
       "      <td>tp</td>\n",
       "    </tr>\n",
       "    <tr>\n",
       "      <th>2007-03-14 05:42:47</th>\n",
       "      <td>2007-03-14 15:56:12</td>\n",
       "      <td>0.001920</td>\n",
       "      <td>1.0</td>\n",
       "      <td>tp</td>\n",
       "    </tr>\n",
       "    <tr>\n",
       "      <th>2007-03-14 06:16:28</th>\n",
       "      <td>2007-03-14 07:09:46</td>\n",
       "      <td>0.001854</td>\n",
       "      <td>1.0</td>\n",
       "      <td>sl</td>\n",
       "    </tr>\n",
       "    <tr>\n",
       "      <th>2007-03-14 06:40:04</th>\n",
       "      <td>2007-03-14 07:09:46</td>\n",
       "      <td>0.001514</td>\n",
       "      <td>1.0</td>\n",
       "      <td>sl</td>\n",
       "    </tr>\n",
       "    <tr>\n",
       "      <th>2007-03-14 07:09:46</th>\n",
       "      <td>2007-03-14 07:37:05</td>\n",
       "      <td>0.001486</td>\n",
       "      <td>1.0</td>\n",
       "      <td>tp</td>\n",
       "    </tr>\n",
       "  </tbody>\n",
       "</table>\n",
       "<p>4900 rows × 4 columns</p>\n",
       "</div>"
      ],
      "text/plain": [
       "                                     t1      trgt  side hit_first\n",
       "datetime                                                         \n",
       "2003-07-30 23:11:40 2003-07-31 07:34:51  0.003966   1.0        tp\n",
       "2003-07-31 05:46:31 2003-07-31 07:34:51  0.003299   1.0        tp\n",
       "2003-07-31 07:20:38 2003-07-31 07:34:51  0.002720   1.0        tp\n",
       "2003-07-31 07:34:51 2003-08-01 07:31:01  0.004399   1.0        sl\n",
       "2003-07-31 07:42:38 2003-08-01 07:31:01  0.003635   1.0        sl\n",
       "...                                 ...       ...   ...       ...\n",
       "2007-03-14 05:08:11 2007-03-14 15:56:12  0.002336   1.0        tp\n",
       "2007-03-14 05:42:47 2007-03-14 15:56:12  0.001920   1.0        tp\n",
       "2007-03-14 06:16:28 2007-03-14 07:09:46  0.001854   1.0        sl\n",
       "2007-03-14 06:40:04 2007-03-14 07:09:46  0.001514   1.0        sl\n",
       "2007-03-14 07:09:46 2007-03-14 07:37:05  0.001486   1.0        tp\n",
       "\n",
       "[4900 rows x 4 columns]"
      ]
     },
     "execution_count": 6,
     "metadata": {},
     "output_type": "execute_result"
    }
   ],
   "source": [
    "#get events\n",
    "events = getEventsMeta(df.close,tEvents,ptSL,target,min_ret,t1)\n",
    "events"
   ]
  },
  {
   "cell_type": "markdown",
   "id": "9e5378b1",
   "metadata": {},
   "source": [
    "## Purging Observations in the Training Set"
   ]
  },
  {
   "cell_type": "code",
   "execution_count": 7,
   "id": "032f1c59",
   "metadata": {},
   "outputs": [],
   "source": [
    "t1 = events.t1\n",
    "test_events = events.t1.iloc[:300]\n",
    "\n",
    "trn = getTrainTimes(t1,testTimes=test_events)"
   ]
  },
  {
   "cell_type": "code",
   "execution_count": 37,
   "id": "feb90040",
   "metadata": {},
   "outputs": [
    {
     "data": {
      "text/plain": [
       "datetime\n",
       "2003-11-03 07:51:03   2003-11-04 02:47:39\n",
       "2003-11-03 22:10:04   2003-11-04 02:47:39\n",
       "2003-11-04 02:47:39   2003-11-04 19:33:03\n",
       "2003-11-04 05:12:19   2003-11-04 19:33:03\n",
       "2003-11-04 07:31:13   2003-11-04 19:33:03\n",
       "                              ...        \n",
       "2007-03-14 05:08:11   2007-03-14 15:56:12\n",
       "2007-03-14 05:42:47   2007-03-14 15:56:12\n",
       "2007-03-14 06:16:28   2007-03-14 07:09:46\n",
       "2007-03-14 06:40:04   2007-03-14 07:09:46\n",
       "2007-03-14 07:09:46   2007-03-14 07:37:05\n",
       "Name: t1, Length: 4593, dtype: datetime64[ns]"
      ]
     },
     "execution_count": 37,
     "metadata": {},
     "output_type": "execute_result"
    }
   ],
   "source": [
    "trn"
   ]
  },
  {
   "cell_type": "markdown",
   "id": "4de29e6b",
   "metadata": {},
   "source": [
    "## Embargo on Training Set"
   ]
  },
  {
   "cell_type": "code",
   "execution_count": 8,
   "id": "4eab207f",
   "metadata": {},
   "outputs": [],
   "source": [
    "mbrg = getEmbargoTimes(t1.index, pctEmbargo=0.01)  # for example 1% embargo\n",
    "# Pick test start and end as the first 10 events\n",
    "dt0 = events.index[0]        # start of test set\n",
    "dt1 = events.index[300]        # end of test set\n",
    "# Series with start index = dt0 and value = embargoed dt1\n",
    "testTimes = pd.Series(mbrg[dt1], index=[dt0])\n",
    "trn = getTrainTimes(events.t1,testTimes)"
   ]
  },
  {
   "cell_type": "markdown",
   "id": "8a1c4bd1",
   "metadata": {},
   "source": [
    "## CV with Overlapping Observations\n"
   ]
  },
  {
   "cell_type": "markdown",
   "id": "9bc7e335",
   "metadata": {},
   "source": []
  },
  {
   "cell_type": "code",
   "execution_count": 12,
   "id": "25ef88d7",
   "metadata": {},
   "outputs": [],
   "source": [
    "#get labels\n",
    "labels = getTBMLabels(events, df.close)"
   ]
  },
  {
   "cell_type": "code",
   "execution_count": 10,
   "id": "07cfc38a",
   "metadata": {},
   "outputs": [
    {
     "name": "stdout",
     "output_type": "stream",
     "text": [
      "The shapes of events, feature matrix and labels df are (4900, 4), (4900, 6) and (4900, 4)\n"
     ]
    }
   ],
   "source": [
    "#align features with labels df\n",
    "df = df.loc[labels.index]\n",
    "X = df\n",
    "y = labels.bin\n",
    "\n",
    "#check if all the dataframes are aligned\n",
    "print(f'The shapes of events, feature matrix and labels df are {events.shape}, {df.shape} and {labels.shape}')"
   ]
  },
  {
   "cell_type": "code",
   "execution_count": 11,
   "id": "f05daf21",
   "metadata": {},
   "outputs": [
    {
     "name": "stderr",
     "output_type": "stream",
     "text": [
      "c:\\Users\\dgalassi\\quant-lab\\book_projects\\Advances_Financial_Machine_Learning\\notebooks\\Cross-Validation\\../../scripts\\sequential_CV.py:102: FutureWarning: Series.__getitem__ treating keys as positions is deprecated. In a future version, integer keys will always be treated as labels (consistent with DataFrame behavior). To access a value by position, use `ser.iloc[pos]`\n",
      "  maxT1 = self.t1[test_indices].max()\n"
     ]
    }
   ],
   "source": [
    "cv = PurgedKFold(n_splits=3, t1 = events.t1, pctEmbargo=0.02)\n",
    "for train_idx, test_idx in cv.split(X, y):\n",
    "    X_train, X_test = X.iloc[train_idx], X.iloc[test_idx]\n",
    "    y_train, y_test = y.iloc[train_idx], y.iloc[test_idx]"
   ]
  },
  {
   "cell_type": "markdown",
   "id": "e7cbd1ac",
   "metadata": {},
   "source": [
    "## Using PurgedKFold Class"
   ]
  },
  {
   "cell_type": "code",
   "execution_count": 13,
   "id": "37faa792",
   "metadata": {},
   "outputs": [],
   "source": [
    "#get labels\n",
    "labels = getTBMLabels(events, df.close)"
   ]
  },
  {
   "cell_type": "code",
   "execution_count": null,
   "id": "f1807488",
   "metadata": {},
   "outputs": [],
   "source": [
    "#indicator matrix\n",
    "indicator_matrix = getIndMatrix(barIx=df.close.index,t1=labels.t1)\n",
    "#average uniqueness\n",
    "avg_uniq = getAvgUniqueness(indM=indicator_matrix)\n",
    "#boostrap phi\n",
    "phi = seqBootstrap(indicator_matrix,sLength=None)\n",
    "#number of coevents\n",
    "number_of_coevents = mpNumCoEvents(df.close.index, events.t1, events.index)\n"
   ]
  },
  {
   "cell_type": "code",
   "execution_count": null,
   "id": "2ea9baf8",
   "metadata": {},
   "outputs": [],
   "source": [
    "df = df.loc[labels.index]\n",
    "X = df\n",
    "y = labels.bin"
   ]
  },
  {
   "cell_type": "code",
   "execution_count": null,
   "id": "4f287134",
   "metadata": {},
   "outputs": [],
   "source": [
    "X_boot = X.iloc[phi]\n",
    "y_boot = y.iloc[phi]\n",
    "#sample weights\n",
    "weights_boot = sampleW(events.t1, number_of_coevents, df.close, events.index)\n",
    "\n",
    "print(f'shape of X boot{X_boot.shape} and shape of y_boot {y_boot.shape}')"
   ]
  },
  {
   "cell_type": "code",
   "execution_count": null,
   "id": "3515668d",
   "metadata": {},
   "outputs": [],
   "source": [
    "from sklearn.ensemble import RandomForestClassifier\n",
    "\n",
    "clf = RandomForestClassifier(n_estimators=100, random_state=42)\n",
    "\n",
    "# run purged cross-validation\n",
    "scores = cvScore(\n",
    "    clf,\n",
    "    X_boot,\n",
    "    y_boot,\n",
    "    sample_weight=weights_boot,\n",
    "    scoring='neg_log_loss',  # or 'accuracy'\n",
    "    t1=t1,\n",
    "    cv=3,                    # number of folds\n",
    "    pctEmbargo=0.01           # 1% embargo\n",
    ")\n",
    "\n",
    "print(\"CV scores:\", scores)\n",
    "print(\"Mean score:\", scores.mean())\n"
   ]
  }
 ],
 "metadata": {
  "kernelspec": {
   "display_name": "qt_env",
   "language": "python",
   "name": "python3"
  },
  "language_info": {
   "codemirror_mode": {
    "name": "ipython",
    "version": 3
   },
   "file_extension": ".py",
   "mimetype": "text/x-python",
   "name": "python",
   "nbconvert_exporter": "python",
   "pygments_lexer": "ipython3",
   "version": "3.12.2"
  }
 },
 "nbformat": 4,
 "nbformat_minor": 5
}
