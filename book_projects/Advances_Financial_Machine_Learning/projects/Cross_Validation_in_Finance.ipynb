{
 "cells": [
  {
   "cell_type": "markdown",
   "id": "66754b6f",
   "metadata": {},
   "source": [
    "# Cross Validation - Shuffling, Purging and Embargoing"
   ]
  },
  {
   "cell_type": "markdown",
   "id": "bc3bb898",
   "metadata": {},
   "source": [
    "This notebook aims at replying to the exercises 7.1 to 7.5 of chapter 7 of AFML book."
   ]
  },
  {
   "cell_type": "markdown",
   "id": "f089a25c",
   "metadata": {},
   "source": [
    "## Exercise 7.1\n",
    "\n",
    "Why is shuffling a dataset before conducting k-fold CV generally a bad idea in\n",
    "finance? What is the purpose of shuffling? Why does shuffling defeat the purpose\n",
    "of k-fold CV in financial datasets?\n",
    "\n",
    "Shuffling a dataset before performing k-fold cross-validation is generally a bad idea in finance because financial data are time-dependent and not independent and identically distributed (IID).\n",
    "\n",
    "Purpose of shuffling in standard CV:\n",
    "\n",
    "In classical machine learning, shuffling ensures that each fold is representative of the full dataset. It helps prevent bias if the data have any temporal or sequential ordering. This is appropriate when the data are IID\n",
    "\n",
    "Why shuffling is problematic in finance:\n",
    "\n",
    "Financial prices and returns exhibit serial correlation, meaning the value at time t\n",
    "t depends on previous periods t−1,t−2,…. Shuffling would destroy the temporal structure, allowing training on future information that would not have been available at prediction time. This leads to look-ahead bias and data leakage, giving artificially optimistic performance estimates.\n",
    "\n",
    "Implications for cross-validation:\n",
    "\n",
    "Instead of shuffling, we need time-aware CV methods, such as:\n",
    "\n",
    "- Purged k-fold CV\n",
    "- Embargoed CV\n",
    "- Sequential bootstrap sampling\n",
    "\n",
    "These methods respect the causal ordering of financial events and prevent overlapping information from contaminating the training set.\n"
   ]
  },
  {
   "cell_type": "markdown",
   "id": "3b61d6f0",
   "metadata": {},
   "source": [
    "## Exercise 7.2"
   ]
  },
  {
   "cell_type": "markdown",
   "id": "9ad5d908",
   "metadata": {},
   "source": [
    "### Get Features and Labels"
   ]
  },
  {
   "cell_type": "code",
   "execution_count": 30,
   "id": "b1d554a5",
   "metadata": {},
   "outputs": [],
   "source": [
    "# import libraries\n",
    "\n",
    "import sys\n",
    "import os\n",
    "import pandas as pd\n",
    "import numpy as np\n",
    "import matplotlib.pyplot as plt\n",
    "import datetime\n",
    "import seaborn as sns\n",
    "import statsmodels\n",
    "from statsmodels.tsa.stattools import acf\n",
    "from sklearn.ensemble import RandomForestClassifier\n",
    "from sklearn.model_selection import cross_val_score\n",
    "from statsmodels.tsa.stattools import adfuller\n",
    "from statsmodels.tsa.stattools import coint\n",
    "from scipy.stats import jarque_bera\n",
    "from sklearn.model_selection import train_test_split\n",
    "from sklearn.ensemble import BaggingClassifier\n",
    "from sklearn.tree import DecisionTreeClassifier\n",
    "\n",
    "#import functions from scripts folder\n",
    "\n",
    "sys.path.append('../scripts')\n",
    "from fracdiff import *\n",
    "from labelling import *\n",
    "from samp_weights import *\n",
    "from fin_data_management import * \n",
    "from fetch_yf_data import fetch_data\n",
    "from AFML_book_scripts import *\n",
    "from AFML_my_scripts import *\n",
    "from sequential_CV import *"
   ]
  },
  {
   "cell_type": "markdown",
   "id": "5e8a6c39",
   "metadata": {},
   "source": [
    "#### Data"
   ]
  },
  {
   "cell_type": "code",
   "execution_count": 2,
   "id": "f7c8352a",
   "metadata": {},
   "outputs": [
    {
     "name": "stdout",
     "output_type": "stream",
     "text": [
      "Index([], dtype='int64')\n",
      "DatetimeIndex([], dtype='datetime64[ns]', name='datetime', freq=None)\n"
     ]
    }
   ],
   "source": [
    "# import data \n",
    "data = pd.read_csv(\"../data/SP_futures_tick_data.csv\")\n",
    "#manipulate data such that we can transfomr into a dollar bar series\n",
    "datetime_str = data['date'] + ' ' + data['time']\n",
    "data['datetime'] = pd.to_datetime(datetime_str, errors='coerce')\n",
    "#drop date and time columns\n",
    "data = data.drop(['date', 'time'], axis=1)\n",
    "#get the dollar bar dataframe\n",
    "dollars_bars_size = 1000000  \n",
    "df = DollarBarsDfVectorized(data, dollar_per_bar=dollars_bars_size)\n",
    "#check for duplicates\n",
    "print(df.index[df.index.duplicated()])\n",
    "# reindex the dataframe to datetime as we will need timeindexed series objects\n",
    "df = df.drop('start_date', axis=1 )\n",
    "df = df.rename(columns={'end_date': 'datetime'})\n",
    "df = df.set_index('datetime')\n",
    "#remove duplicate indices and check again\n",
    "df = df[~df.index.duplicated(keep='first')]\n",
    "print(df.index[df.index.duplicated()])"
   ]
  },
  {
   "cell_type": "markdown",
   "id": "258584eb",
   "metadata": {},
   "source": [
    "#### CUSUM filter"
   ]
  },
  {
   "cell_type": "code",
   "execution_count": 18,
   "id": "65c038f1",
   "metadata": {},
   "outputs": [
    {
     "data": {
      "text/plain": [
       "np.float64(316.01634790805633)"
      ]
     },
     "execution_count": 18,
     "metadata": {},
     "output_type": "execute_result"
    }
   ],
   "source": [
    "std"
   ]
  },
  {
   "cell_type": "code",
   "execution_count": 19,
   "id": "1e8b94fb",
   "metadata": {},
   "outputs": [
    {
     "data": {
      "text/plain": [
       "np.float64(1340.346529209622)"
      ]
     },
     "execution_count": 19,
     "metadata": {},
     "output_type": "execute_result"
    }
   ],
   "source": [
    "df.close.mean()"
   ]
  },
  {
   "cell_type": "markdown",
   "id": "24782920",
   "metadata": {},
   "source": [
    "#### Feature Matrix"
   ]
  },
  {
   "cell_type": "code",
   "execution_count": null,
   "id": "fbbbe000",
   "metadata": {},
   "outputs": [],
   "source": [
    "#drop non useful columns \n",
    "df = df.drop(['open', 'high', 'low'],axis =1)\n",
    "#create some extra features\n",
    "window = 5  \n",
    "df['rolling_mean'] = df['close'].rolling(window).mean()\n",
    "df['rolling_std'] = df['close'].rolling(window).std()\n",
    "df['returns'] = df['close'].pct_change()\n"
   ]
  },
  {
   "cell_type": "markdown",
   "id": "22f4927d",
   "metadata": {},
   "source": [
    "TBM"
   ]
  },
  {
   "cell_type": "code",
   "execution_count": 20,
   "id": "624599ae",
   "metadata": {},
   "outputs": [],
   "source": [
    "ptSL = (1,1)\n",
    "target = GetTargetforTBM(df.close,ema_periods=window)\n",
    "min_ret = target.mean()*2\n",
    "numDays = 1\n",
    "close = df.close\n",
    "tEvents = close.index\n",
    "\n",
    "t1=df.close.index.searchsorted(tEvents+pd.Timedelta(days=numDays))\n",
    "t1=t1[t1<df.close.shape[0]]\n",
    "t1=pd.Series(df.close.index[t1],index=tEvents[:t1.shape[0]])"
   ]
  },
  {
   "cell_type": "code",
   "execution_count": 21,
   "id": "c88db919",
   "metadata": {},
   "outputs": [],
   "source": [
    "#get events\n",
    "events = getEventsMeta(df.close,tEvents,ptSL,target,min_ret,t1)\n",
    "#get labels\n",
    "labels = getTBMLabels(events, df.close)"
   ]
  },
  {
   "cell_type": "code",
   "execution_count": 22,
   "id": "e03cb025",
   "metadata": {},
   "outputs": [
    {
     "name": "stdout",
     "output_type": "stream",
     "text": [
      "The shapes of events, feature matrix and labels df are (1428, 4), (1428, 6) and (1428, 4)\n"
     ]
    }
   ],
   "source": [
    "#drop nan rows of events and df cause the vertcial barries will not be realized\n",
    "events = events.dropna()\n",
    "df = df.loc[events.index]\n",
    "#check if all the dataframes are aligned\n",
    "print(f'The shapes of events, feature matrix and labels df are {events.shape}, {df.shape} and {labels.shape}')"
   ]
  },
  {
   "cell_type": "code",
   "execution_count": 23,
   "id": "4b7a5037",
   "metadata": {},
   "outputs": [
    {
     "name": "stdout",
     "output_type": "stream",
     "text": [
      "shape of X (1428, 6) and shape of y (1428,)\n"
     ]
    }
   ],
   "source": [
    "y = labels.bin\n",
    "X = df\n",
    "\n",
    "print(f'shape of X {X.shape} and shape of y {y.shape}')"
   ]
  },
  {
   "cell_type": "markdown",
   "id": "09635064",
   "metadata": {},
   "source": [
    "### Solve the Exercise"
   ]
  },
  {
   "cell_type": "code",
   "execution_count": null,
   "id": "ddd20db9",
   "metadata": {},
   "outputs": [],
   "source": []
  },
  {
   "cell_type": "code",
   "execution_count": 35,
   "id": "433933e8",
   "metadata": {},
   "outputs": [],
   "source": [
    "from sklearn.model_selection import KFold, cross_val_score\n",
    "\n",
    "# NO SHUFFLING - KFOLD\n",
    "\n",
    "clf = RandomForestClassifier(n_estimators=100, random_state=42)\n",
    "\n",
    "kfold_no_shuffle = KFold(n_splits=10,shuffle=False)\n",
    "scores_no_shuffle = cross_val_score(clf, X, y, cv=kfold_no_shuffle, scoring='accuracy')\n",
    "\n",
    "# SHUFFLING - KFOLD\n",
    "kf_shuffle = KFold(n_splits=10, shuffle=True, random_state=42)\n",
    "\n",
    "scores_shuffle = cross_val_score(clf, X, y, cv=kf_shuffle, scoring='accuracy')\n",
    "\n",
    "\n",
    "# PURGE AND EMBARGO (NO SHUFFLING)\n",
    "t1_series = events[\"t1\"]\n",
    "scores_purged = cvScore(\n",
    "    clf,\n",
    "    X,\n",
    "    y,\n",
    "    sample_weight=pd.Series(1, index=X.index),  # equal weights\n",
    "    scoring='accuracy',\n",
    "    t1=t1_series,\n",
    "    cv=10,\n",
    "    pctEmbargo=0.01\n",
    ")\n"
   ]
  },
  {
   "cell_type": "code",
   "execution_count": 36,
   "id": "52bcad49",
   "metadata": {},
   "outputs": [
    {
     "name": "stdout",
     "output_type": "stream",
     "text": [
      "--------- RESULTS WITH SHUFFLE = TRUE ---------\n",
      "Mean accuracy: 0.56\n",
      "--------- RESULTS WITH SHUFFLE = FALSE ---------\n",
      "Mean accuracy: 0.49\n",
      "--------- RESULTS WITH PURGE AND EMBARGO ---------\n",
      "Mean accuracy: 0.51\n"
     ]
    }
   ],
   "source": [
    "\n",
    "print('--------- RESULTS WITH SHUFFLE = TRUE ---------')\n",
    "print(\"Mean accuracy:\", round(scores_shuffle.mean(),2))\n",
    "\n",
    "print('--------- RESULTS WITH SHUFFLE = FALSE ---------')\n",
    "print(\"Mean accuracy:\", round(scores_no_shuffle.mean(),2))\n",
    "\n",
    "print('--------- RESULTS WITH PURGE AND EMBARGO ---------')\n",
    "print(\"Mean accuracy:\", round(scores_purged.mean(),2))"
   ]
  }
 ],
 "metadata": {
  "kernelspec": {
   "display_name": "qt_env",
   "language": "python",
   "name": "python3"
  },
  "language_info": {
   "codemirror_mode": {
    "name": "ipython",
    "version": 3
   },
   "file_extension": ".py",
   "mimetype": "text/x-python",
   "name": "python",
   "nbconvert_exporter": "python",
   "pygments_lexer": "ipython3",
   "version": "3.12.2"
  }
 },
 "nbformat": 4,
 "nbformat_minor": 5
}
