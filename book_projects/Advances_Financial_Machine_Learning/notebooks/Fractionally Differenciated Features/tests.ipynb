{
 "cells": [
  {
   "cell_type": "markdown",
   "id": "573c2c86",
   "metadata": {},
   "source": [
    "# Fractional Differencing"
   ]
  },
  {
   "cell_type": "markdown",
   "id": "60ce0cd7",
   "metadata": {},
   "source": [
    "Summary of exercises 5.1, 5.2 and proposed by the author. The other exercises will be treated as \"projects\" in the omonim folder :)"
   ]
  },
  {
   "cell_type": "code",
   "execution_count": 1,
   "id": "7b91d24c",
   "metadata": {},
   "outputs": [],
   "source": [
    "import numpy as np\n",
    "import pandas as pd\n",
    "import matplotlib.pyplot as plt\n",
    "import seaborn as sns\n",
    "from statsmodels.tsa.stattools import adfuller\n",
    "import sys\n",
    "\n",
    "sys.path.append('../../scripts')\n",
    "from fracdiff import *"
   ]
  },
  {
   "cell_type": "markdown",
   "id": "9d2ad0c1",
   "metadata": {},
   "source": [
    "Generate an IID gaussian time series (memory-less stationary series):\n",
    "- ADF test\n",
    "- ADF test on cumulative sum of observations\n",
    "- Differenciate the cumulatve sum twice and AFD test"
   ]
  },
  {
   "cell_type": "code",
   "execution_count": 2,
   "id": "fd76437a",
   "metadata": {},
   "outputs": [
    {
     "name": "stdout",
     "output_type": "stream",
     "text": [
      "ADF Statistic for X: -31.8111 with p-value: 0.0\n",
      "ADF Statistic for Y: -0.966 with p-value: 0.7655\n",
      "ADF Statistic for Z: -11.5366 with p-value: 0.0\n"
     ]
    }
   ],
   "source": [
    "#for reproducibility\n",
    "np.random.seed(42)\n",
    "#number of obs \n",
    "T = 1000\n",
    "# generate series\n",
    "X = np.random.normal(0,1,T)\n",
    "# cumualtive sum\n",
    "Y = np.cumsum(X)\n",
    "# second order differentiation\n",
    "Z = np.diff(Y, n=2)\n",
    "\n",
    "# ADF test on X\n",
    "result_X = adfuller(X)\n",
    "print(f'ADF Statistic for X: {round(result_X[0],4)} with p-value: {round(result_X[1],4)}')\n",
    "# ADF test on Y\n",
    "result_Y = adfuller(Y)\n",
    "print(f'ADF Statistic for Y: {round(result_Y[0],4)} with p-value: {round(result_Y[1],4)}')\n",
    "# ADF test on X\n",
    "result_Z = adfuller(Z)\n",
    "print(f'ADF Statistic for Z: {round(result_Z[0],4)} with p-value: {round(result_Z[1],4)}')\n",
    "#       "
   ]
  },
  {
   "cell_type": "markdown",
   "id": "ebef592b",
   "metadata": {},
   "source": [
    "Generate a timeseries that follows a sinusoidal function (stationary series with memory)\n",
    "- ADF test\n",
    "- Shift all observation by a constant and compute the cumulative sum\n",
    "    - ADF test\n",
    "    - Apply an expanding window fracdiff with tau = 1e-2, what is the minimum d to get a p-val below 5%\n",
    "    - Apply an FFD with tau = 1e-5, what is the minimum d to get a p-val below 5%"
   ]
  },
  {
   "cell_type": "code",
   "execution_count": 3,
   "id": "5ccdae95",
   "metadata": {},
   "outputs": [
    {
     "name": "stdout",
     "output_type": "stream",
     "text": [
      "ADF Statistic for X: -3.7441 with p-value: 0.0035\n",
      "ADF Statistic for Y: -1.2929 with p-value: 0.6324\n"
     ]
    }
   ],
   "source": [
    "#for reproducibility\n",
    "np.random.seed(42)\n",
    "#number of obs \n",
    "T = 1000\n",
    "# sinusoidal series\n",
    "amplitude = 10\n",
    "frequency = 0.02\n",
    "X = amplitude * np.sin(frequency * np.arange(T)) + np.random.normal(0,1,T)\n",
    "# cumualtive sum\n",
    "c = 2\n",
    "Y = np.cumsum(X+c)\n",
    "\n",
    "# ADF test on X\n",
    "result_X = adfuller(X)\n",
    "print(f'ADF Statistic for X: {round(result_X[0],4)} with p-value: {round(result_X[1],4)}')\n",
    "# ADF test on Y\n",
    "result_Y = adfuller(Y)\n",
    "print(f'ADF Statistic for Y: {round(result_Y[0],4)} with p-value: {round(result_Y[1],4)}')\n",
    "# ADF test on X\n"
   ]
  },
  {
   "cell_type": "code",
   "execution_count": null,
   "id": "89c8cd70",
   "metadata": {},
   "outputs": [
    {
     "name": "stdout",
     "output_type": "stream",
     "text": [
      "ADF Statistic for FFD Y with d=0.0: -1.2382 with p-value: 0.6569\n",
      "ADF Statistic for FFD Y with d=0.01: -1.8262 with p-value: 0.3675\n",
      "ADF Statistic for FFD Y with d=0.02: -3.004 with p-value: 0.0345\n",
      "Minimum d to get a p-val below 5% is 0.02\n"
     ]
    }
   ],
   "source": [
    "# apply an expanding window fracdiff with tau = 1e-2, what is the minimum d to get a p-val below 5%?\n",
    "\n",
    "d = 0.0\n",
    "d_max = 2\n",
    "step = 0.01\n",
    "tau = 1e-2\n",
    "Y = pd.DataFrame(Y, columns=['Y']) \n",
    "\n",
    "while d <= d_max:\n",
    "    Y_fd = fracDiff(Y, d=d, threshold=tau)\n",
    "    result_Y_fd = adfuller(Y_fd.dropna())\n",
    "    print(f'ADF Statistic for FFD Y with d={round(d,2)}: {round(result_Y_fd[0],4)} with p-value: {round(result_Y_fd[1],4)}')\n",
    "    if result_Y_fd[1] < 0.05:\n",
    "        print(f'Minimum d to get a p-val below 5% is {round(d,2)}')\n",
    "        break\n",
    "    d += step"
   ]
  },
  {
   "cell_type": "code",
   "execution_count": 15,
   "id": "35564b10",
   "metadata": {},
   "outputs": [
    {
     "name": "stdout",
     "output_type": "stream",
     "text": [
      "ADF Statistic for FFD Y with d=0.0: -1.2929 with p-value: 0.6324\n",
      "ADF Statistic for FFD Y with d=0.01: 0.7233 with p-value: 0.9903\n",
      "ADF Statistic for FFD Y with d=0.49: 0.7628 with p-value: 0.991\n",
      "ADF Statistic for FFD Y with d=0.5: 1.2216 with p-value: 0.9961\n",
      "ADF Statistic for FFD Y with d=0.51: 1.6191 with p-value: 0.9979\n",
      "ADF Statistic for FFD Y with d=0.52: 0.052 with p-value: 0.9626\n",
      "ADF Statistic for FFD Y with d=0.53: -0.9683 with p-value: 0.7646\n",
      "ADF Statistic for FFD Y with d=0.54: -2.494 with p-value: 0.1169\n",
      "ADF Statistic for FFD Y with d=0.55: -2.1003 with p-value: 0.2444\n",
      "ADF Statistic for FFD Y with d=0.56: -2.9349 with p-value: 0.0414\n",
      "Minimum d to get a p-val below 5% is 0.56\n"
     ]
    }
   ],
   "source": [
    "d = 0.0\n",
    "d_max = 2\n",
    "step = 0.01\n",
    "tau = 1e-5\n",
    "Y = pd.DataFrame(Y, columns=['Y']) \n",
    "\n",
    "while d <= d_max:\n",
    "    Y_fd = fracDiff_FFD(Y, d=d, thres=tau)\n",
    "    Y_fd_col = Y_fd['Y'].dropna()\n",
    "    \n",
    "    #skip if the result of afd is empty\n",
    "    if len(Y_fd_col) == 0:\n",
    "        # skip to next d\n",
    "        d += step\n",
    "        continue\n",
    "    \n",
    "    result_Y_fd = adfuller(Y_fd_col)\n",
    "    print(f'ADF Statistic for FFD Y with d={round(d,2)}: {round(result_Y_fd[0],4)} with p-value: {round(result_Y_fd[1],4)}')\n",
    "    \n",
    "    if result_Y_fd[1] < 0.05:\n",
    "        print(f'Minimum d to get a p-val below 5% is {round(d,2)}')\n",
    "        break\n",
    "    \n",
    "    d += step\n"
   ]
  },
  {
   "cell_type": "markdown",
   "id": "06c4cdb1",
   "metadata": {},
   "source": []
  }
 ],
 "metadata": {
  "kernelspec": {
   "display_name": "qt_env",
   "language": "python",
   "name": "python3"
  },
  "language_info": {
   "codemirror_mode": {
    "name": "ipython",
    "version": 3
   },
   "file_extension": ".py",
   "mimetype": "text/x-python",
   "name": "python",
   "nbconvert_exporter": "python",
   "pygments_lexer": "ipython3",
   "version": "3.12.2"
  }
 },
 "nbformat": 4,
 "nbformat_minor": 5
}
