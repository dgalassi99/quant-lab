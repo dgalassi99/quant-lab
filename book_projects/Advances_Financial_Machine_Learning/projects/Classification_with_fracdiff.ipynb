{
 "cells": [
  {
   "cell_type": "markdown",
   "id": "16966a49",
   "metadata": {},
   "source": [
    "# Classification Task with Fractional Differencing and Weight Sampling"
   ]
  },
  {
   "cell_type": "markdown",
   "id": "f15c8d58",
   "metadata": {},
   "source": [
    "This notebook is a sort of full pipeline of what we have done in\n",
    "\n",
    "- Time_Volume_Dollar_Bars.ipynb\n",
    "- Triple_Barrier_Method_&_CUSUM_Filter.ipynb\n",
    "- Trend_Following_Strategy_&_MetaLabelling_Classification.ipynb\n",
    "- Sampling_Weights.ipynb\n",
    "\n",
    "When also considering the importance of the trade off between time series stationarity and memory --> optimized pipeline with fracdiff\n",
    "\n",
    "The goal is to obtain a \"good\" model considering all the techniques and issues threated so bar in terms of trade-offs and optimized statistical properties... Let's begin!"
   ]
  },
  {
   "cell_type": "markdown",
   "id": "af36acb6",
   "metadata": {},
   "source": [
    "## Libraries & Functions Import"
   ]
  },
  {
   "cell_type": "code",
   "execution_count": 49,
   "id": "cfdc2ce2",
   "metadata": {},
   "outputs": [],
   "source": [
    "# import libraries\n",
    "\n",
    "import sys\n",
    "import os\n",
    "import pandas as pd\n",
    "import numpy as np\n",
    "import matplotlib.pyplot as plt\n",
    "import datetime\n",
    "import seaborn as sns\n",
    "import statsmodels\n",
    "from statsmodels.tsa.stattools import acf\n",
    "from sklearn.ensemble import RandomForestClassifier\n",
    "from sklearn.model_selection import cross_val_score\n",
    "from statsmodels.tsa.stattools import adfuller\n",
    "\n",
    "#import functions from scripts folder\n",
    "\n",
    "sys.path.append('../scripts')\n",
    "from fracdiff import *\n",
    "from labelling import *\n",
    "from samp_weights import *\n",
    "from fin_data_management import * \n",
    "from fetch_yf_data import fetch_data"
   ]
  },
  {
   "cell_type": "markdown",
   "id": "45e3569d",
   "metadata": {},
   "source": [
    "## Focus on Fractional Differencing\n",
    "\n",
    "This is nothing than solveing exercise 5.5 of AFML, some of the results will be used dor ex. 5.6 which will be a bit modified to create the full pipeline we discussed above."
   ]
  },
  {
   "cell_type": "markdown",
   "id": "dea95a12",
   "metadata": {},
   "source": [
    "### Prepare Data"
   ]
  },
  {
   "cell_type": "code",
   "execution_count": 33,
   "id": "f9aebe90",
   "metadata": {},
   "outputs": [],
   "source": [
    "# import data \n",
    "data = pd.read_csv(\"../data/SP_futures_tick_data.csv\")"
   ]
  },
  {
   "cell_type": "code",
   "execution_count": null,
   "id": "bfe1cf9c",
   "metadata": {},
   "outputs": [
    {
     "data": {
      "text/html": [
       "<div>\n",
       "<style scoped>\n",
       "    .dataframe tbody tr th:only-of-type {\n",
       "        vertical-align: middle;\n",
       "    }\n",
       "\n",
       "    .dataframe tbody tr th {\n",
       "        vertical-align: top;\n",
       "    }\n",
       "\n",
       "    .dataframe thead th {\n",
       "        text-align: right;\n",
       "    }\n",
       "</style>\n",
       "<table border=\"1\" class=\"dataframe\">\n",
       "  <thead>\n",
       "    <tr style=\"text-align: right;\">\n",
       "      <th></th>\n",
       "      <th>date</th>\n",
       "      <th>time</th>\n",
       "      <th>price</th>\n",
       "      <th>volume</th>\n",
       "      <th>datetime</th>\n",
       "    </tr>\n",
       "  </thead>\n",
       "  <tbody>\n",
       "    <tr>\n",
       "      <th>0</th>\n",
       "      <td>01/03/2000</td>\n",
       "      <td>08:30:34.000</td>\n",
       "      <td>1496.4</td>\n",
       "      <td>0</td>\n",
       "      <td>2000-01-03 08:30:34</td>\n",
       "    </tr>\n",
       "    <tr>\n",
       "      <th>1</th>\n",
       "      <td>01/03/2000</td>\n",
       "      <td>08:30:36.000</td>\n",
       "      <td>1496.0</td>\n",
       "      <td>0</td>\n",
       "      <td>2000-01-03 08:30:36</td>\n",
       "    </tr>\n",
       "    <tr>\n",
       "      <th>2</th>\n",
       "      <td>01/03/2000</td>\n",
       "      <td>08:30:37.000</td>\n",
       "      <td>1495.5</td>\n",
       "      <td>0</td>\n",
       "      <td>2000-01-03 08:30:37</td>\n",
       "    </tr>\n",
       "    <tr>\n",
       "      <th>3</th>\n",
       "      <td>01/03/2000</td>\n",
       "      <td>08:30:46.000</td>\n",
       "      <td>1495.0</td>\n",
       "      <td>0</td>\n",
       "      <td>2000-01-03 08:30:46</td>\n",
       "    </tr>\n",
       "    <tr>\n",
       "      <th>4</th>\n",
       "      <td>01/03/2000</td>\n",
       "      <td>08:30:53.000</td>\n",
       "      <td>1495.5</td>\n",
       "      <td>0</td>\n",
       "      <td>2000-01-03 08:30:53</td>\n",
       "    </tr>\n",
       "  </tbody>\n",
       "</table>\n",
       "</div>"
      ],
      "text/plain": [
       "         date          time   price  volume            datetime\n",
       "0  01/03/2000  08:30:34.000  1496.4       0 2000-01-03 08:30:34\n",
       "1  01/03/2000  08:30:36.000  1496.0       0 2000-01-03 08:30:36\n",
       "2  01/03/2000  08:30:37.000  1495.5       0 2000-01-03 08:30:37\n",
       "3  01/03/2000  08:30:46.000  1495.0       0 2000-01-03 08:30:46\n",
       "4  01/03/2000  08:30:53.000  1495.5       0 2000-01-03 08:30:53"
      ]
     },
     "execution_count": 34,
     "metadata": {},
     "output_type": "execute_result"
    }
   ],
   "source": [
    "#manipulate data such that we can transfomr into a dollar bar series\n",
    "datetime_str = data['date'] + ' ' + data['time']\n",
    "data['datetime'] = pd.to_datetime(datetime_str, errors='coerce')"
   ]
  },
  {
   "cell_type": "code",
   "execution_count": 35,
   "id": "b7bb3c13",
   "metadata": {},
   "outputs": [],
   "source": [
    "#drop date and time columns\n",
    "data = data.drop(['date', 'time'], axis=1)"
   ]
  },
  {
   "cell_type": "code",
   "execution_count": 36,
   "id": "4fb1bd7f",
   "metadata": {},
   "outputs": [
    {
     "name": "stdout",
     "output_type": "stream",
     "text": [
      "Index([], dtype='int64')\n"
     ]
    }
   ],
   "source": [
    "#get the dollar bar dataframe\n",
    "dollars_bars_size = 1000000  \n",
    "df = DollarBarsDfVectorized(data, dollar_per_bar=dollars_bars_size)\n",
    "#check for duplicates\n",
    "print(df.index[df.index.duplicated()])"
   ]
  },
  {
   "cell_type": "code",
   "execution_count": 37,
   "id": "2cf5cb1c",
   "metadata": {},
   "outputs": [
    {
     "data": {
      "text/html": [
       "<div>\n",
       "<style scoped>\n",
       "    .dataframe tbody tr th:only-of-type {\n",
       "        vertical-align: middle;\n",
       "    }\n",
       "\n",
       "    .dataframe tbody tr th {\n",
       "        vertical-align: top;\n",
       "    }\n",
       "\n",
       "    .dataframe thead th {\n",
       "        text-align: right;\n",
       "    }\n",
       "</style>\n",
       "<table border=\"1\" class=\"dataframe\">\n",
       "  <thead>\n",
       "    <tr style=\"text-align: right;\">\n",
       "      <th></th>\n",
       "      <th>open</th>\n",
       "      <th>high</th>\n",
       "      <th>low</th>\n",
       "      <th>close</th>\n",
       "      <th>volume</th>\n",
       "      <th>dollar_volume</th>\n",
       "      <th>start_date</th>\n",
       "      <th>end_date</th>\n",
       "    </tr>\n",
       "  </thead>\n",
       "  <tbody>\n",
       "    <tr>\n",
       "      <th>0</th>\n",
       "      <td>1496.4</td>\n",
       "      <td>1574.0</td>\n",
       "      <td>767.5</td>\n",
       "      <td>971.9</td>\n",
       "      <td>1031</td>\n",
       "      <td>1003316.0</td>\n",
       "      <td>2000-01-03 08:30:34</td>\n",
       "      <td>2003-07-01 03:16:58</td>\n",
       "    </tr>\n",
       "    <tr>\n",
       "      <th>1</th>\n",
       "      <td>972.0</td>\n",
       "      <td>973.2</td>\n",
       "      <td>971.1</td>\n",
       "      <td>971.3</td>\n",
       "      <td>1030</td>\n",
       "      <td>1001129.9</td>\n",
       "      <td>2003-07-01 03:16:58</td>\n",
       "      <td>2003-07-01 06:32:13</td>\n",
       "    </tr>\n",
       "    <tr>\n",
       "      <th>2</th>\n",
       "      <td>971.3</td>\n",
       "      <td>972.0</td>\n",
       "      <td>967.6</td>\n",
       "      <td>968.1</td>\n",
       "      <td>1032</td>\n",
       "      <td>1001141.2</td>\n",
       "      <td>2003-07-01 06:32:40</td>\n",
       "      <td>2003-07-01 07:44:30</td>\n",
       "    </tr>\n",
       "    <tr>\n",
       "      <th>3</th>\n",
       "      <td>968.0</td>\n",
       "      <td>982.4</td>\n",
       "      <td>960.5</td>\n",
       "      <td>982.2</td>\n",
       "      <td>1024</td>\n",
       "      <td>994588.6</td>\n",
       "      <td>2003-07-01 07:44:30</td>\n",
       "      <td>2003-07-01 16:25:20</td>\n",
       "    </tr>\n",
       "    <tr>\n",
       "      <th>4</th>\n",
       "      <td>982.3</td>\n",
       "      <td>984.0</td>\n",
       "      <td>981.3</td>\n",
       "      <td>983.2</td>\n",
       "      <td>1026</td>\n",
       "      <td>1008342.4</td>\n",
       "      <td>2003-07-01 16:25:21</td>\n",
       "      <td>2003-07-02 01:51:56</td>\n",
       "    </tr>\n",
       "  </tbody>\n",
       "</table>\n",
       "</div>"
      ],
      "text/plain": [
       "     open    high    low  close  volume  dollar_volume          start_date  \\\n",
       "0  1496.4  1574.0  767.5  971.9    1031      1003316.0 2000-01-03 08:30:34   \n",
       "1   972.0   973.2  971.1  971.3    1030      1001129.9 2003-07-01 03:16:58   \n",
       "2   971.3   972.0  967.6  968.1    1032      1001141.2 2003-07-01 06:32:40   \n",
       "3   968.0   982.4  960.5  982.2    1024       994588.6 2003-07-01 07:44:30   \n",
       "4   982.3   984.0  981.3  983.2    1026      1008342.4 2003-07-01 16:25:21   \n",
       "\n",
       "             end_date  \n",
       "0 2003-07-01 03:16:58  \n",
       "1 2003-07-01 06:32:13  \n",
       "2 2003-07-01 07:44:30  \n",
       "3 2003-07-01 16:25:20  \n",
       "4 2003-07-02 01:51:56  "
      ]
     },
     "execution_count": 37,
     "metadata": {},
     "output_type": "execute_result"
    }
   ],
   "source": [
    "df.head()"
   ]
  },
  {
   "cell_type": "code",
   "execution_count": null,
   "id": "45a29cc3",
   "metadata": {},
   "outputs": [],
   "source": [
    "# reindex the dataframe to datetime as we will need timeindexed series objects\n",
    "df = df.drop('start_date', axis=1 )\n",
    "df = df.rename(columns={'end_date': 'datetime'})\n",
    "df = df.set_index('datetime')"
   ]
  },
  {
   "cell_type": "code",
   "execution_count": 40,
   "id": "6ee94606",
   "metadata": {},
   "outputs": [
    {
     "name": "stdout",
     "output_type": "stream",
     "text": [
      "DatetimeIndex(['2003-07-11 06:55:23', '2003-09-05 06:57:16',\n",
      "               '2003-09-05 06:57:16', '2003-09-05 06:57:16',\n",
      "               '2003-09-05 06:57:16', '2003-09-05 06:57:16',\n",
      "               '2003-09-05 06:57:16', '2003-09-05 06:57:16',\n",
      "               '2003-09-05 06:57:36', '2003-09-11 06:47:48',\n",
      "               ...\n",
      "               '2009-07-24 09:48:31', '2009-07-29 16:01:38',\n",
      "               '2009-08-20 10:08:55', '2009-09-20 18:03:19',\n",
      "               '2009-09-23 09:26:37', '2009-09-23 09:26:37',\n",
      "               '2009-10-13 17:08:10', '2009-10-13 17:08:10',\n",
      "               '2009-10-13 17:08:10', '2009-10-13 17:08:10'],\n",
      "              dtype='datetime64[ns]', name='datetime', length=309, freq=None)\n"
     ]
    }
   ],
   "source": [
    "#check for duplicates\n",
    "print(df.index[df.index.duplicated()])"
   ]
  },
  {
   "cell_type": "code",
   "execution_count": 41,
   "id": "ed559105",
   "metadata": {},
   "outputs": [
    {
     "name": "stdout",
     "output_type": "stream",
     "text": [
      "DatetimeIndex([], dtype='datetime64[ns]', name='datetime', freq=None)\n"
     ]
    }
   ],
   "source": [
    "#remove duplicate indices and check again\n",
    "df = df[~df.index.duplicated(keep='first')]\n",
    "print(df.index[df.index.duplicated()])"
   ]
  },
  {
   "cell_type": "code",
   "execution_count": 42,
   "id": "2f19dfda",
   "metadata": {},
   "outputs": [
    {
     "data": {
      "text/html": [
       "<div>\n",
       "<style scoped>\n",
       "    .dataframe tbody tr th:only-of-type {\n",
       "        vertical-align: middle;\n",
       "    }\n",
       "\n",
       "    .dataframe tbody tr th {\n",
       "        vertical-align: top;\n",
       "    }\n",
       "\n",
       "    .dataframe thead th {\n",
       "        text-align: right;\n",
       "    }\n",
       "</style>\n",
       "<table border=\"1\" class=\"dataframe\">\n",
       "  <thead>\n",
       "    <tr style=\"text-align: right;\">\n",
       "      <th></th>\n",
       "      <th>open</th>\n",
       "      <th>high</th>\n",
       "      <th>low</th>\n",
       "      <th>close</th>\n",
       "      <th>volume</th>\n",
       "      <th>dollar_volume</th>\n",
       "    </tr>\n",
       "    <tr>\n",
       "      <th>datetime</th>\n",
       "      <th></th>\n",
       "      <th></th>\n",
       "      <th></th>\n",
       "      <th></th>\n",
       "      <th></th>\n",
       "      <th></th>\n",
       "    </tr>\n",
       "  </thead>\n",
       "  <tbody>\n",
       "    <tr>\n",
       "      <th>2003-07-01 03:16:58</th>\n",
       "      <td>1496.4</td>\n",
       "      <td>1574.0</td>\n",
       "      <td>767.5</td>\n",
       "      <td>971.9</td>\n",
       "      <td>1031</td>\n",
       "      <td>1003316.0</td>\n",
       "    </tr>\n",
       "    <tr>\n",
       "      <th>2003-07-01 06:32:13</th>\n",
       "      <td>972.0</td>\n",
       "      <td>973.2</td>\n",
       "      <td>971.1</td>\n",
       "      <td>971.3</td>\n",
       "      <td>1030</td>\n",
       "      <td>1001129.9</td>\n",
       "    </tr>\n",
       "    <tr>\n",
       "      <th>2003-07-01 07:44:30</th>\n",
       "      <td>971.3</td>\n",
       "      <td>972.0</td>\n",
       "      <td>967.6</td>\n",
       "      <td>968.1</td>\n",
       "      <td>1032</td>\n",
       "      <td>1001141.2</td>\n",
       "    </tr>\n",
       "    <tr>\n",
       "      <th>2003-07-01 16:25:20</th>\n",
       "      <td>968.0</td>\n",
       "      <td>982.4</td>\n",
       "      <td>960.5</td>\n",
       "      <td>982.2</td>\n",
       "      <td>1024</td>\n",
       "      <td>994588.6</td>\n",
       "    </tr>\n",
       "    <tr>\n",
       "      <th>2003-07-02 01:51:56</th>\n",
       "      <td>982.3</td>\n",
       "      <td>984.0</td>\n",
       "      <td>981.3</td>\n",
       "      <td>983.2</td>\n",
       "      <td>1026</td>\n",
       "      <td>1008342.4</td>\n",
       "    </tr>\n",
       "  </tbody>\n",
       "</table>\n",
       "</div>"
      ],
      "text/plain": [
       "                       open    high    low  close  volume  dollar_volume\n",
       "datetime                                                                \n",
       "2003-07-01 03:16:58  1496.4  1574.0  767.5  971.9    1031      1003316.0\n",
       "2003-07-01 06:32:13   972.0   973.2  971.1  971.3    1030      1001129.9\n",
       "2003-07-01 07:44:30   971.3   972.0  967.6  968.1    1032      1001141.2\n",
       "2003-07-01 16:25:20   968.0   982.4  960.5  982.2    1024       994588.6\n",
       "2003-07-02 01:51:56   982.3   984.0  981.3  983.2    1026      1008342.4"
      ]
     },
     "execution_count": 42,
     "metadata": {},
     "output_type": "execute_result"
    }
   ],
   "source": [
    "df.head()"
   ]
  },
  {
   "cell_type": "markdown",
   "id": "1c7f488d",
   "metadata": {},
   "source": [
    "### Form a Cumulative Series and Apply FFD"
   ]
  },
  {
   "cell_type": "markdown",
   "id": "73333415",
   "metadata": {},
   "source": [
    "#### FFD on cumulative Log prices"
   ]
  },
  {
   "cell_type": "code",
   "execution_count": null,
   "id": "f1e37c6d",
   "metadata": {},
   "outputs": [
    {
     "data": {
      "text/plain": [
       "Text(0.5, 1.0, 'Cumulative Log Price Series')"
      ]
     },
     "execution_count": 44,
     "metadata": {},
     "output_type": "execute_result"
    },
    {
     "data": {
      "image/png": "[encoded data removed]",
      "text/plain": [
       "<Figure size 640x480 with 1 Axes>"
      ]
     },
     "metadata": {},
     "output_type": "display_data"
    }
   ],
   "source": [
    "#calculate the cumulative log price series\n",
    "df['log_price_cumsum'] = np.log(df['close']).cumsum()\n",
    "plt.plot(df['log_price_cumsum'])\n",
    "plt.title('Cumulative Log Price Series')    "
   ]
  },
  {
   "cell_type": "code",
   "execution_count": 53,
   "id": "b18d9bf8",
   "metadata": {},
   "outputs": [
    {
     "name": "stdout",
     "output_type": "stream",
     "text": [
      "ADF Statistic for FFD Y with d=0.0: 1.3145 with p-value: 0.9967\n",
      "ADF Statistic for FFD Y with d=0.05: 1.9065 with p-value: 0.9985\n",
      "ADF Statistic for FFD Y with d=0.1: 1.7679 with p-value: 0.9983\n",
      "ADF Statistic for FFD Y with d=0.15: 1.5809 with p-value: 0.9978\n",
      "ADF Statistic for FFD Y with d=0.2: 1.7395 with p-value: 0.9982\n",
      "ADF Statistic for FFD Y with d=0.25: 1.6191 with p-value: 0.9979\n",
      "ADF Statistic for FFD Y with d=0.3: 1.7574 with p-value: 0.9983\n",
      "ADF Statistic for FFD Y with d=0.35: 2.0034 with p-value: 0.9987\n",
      "ADF Statistic for FFD Y with d=0.4: 2.2131 with p-value: 0.9989\n",
      "ADF Statistic for FFD Y with d=0.45: 2.529 with p-value: 0.9991\n",
      "ADF Statistic for FFD Y with d=0.5: 2.8312 with p-value: 1.0\n",
      "ADF Statistic for FFD Y with d=0.55: 3.1426 with p-value: 1.0\n",
      "ADF Statistic for FFD Y with d=0.6: 3.3739 with p-value: 1.0\n",
      "ADF Statistic for FFD Y with d=0.65: 3.4598 with p-value: 1.0\n",
      "ADF Statistic for FFD Y with d=0.7: 3.6183 with p-value: 1.0\n",
      "ADF Statistic for FFD Y with d=0.75: 3.7112 with p-value: 1.0\n",
      "ADF Statistic for FFD Y with d=0.8: 3.6337 with p-value: 1.0\n",
      "ADF Statistic for FFD Y with d=0.85: 3.6314 with p-value: 1.0\n",
      "ADF Statistic for FFD Y with d=0.9: 3.3707 with p-value: 1.0\n",
      "ADF Statistic for FFD Y with d=0.95: 2.9527 with p-value: 1.0\n",
      "ADF Statistic for FFD Y with d=1.0: 1.2257 with p-value: 0.9962\n",
      "ADF Statistic for FFD Y with d=1.05: -0.1272 with p-value: 0.9467\n",
      "ADF Statistic for FFD Y with d=1.1: 0.6677 with p-value: 0.9892\n",
      "ADF Statistic for FFD Y with d=1.15: 1.1849 with p-value: 0.9959\n",
      "ADF Statistic for FFD Y with d=1.2: 1.6379 with p-value: 0.998\n",
      "ADF Statistic for FFD Y with d=1.25: 2.0751 with p-value: 0.9988\n",
      "ADF Statistic for FFD Y with d=1.3: 2.4266 with p-value: 0.999\n",
      "ADF Statistic for FFD Y with d=1.35: 2.8058 with p-value: 1.0\n",
      "ADF Statistic for FFD Y with d=1.4: 3.0793 with p-value: 1.0\n",
      "ADF Statistic for FFD Y with d=1.45: 3.3457 with p-value: 1.0\n",
      "ADF Statistic for FFD Y with d=1.5: 3.5484 with p-value: 1.0\n",
      "ADF Statistic for FFD Y with d=1.55: 3.7229 with p-value: 1.0\n",
      "ADF Statistic for FFD Y with d=1.6: 3.8717 with p-value: 1.0\n",
      "ADF Statistic for FFD Y with d=1.65: 3.9613 with p-value: 1.0\n",
      "ADF Statistic for FFD Y with d=1.7: 4.0721 with p-value: 1.0\n",
      "ADF Statistic for FFD Y with d=1.75: 4.2306 with p-value: 1.0\n",
      "ADF Statistic for FFD Y with d=1.8: 4.203 with p-value: 1.0\n",
      "ADF Statistic for FFD Y with d=1.85: 4.25 with p-value: 1.0\n",
      "ADF Statistic for FFD Y with d=1.9: 3.8852 with p-value: 1.0\n",
      "ADF Statistic for FFD Y with d=1.95: 3.3604 with p-value: 1.0\n"
     ]
    }
   ],
   "source": [
    "#apply FFD and find the minium d value that makes the series stationary\n",
    "\n",
    "#parameters for FFD\n",
    "d = 0.0\n",
    "d_max = 2\n",
    "step = 0.05\n",
    "tau = 1e-5\n",
    "#get a series object from log_price_cumsum\n",
    "original_series = pd.DataFrame(df['log_price_cumsum'], columns=['log_price_cumsum'])\n",
    "\n",
    "while d <= d_max:\n",
    "    series_fd = fracDiff_FFD(original_series, d=d, thres=tau)\n",
    "    series_fd_col = series_fd.log_price_cumsum.dropna()\n",
    "    \n",
    "    #skip if the result of afd is empty\n",
    "    if len(series_fd_col) == 0:\n",
    "        # skip to next d\n",
    "        d += step\n",
    "        continue\n",
    "    \n",
    "    result_adf = adfuller(series_fd_col)\n",
    "    print(f'ADF Statistic for FFD Y with d={round(d,2)}: {round(result_adf[0],4)} with p-value: {round(result_adf[1],4)}')\n",
    "    \n",
    "    if result_adf[1] < 0.05:\n",
    "        print(f'Minimum d to get a p-val below 5% is {round(d,2)}')\n",
    "        break\n",
    "    \n",
    "    d += step\n"
   ]
  },
  {
   "cell_type": "markdown",
   "id": "1d8fcac0",
   "metadata": {},
   "source": [
    "A cumulative series or prices is extremely non-stationary --> FFD is not able to solve the issue\n",
    "\n",
    "Let's apply it on returns"
   ]
  },
  {
   "cell_type": "markdown",
   "id": "81a52ccf",
   "metadata": {},
   "source": [
    "#### FFD on log prices\n"
   ]
  },
  {
   "cell_type": "code",
   "execution_count": 54,
   "id": "2b7dc8a0",
   "metadata": {},
   "outputs": [
    {
     "data": {
      "text/plain": [
       "Text(0.5, 1.0, 'Log Price Series')"
      ]
     },
     "execution_count": 54,
     "metadata": {},
     "output_type": "execute_result"
    },
    {
     "data": {
      "image/png": "[encoded data removed]",
      "text/plain": [
       "<Figure size 640x480 with 1 Axes>"
      ]
     },
     "metadata": {},
     "output_type": "display_data"
    }
   ],
   "source": [
    "#calculate the cumulative log price series\n",
    "df['log_price'] = np.log(df['close'])\n",
    "plt.plot(df['log_price'])\n",
    "plt.title('Log Price Series')    "
   ]
  },
  {
   "cell_type": "code",
   "execution_count": 69,
   "id": "f7a223fc",
   "metadata": {},
   "outputs": [
    {
     "name": "stdout",
     "output_type": "stream",
     "text": [
      "ADF Statistic for FFD Y with d=0.0: 1.2212 with p-value: 0.9961\n",
      "ADF Statistic for FFD Y with d=0.05: 0.814 with p-value: 0.9919\n",
      "ADF Statistic for FFD Y with d=0.1: 0.3492 with p-value: 0.9795\n",
      "ADF Statistic for FFD Y with d=0.15: -0.2082 with p-value: 0.9375\n",
      "ADF Statistic for FFD Y with d=0.2: -0.8691 with p-value: 0.798\n",
      "ADF Statistic for FFD Y with d=0.25: -1.5863 with p-value: 0.4905\n",
      "ADF Statistic for FFD Y with d=0.3: -2.3953 with p-value: 0.1431\n",
      "ADF Statistic for FFD Y with d=0.35: -3.2389 with p-value: 0.0178\n",
      "Minimum d to get a p-val below 5% is 0.35\n"
     ]
    }
   ],
   "source": [
    "#apply FFD and find the minium d value that makes the series stationary\n",
    "\n",
    "#parameters for FFD\n",
    "d = 0.0\n",
    "d_max = 2\n",
    "step = 0.05\n",
    "tau = 1e-5\n",
    "#get a series object from log_price_cumsum\n",
    "original_series = pd.DataFrame(df['log_price'], columns=['log_price'])\n",
    "\n",
    "while d <= d_max:\n",
    "    series_fd = fracDiff_FFD(original_series, d=d, thres=tau)\n",
    "    series_fd_col = series_fd.log_price.dropna()\n",
    "    \n",
    "    #skip if the result of afd is empty\n",
    "    if len(series_fd_col) == 0:\n",
    "        # skip to next d\n",
    "        d += step\n",
    "        continue\n",
    "    \n",
    "    result_adf = adfuller(series_fd_col)\n",
    "    print(f'ADF Statistic for FFD Y with d={round(d,2)}: {round(result_adf[0],4)} with p-value: {round(result_adf[1],4)}')\n",
    "    \n",
    "    if result_adf[1] < 0.05:\n",
    "        print(f'Minimum d to get a p-val below 5% is {round(d,2)}')\n",
    "        break\n",
    "    \n",
    "    d += step\n",
    "\n",
    "d_optimal = d\n"
   ]
  },
  {
   "cell_type": "markdown",
   "id": "d8e05421",
   "metadata": {},
   "source": [
    "Prices are non-stationary as well (cumulative log price have one extra order of integration --> extremely non stationary) --> FFD is able to stationarize with d = 0.35\n",
    "\n",
    "Now we can check if memory has been preserved by computing the correlation"
   ]
  },
  {
   "cell_type": "code",
   "execution_count": 70,
   "id": "c86e9144",
   "metadata": {},
   "outputs": [
    {
     "name": "stdout",
     "output_type": "stream",
     "text": [
      "The min d to pass ADF test is 0.35\n"
     ]
    }
   ],
   "source": [
    "print(f'The min d to pass ADF test is {d_optimal}')"
   ]
  },
  {
   "cell_type": "code",
   "execution_count": 71,
   "id": "4d24b1cd",
   "metadata": {},
   "outputs": [],
   "source": [
    "#perform FFD with d_min such that ADF is passed\n",
    "series_fd = fracDiff_FFD(original_series, d=d_optimal, thres=tau)"
   ]
  },
  {
   "cell_type": "code",
   "execution_count": 72,
   "id": "cb78f59e",
   "metadata": {},
   "outputs": [
    {
     "name": "stdout",
     "output_type": "stream",
     "text": [
      "Correlation between FFD series and original series: 0.8390\n"
     ]
    }
   ],
   "source": [
    "#compute the correlation\n",
    "\n",
    "fd_col = series_fd['log_price'].dropna()\n",
    "#align original series to the same indices\n",
    "orig_col = original_series.loc[fd_col.index, 'log_price']\n",
    "correlation = orig_col.corr(fd_col)\n",
    "\n",
    "print(f\"Correlation between FFD series and original series: {correlation:.4f}\")\n"
   ]
  },
  {
   "cell_type": "markdown",
   "id": "17673339",
   "metadata": {},
   "source": [
    "A correlation of ~0.84 is not bad at all. This means that fractionally differencing with an order of d = 0.35 makes the series stationary while preserving quite a lot of the information (memory) that would otherwise being lost if fully fractioning."
   ]
  },
  {
   "cell_type": "code",
   "execution_count": null,
   "id": "0245000d",
   "metadata": {},
   "outputs": [
    {
     "name": "stdout",
     "output_type": "stream",
     "text": [
      "Correlation between FFD series and original series: 0.0321\n"
     ]
    }
   ],
   "source": [
    "correlation_full_frac = df.log_price.corr(df.log_price.diff())\n",
    "\n",
    "print(f\"Correlation between FFD series and original series: {correlation_full_frac:.4f}\")"
   ]
  },
  {
   "cell_type": "markdown",
   "id": "3bac4c4d",
   "metadata": {},
   "source": [
    "As you can see when fully fractionind (d=1) the correlation drops almost to zero --> all the stochastic memory is erased!"
   ]
  },
  {
   "cell_type": "markdown",
   "id": "cd9b0bd5",
   "metadata": {},
   "source": [
    "### NExt"
   ]
  },
  {
   "cell_type": "markdown",
   "id": "6b0a5d7a",
   "metadata": {},
   "source": []
  }
 ],
 "metadata": {
  "kernelspec": {
   "display_name": "qt_env",
   "language": "python",
   "name": "python3"
  },
  "language_info": {
   "codemirror_mode": {
    "name": "ipython",
    "version": 3
   },
   "file_extension": ".py",
   "mimetype": "text/x-python",
   "name": "python",
   "nbconvert_exporter": "python",
   "pygments_lexer": "ipython3",
   "version": "3.12.2"
  }
 },
 "nbformat": 4,
 "nbformat_minor": 5
}
