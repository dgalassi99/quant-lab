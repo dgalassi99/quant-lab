{
 "cells": [
  {
   "cell_type": "markdown",
   "id": "51aa65f6",
   "metadata": {},
   "source": [
    "# Sampling Weights"
   ]
  },
  {
   "cell_type": "markdown",
   "id": "74c08f70",
   "metadata": {},
   "source": [
    "## Libraries & Functions Import"
   ]
  },
  {
   "cell_type": "code",
   "execution_count": 40,
   "id": "862f16ee",
   "metadata": {},
   "outputs": [],
   "source": [
    "import sys\n",
    "import os\n",
    "import pandas as pd\n",
    "import numpy as np\n",
    "import matplotlib.pyplot as plt\n",
    "import datetime\n",
    "import seaborn as sns\n",
    "\n",
    "#import functions from my scripts and book scripts\n",
    "\n",
    "sys.path.append('../../scripts')\n",
    "from AFML_book_scripts import *\n",
    "from AFML_my_scripts import *"
   ]
  },
  {
   "cell_type": "markdown",
   "id": "2123b491",
   "metadata": {},
   "source": [
    "## Data Handling"
   ]
  },
  {
   "cell_type": "markdown",
   "id": "c5361311",
   "metadata": {},
   "source": [
    "### Import"
   ]
  },
  {
   "cell_type": "code",
   "execution_count": 21,
   "id": "95a6a2fd",
   "metadata": {},
   "outputs": [],
   "source": [
    "data = pd.read_csv('../../data/SP_futures_tick_data.csv')\n",
    "#combine 'date' and 'time' strings into one column\n",
    "datetime_str = data['date'] + ' ' + data['time']\n",
    "#convert the combined string to datetime format\n",
    "data['datetime'] = pd.to_datetime(datetime_str, errors='coerce')\n"
   ]
  },
  {
   "cell_type": "markdown",
   "id": "8fb39b5f",
   "metadata": {},
   "source": [
    "### Create Bars and Events"
   ]
  },
  {
   "cell_type": "code",
   "execution_count": 22,
   "id": "5e320e16",
   "metadata": {},
   "outputs": [
    {
     "name": "stdout",
     "output_type": "stream",
     "text": [
      "Now, data starts at 2019-01-01 17:01:44.013000 and ends at 2019-12-31 15:03:41.206000\n"
     ]
    }
   ],
   "source": [
    "#2019 data only to speed up testing\n",
    "\n",
    "data = data[data.datetime.dt.year >= 2019]\n",
    "#before 2020\n",
    "data = data[data.datetime.dt.year <= 2020]\n",
    "#drop date and time \n",
    "data = data.drop(['date','time'],axis=1)\n",
    "print(f'Now, data starts at {data.datetime.iloc[0]} and ends at {data.datetime.iloc[-1]}')\n",
    "data = data.reset_index()"
   ]
  },
  {
   "cell_type": "code",
   "execution_count": 25,
   "id": "1ac28f2f",
   "metadata": {},
   "outputs": [
    {
     "data": {
      "text/html": [
       "<div>\n",
       "<style scoped>\n",
       "    .dataframe tbody tr th:only-of-type {\n",
       "        vertical-align: middle;\n",
       "    }\n",
       "\n",
       "    .dataframe tbody tr th {\n",
       "        vertical-align: top;\n",
       "    }\n",
       "\n",
       "    .dataframe thead th {\n",
       "        text-align: right;\n",
       "    }\n",
       "</style>\n",
       "<table border=\"1\" class=\"dataframe\">\n",
       "  <thead>\n",
       "    <tr style=\"text-align: right;\">\n",
       "      <th></th>\n",
       "      <th>open</th>\n",
       "      <th>high</th>\n",
       "      <th>low</th>\n",
       "      <th>close</th>\n",
       "      <th>volume</th>\n",
       "      <th>daily_vol</th>\n",
       "    </tr>\n",
       "    <tr>\n",
       "      <th>datetime</th>\n",
       "      <th></th>\n",
       "      <th></th>\n",
       "      <th></th>\n",
       "      <th></th>\n",
       "      <th></th>\n",
       "      <th></th>\n",
       "    </tr>\n",
       "  </thead>\n",
       "  <tbody>\n",
       "    <tr>\n",
       "      <th>2019-01-03 08:06:25.211</th>\n",
       "      <td>2511.4</td>\n",
       "      <td>2519.0</td>\n",
       "      <td>2454.2</td>\n",
       "      <td>2487.0</td>\n",
       "      <td>505</td>\n",
       "      <td>NaN</td>\n",
       "    </tr>\n",
       "    <tr>\n",
       "      <th>2019-01-10 03:12:02.618</th>\n",
       "      <td>2487.0</td>\n",
       "      <td>2595.0</td>\n",
       "      <td>2439.0</td>\n",
       "      <td>2565.3</td>\n",
       "      <td>495</td>\n",
       "      <td>NaN</td>\n",
       "    </tr>\n",
       "    <tr>\n",
       "      <th>2019-01-17 07:59:30.327</th>\n",
       "      <td>2565.3</td>\n",
       "      <td>2626.0</td>\n",
       "      <td>2563.0</td>\n",
       "      <td>2606.2</td>\n",
       "      <td>500</td>\n",
       "      <td>0.010989</td>\n",
       "    </tr>\n",
       "    <tr>\n",
       "      <th>2019-01-24 03:55:36.130</th>\n",
       "      <td>2606.2</td>\n",
       "      <td>2677.2</td>\n",
       "      <td>2606.2</td>\n",
       "      <td>2644.5</td>\n",
       "      <td>500</td>\n",
       "      <td>0.009310</td>\n",
       "    </tr>\n",
       "    <tr>\n",
       "      <th>2019-02-05 05:21:23.412</th>\n",
       "      <td>2645.0</td>\n",
       "      <td>2728.0</td>\n",
       "      <td>2627.0</td>\n",
       "      <td>2727.8</td>\n",
       "      <td>500</td>\n",
       "      <td>0.009355</td>\n",
       "    </tr>\n",
       "  </tbody>\n",
       "</table>\n",
       "</div>"
      ],
      "text/plain": [
       "                           open    high     low   close  volume  daily_vol\n",
       "datetime                                                                  \n",
       "2019-01-03 08:06:25.211  2511.4  2519.0  2454.2  2487.0     505        NaN\n",
       "2019-01-10 03:12:02.618  2487.0  2595.0  2439.0  2565.3     495        NaN\n",
       "2019-01-17 07:59:30.327  2565.3  2626.0  2563.0  2606.2     500   0.010989\n",
       "2019-01-24 03:55:36.130  2606.2  2677.2  2606.2  2644.5     500   0.009310\n",
       "2019-02-05 05:21:23.412  2645.0  2728.0  2627.0  2727.8     500   0.009355"
      ]
     },
     "execution_count": 25,
     "metadata": {},
     "output_type": "execute_result"
    }
   ],
   "source": [
    "bars = VolumeBarsDfVectorized(data,volume_per_bar=500)\n",
    "bars = bars.rename(columns={'end_date':'datetime'})\n",
    "bars = bars.drop('start_date',axis=1)\n",
    "bars = bars.set_index('datetime')\n",
    "#calculate daily volatility and add it to the bars DataFrame\n",
    "bars['daily_vol'] = GetDailyVol(bars['close'], span0=100)\n",
    "bars.head()"
   ]
  },
  {
   "cell_type": "code",
   "execution_count": 26,
   "id": "0a27c535",
   "metadata": {},
   "outputs": [
    {
     "data": {
      "text/html": [
       "<div>\n",
       "<style scoped>\n",
       "    .dataframe tbody tr th:only-of-type {\n",
       "        vertical-align: middle;\n",
       "    }\n",
       "\n",
       "    .dataframe tbody tr th {\n",
       "        vertical-align: top;\n",
       "    }\n",
       "\n",
       "    .dataframe thead th {\n",
       "        text-align: right;\n",
       "    }\n",
       "</style>\n",
       "<table border=\"1\" class=\"dataframe\">\n",
       "  <thead>\n",
       "    <tr style=\"text-align: right;\">\n",
       "      <th></th>\n",
       "      <th>t1</th>\n",
       "      <th>trgt</th>\n",
       "      <th>side</th>\n",
       "    </tr>\n",
       "    <tr>\n",
       "      <th>datetime</th>\n",
       "      <th></th>\n",
       "      <th></th>\n",
       "      <th></th>\n",
       "    </tr>\n",
       "  </thead>\n",
       "  <tbody>\n",
       "    <tr>\n",
       "      <th>2019-01-03 08:06:25.211</th>\n",
       "      <td>2019-05-03 03:34:46.667</td>\n",
       "      <td>0.02</td>\n",
       "      <td>1</td>\n",
       "    </tr>\n",
       "    <tr>\n",
       "      <th>2019-01-10 03:12:02.618</th>\n",
       "      <td>2019-05-08 07:50:03.613</td>\n",
       "      <td>0.02</td>\n",
       "      <td>1</td>\n",
       "    </tr>\n",
       "    <tr>\n",
       "      <th>2019-01-17 07:59:30.327</th>\n",
       "      <td>2019-05-13 07:09:25.433</td>\n",
       "      <td>0.02</td>\n",
       "      <td>1</td>\n",
       "    </tr>\n",
       "    <tr>\n",
       "      <th>2019-01-24 03:55:36.130</th>\n",
       "      <td>2019-05-20 17:58:09.632</td>\n",
       "      <td>0.02</td>\n",
       "      <td>1</td>\n",
       "    </tr>\n",
       "    <tr>\n",
       "      <th>2019-02-05 05:21:23.412</th>\n",
       "      <td>2019-05-29 04:22:32.714</td>\n",
       "      <td>0.02</td>\n",
       "      <td>1</td>\n",
       "    </tr>\n",
       "  </tbody>\n",
       "</table>\n",
       "</div>"
      ],
      "text/plain": [
       "                                             t1  trgt  side\n",
       "datetime                                                   \n",
       "2019-01-03 08:06:25.211 2019-05-03 03:34:46.667  0.02     1\n",
       "2019-01-10 03:12:02.618 2019-05-08 07:50:03.613  0.02     1\n",
       "2019-01-17 07:59:30.327 2019-05-13 07:09:25.433  0.02     1\n",
       "2019-01-24 03:55:36.130 2019-05-20 17:58:09.632  0.02     1\n",
       "2019-02-05 05:21:23.412 2019-05-29 04:22:32.714  0.02     1"
      ]
     },
     "execution_count": 26,
     "metadata": {},
     "output_type": "execute_result"
    }
   ],
   "source": [
    "#here we label the entire dataset\n",
    "close = bars['close'] #closing prices series indexed by datetime\n",
    "events = pd.DataFrame(index = bars.close.index)\n",
    "events['t1'] = close.index.to_series().shift(-10) #set vert barrier 10 bars ahead\n",
    "target = 0.02 #2% fixed as target \n",
    "events['trgt'] = target #target calcualted by gettarget\n",
    "events['side'] = 1  #long only\n",
    "tpsl_here = (1,1) #symmetric positioning tp and sl\n",
    "events.head()"
   ]
  },
  {
   "cell_type": "markdown",
   "id": "418afc99",
   "metadata": {},
   "source": [
    "## NUMBER OF CONCURRENT LABELS"
   ]
  },
  {
   "cell_type": "code",
   "execution_count": 27,
   "id": "738e697b",
   "metadata": {},
   "outputs": [
    {
     "data": {
      "text/plain": [
       "datetime\n",
       "2019-01-03 08:06:25.211     1\n",
       "2019-01-10 03:12:02.618     2\n",
       "2019-01-17 07:59:30.327     3\n",
       "2019-01-24 03:55:36.130     4\n",
       "2019-02-05 05:21:23.412     5\n",
       "2019-02-19 02:47:39.099     6\n",
       "2019-03-04 02:48:55.404     7\n",
       "2019-03-14 20:43:19.748     8\n",
       "2019-03-28 02:05:05.213     9\n",
       "2019-04-12 05:39:02.208    10\n",
       "2019-05-03 03:34:46.667    11\n",
       "2019-05-08 07:50:03.613    11\n",
       "2019-05-13 07:09:25.433    11\n",
       "2019-05-20 17:58:09.632    11\n",
       "2019-05-29 04:22:32.714    11\n",
       "2019-06-04 03:00:19.705    11\n",
       "2019-06-18 03:42:59.329    11\n",
       "2019-07-03 05:00:02.360    11\n",
       "2019-07-31 01:15:58.479    11\n",
       "2019-08-05 17:05:33.515    11\n",
       "2019-08-08 17:30:22.278    11\n",
       "2019-08-15 06:31:42.298    11\n",
       "2019-08-23 07:14:51.447    11\n",
       "2019-08-27 06:08:24.058    11\n",
       "2019-09-05 06:00:17.144    11\n",
       "2019-09-25 04:10:54.709    11\n",
       "2019-10-09 07:37:17.869    11\n",
       "2019-10-21 08:12:34.852    11\n",
       "2019-11-24 17:46:13.195    11\n",
       "dtype: int64"
      ]
     },
     "execution_count": 27,
     "metadata": {},
     "output_type": "execute_result"
    }
   ],
   "source": [
    "t1 = events['t1']\n",
    "# Price bar timestamps\n",
    "closeIdx = bars.index\n",
    "# Molecule = all event start times\n",
    "molecule = t1.index\n",
    "\n",
    "# Step 1: Compute concurrent counts\n",
    "concurrent_counts = mpNumCoEvents(closeIdx, t1, molecule)\n",
    "concurrent_counts"
   ]
  },
  {
   "cell_type": "markdown",
   "id": "99bfc010",
   "metadata": {},
   "source": [
    "## AVERAGE UNIQUENESS OF A LABEL"
   ]
  },
  {
   "cell_type": "code",
   "execution_count": 28,
   "id": "b511e343",
   "metadata": {},
   "outputs": [
    {
     "data": {
      "text/plain": [
       "datetime\n",
       "2019-01-03 08:06:25.211    0.274534\n",
       "2019-01-10 03:12:02.618    0.191890\n",
       "2019-01-17 07:59:30.327    0.154700\n",
       "2019-01-24 03:55:36.130    0.132661\n",
       "2019-02-05 05:21:23.412    0.118198\n",
       "2019-02-19 02:47:39.099    0.108281\n",
       "2019-03-04 02:48:55.404    0.101394\n",
       "2019-03-14 20:43:19.748    0.096671\n",
       "2019-03-28 02:05:05.213    0.093572\n",
       "2019-04-12 05:39:02.208    0.091736\n",
       "2019-05-03 03:34:46.667    0.090909\n",
       "2019-05-08 07:50:03.613    0.090909\n",
       "2019-05-13 07:09:25.433    0.090909\n",
       "2019-05-20 17:58:09.632    0.090909\n",
       "2019-05-29 04:22:32.714    0.090909\n",
       "2019-06-04 03:00:19.705    0.090909\n",
       "2019-06-18 03:42:59.329    0.090909\n",
       "2019-07-03 05:00:02.360    0.090909\n",
       "2019-07-31 01:15:58.479    0.090909\n",
       "2019-08-05 17:05:33.515    0.090909\n",
       "2019-08-08 17:30:22.278    0.090909\n",
       "2019-08-15 06:31:42.298    0.090909\n",
       "2019-08-23 07:14:51.447    0.090909\n",
       "2019-08-27 06:08:24.058    0.090909\n",
       "2019-09-05 06:00:17.144    0.090909\n",
       "2019-09-25 04:10:54.709    0.090909\n",
       "2019-10-09 07:37:17.869    0.090909\n",
       "2019-10-21 08:12:34.852    0.090909\n",
       "2019-11-24 17:46:13.195    0.090909\n",
       "dtype: float64"
      ]
     },
     "execution_count": 28,
     "metadata": {},
     "output_type": "execute_result"
    }
   ],
   "source": [
    "avg_uniqueness = sampleTW(t1, concurrent_counts, molecule)\n",
    "avg_uniqueness"
   ]
  },
  {
   "cell_type": "markdown",
   "id": "2d36b7c0",
   "metadata": {},
   "source": [
    "## BAGGING CLASSIFIERS AND UNIQUENESS"
   ]
  },
  {
   "cell_type": "code",
   "execution_count": null,
   "id": "0c056d30",
   "metadata": {},
   "outputs": [],
   "source": [
    "indM = getIndMatrix(bars.index, t1)"
   ]
  },
  {
   "cell_type": "code",
   "execution_count": 32,
   "id": "829af5de",
   "metadata": {},
   "outputs": [
    {
     "data": {
      "text/html": [
       "<div>\n",
       "<style scoped>\n",
       "    .dataframe tbody tr th:only-of-type {\n",
       "        vertical-align: middle;\n",
       "    }\n",
       "\n",
       "    .dataframe tbody tr th {\n",
       "        vertical-align: top;\n",
       "    }\n",
       "\n",
       "    .dataframe thead th {\n",
       "        text-align: right;\n",
       "    }\n",
       "</style>\n",
       "<table border=\"1\" class=\"dataframe\">\n",
       "  <thead>\n",
       "    <tr style=\"text-align: right;\">\n",
       "      <th></th>\n",
       "      <th>0</th>\n",
       "      <th>1</th>\n",
       "      <th>2</th>\n",
       "      <th>3</th>\n",
       "      <th>4</th>\n",
       "      <th>5</th>\n",
       "      <th>6</th>\n",
       "      <th>7</th>\n",
       "      <th>8</th>\n",
       "      <th>9</th>\n",
       "      <th>...</th>\n",
       "      <th>19</th>\n",
       "      <th>20</th>\n",
       "      <th>21</th>\n",
       "      <th>22</th>\n",
       "      <th>23</th>\n",
       "      <th>24</th>\n",
       "      <th>25</th>\n",
       "      <th>26</th>\n",
       "      <th>27</th>\n",
       "      <th>28</th>\n",
       "    </tr>\n",
       "    <tr>\n",
       "      <th>datetime</th>\n",
       "      <th></th>\n",
       "      <th></th>\n",
       "      <th></th>\n",
       "      <th></th>\n",
       "      <th></th>\n",
       "      <th></th>\n",
       "      <th></th>\n",
       "      <th></th>\n",
       "      <th></th>\n",
       "      <th></th>\n",
       "      <th></th>\n",
       "      <th></th>\n",
       "      <th></th>\n",
       "      <th></th>\n",
       "      <th></th>\n",
       "      <th></th>\n",
       "      <th></th>\n",
       "      <th></th>\n",
       "      <th></th>\n",
       "      <th></th>\n",
       "      <th></th>\n",
       "    </tr>\n",
       "  </thead>\n",
       "  <tbody>\n",
       "    <tr>\n",
       "      <th>2019-01-03 08:06:25.211</th>\n",
       "      <td>1</td>\n",
       "      <td>0</td>\n",
       "      <td>0</td>\n",
       "      <td>0</td>\n",
       "      <td>0</td>\n",
       "      <td>0</td>\n",
       "      <td>0</td>\n",
       "      <td>0</td>\n",
       "      <td>0</td>\n",
       "      <td>0</td>\n",
       "      <td>...</td>\n",
       "      <td>0</td>\n",
       "      <td>0</td>\n",
       "      <td>0</td>\n",
       "      <td>0</td>\n",
       "      <td>0</td>\n",
       "      <td>0</td>\n",
       "      <td>0</td>\n",
       "      <td>0</td>\n",
       "      <td>0</td>\n",
       "      <td>0</td>\n",
       "    </tr>\n",
       "    <tr>\n",
       "      <th>2019-01-10 03:12:02.618</th>\n",
       "      <td>1</td>\n",
       "      <td>1</td>\n",
       "      <td>0</td>\n",
       "      <td>0</td>\n",
       "      <td>0</td>\n",
       "      <td>0</td>\n",
       "      <td>0</td>\n",
       "      <td>0</td>\n",
       "      <td>0</td>\n",
       "      <td>0</td>\n",
       "      <td>...</td>\n",
       "      <td>0</td>\n",
       "      <td>0</td>\n",
       "      <td>0</td>\n",
       "      <td>0</td>\n",
       "      <td>0</td>\n",
       "      <td>0</td>\n",
       "      <td>0</td>\n",
       "      <td>0</td>\n",
       "      <td>0</td>\n",
       "      <td>0</td>\n",
       "    </tr>\n",
       "    <tr>\n",
       "      <th>2019-01-17 07:59:30.327</th>\n",
       "      <td>1</td>\n",
       "      <td>1</td>\n",
       "      <td>1</td>\n",
       "      <td>0</td>\n",
       "      <td>0</td>\n",
       "      <td>0</td>\n",
       "      <td>0</td>\n",
       "      <td>0</td>\n",
       "      <td>0</td>\n",
       "      <td>0</td>\n",
       "      <td>...</td>\n",
       "      <td>0</td>\n",
       "      <td>0</td>\n",
       "      <td>0</td>\n",
       "      <td>0</td>\n",
       "      <td>0</td>\n",
       "      <td>0</td>\n",
       "      <td>0</td>\n",
       "      <td>0</td>\n",
       "      <td>0</td>\n",
       "      <td>0</td>\n",
       "    </tr>\n",
       "    <tr>\n",
       "      <th>2019-01-24 03:55:36.130</th>\n",
       "      <td>1</td>\n",
       "      <td>1</td>\n",
       "      <td>1</td>\n",
       "      <td>1</td>\n",
       "      <td>0</td>\n",
       "      <td>0</td>\n",
       "      <td>0</td>\n",
       "      <td>0</td>\n",
       "      <td>0</td>\n",
       "      <td>0</td>\n",
       "      <td>...</td>\n",
       "      <td>0</td>\n",
       "      <td>0</td>\n",
       "      <td>0</td>\n",
       "      <td>0</td>\n",
       "      <td>0</td>\n",
       "      <td>0</td>\n",
       "      <td>0</td>\n",
       "      <td>0</td>\n",
       "      <td>0</td>\n",
       "      <td>0</td>\n",
       "    </tr>\n",
       "    <tr>\n",
       "      <th>2019-02-05 05:21:23.412</th>\n",
       "      <td>1</td>\n",
       "      <td>1</td>\n",
       "      <td>1</td>\n",
       "      <td>1</td>\n",
       "      <td>1</td>\n",
       "      <td>0</td>\n",
       "      <td>0</td>\n",
       "      <td>0</td>\n",
       "      <td>0</td>\n",
       "      <td>0</td>\n",
       "      <td>...</td>\n",
       "      <td>0</td>\n",
       "      <td>0</td>\n",
       "      <td>0</td>\n",
       "      <td>0</td>\n",
       "      <td>0</td>\n",
       "      <td>0</td>\n",
       "      <td>0</td>\n",
       "      <td>0</td>\n",
       "      <td>0</td>\n",
       "      <td>0</td>\n",
       "    </tr>\n",
       "  </tbody>\n",
       "</table>\n",
       "<p>5 rows × 29 columns</p>\n",
       "</div>"
      ],
      "text/plain": [
       "                         0   1   2   3   4   5   6   7   8   9   ...  19  20  \\\n",
       "datetime                                                         ...           \n",
       "2019-01-03 08:06:25.211   1   0   0   0   0   0   0   0   0   0  ...   0   0   \n",
       "2019-01-10 03:12:02.618   1   1   0   0   0   0   0   0   0   0  ...   0   0   \n",
       "2019-01-17 07:59:30.327   1   1   1   0   0   0   0   0   0   0  ...   0   0   \n",
       "2019-01-24 03:55:36.130   1   1   1   1   0   0   0   0   0   0  ...   0   0   \n",
       "2019-02-05 05:21:23.412   1   1   1   1   1   0   0   0   0   0  ...   0   0   \n",
       "\n",
       "                         21  22  23  24  25  26  27  28  \n",
       "datetime                                                 \n",
       "2019-01-03 08:06:25.211   0   0   0   0   0   0   0   0  \n",
       "2019-01-10 03:12:02.618   0   0   0   0   0   0   0   0  \n",
       "2019-01-17 07:59:30.327   0   0   0   0   0   0   0   0  \n",
       "2019-01-24 03:55:36.130   0   0   0   0   0   0   0   0  \n",
       "2019-02-05 05:21:23.412   0   0   0   0   0   0   0   0  \n",
       "\n",
       "[5 rows x 29 columns]"
      ]
     },
     "execution_count": 32,
     "metadata": {},
     "output_type": "execute_result"
    }
   ],
   "source": [
    "indM.head()"
   ]
  },
  {
   "cell_type": "code",
   "execution_count": 33,
   "id": "a1ee3563",
   "metadata": {},
   "outputs": [
    {
     "data": {
      "text/plain": [
       "0    0.274534\n",
       "1    0.191890\n",
       "2    0.154700\n",
       "3    0.132661\n",
       "4    0.118198\n",
       "dtype: float64"
      ]
     },
     "execution_count": 33,
     "metadata": {},
     "output_type": "execute_result"
    }
   ],
   "source": [
    "avg_uniqueness = getAvgUniqueness(indM)\n",
    "avg_uniqueness.head()"
   ]
  },
  {
   "cell_type": "code",
   "execution_count": 35,
   "id": "fe9c680f",
   "metadata": {},
   "outputs": [
    {
     "data": {
      "text/plain": [
       "[np.int64(23),\n",
       " np.int64(28),\n",
       " np.int64(20),\n",
       " np.int64(0),\n",
       " np.int64(6),\n",
       " np.int64(16),\n",
       " np.int64(8),\n",
       " np.int64(19),\n",
       " np.int64(8),\n",
       " np.int64(7),\n",
       " np.int64(15),\n",
       " np.int64(2),\n",
       " np.int64(7),\n",
       " np.int64(1),\n",
       " np.int64(20),\n",
       " np.int64(0),\n",
       " np.int64(12),\n",
       " np.int64(23),\n",
       " np.int64(20),\n",
       " np.int64(13),\n",
       " np.int64(16),\n",
       " np.int64(7),\n",
       " np.int64(21),\n",
       " np.int64(9),\n",
       " np.int64(8),\n",
       " np.int64(21),\n",
       " np.int64(6),\n",
       " np.int64(8),\n",
       " np.int64(16)]"
      ]
     },
     "execution_count": 35,
     "metadata": {},
     "output_type": "execute_result"
    }
   ],
   "source": [
    "phi = seqBootstrap(indM)\n",
    "phi"
   ]
  },
  {
   "cell_type": "code",
   "execution_count": 36,
   "id": "51b718af",
   "metadata": {},
   "outputs": [
    {
     "name": "stdout",
     "output_type": "stream",
     "text": [
      "0     2\n",
      "2     6\n",
      "3     4\n",
      "4     8\n",
      "5     8\n",
      "7    11\n",
      "dtype: int64\n"
     ]
    }
   ],
   "source": [
    "def getRndT1(numObs, numBars, maxH):\n",
    "    \"\"\"\n",
    "    Generate a random t1 Series for numObs observations.\n",
    "    Each observation starts at a random bar and spans a random number of bars.\n",
    "\n",
    "    Returns a sorted pandas Series: index = start bar (t0), value = end bar (t1)\n",
    "    \"\"\"\n",
    "    t1 = pd.Series(dtype=int)\n",
    "    for _ in range(numObs):\n",
    "        ix = np.random.randint(0, numBars)               # random start bar\n",
    "        val = ix + np.random.randint(1, maxH+1)         # end bar (span at least 1)\n",
    "        t1.loc[ix] = val\n",
    "    return t1.sort_index()\n",
    "\n",
    "# Example usage:\n",
    "rnd_t1 = getRndT1(numObs=10, numBars=10, maxH=4)\n",
    "print(rnd_t1)\n"
   ]
  },
  {
   "cell_type": "code",
   "execution_count": null,
   "id": "b5524f5f",
   "metadata": {},
   "outputs": [],
   "source": [
    "results = [auxMC(numObs=10, numBars=30, maxH=4) for _ in range(200)]"
   ]
  },
  {
   "cell_type": "code",
   "execution_count": null,
   "id": "84797c3c",
   "metadata": {},
   "outputs": [
    {
     "data": {
      "image/png": "[encoded data removed]",
      "text/plain": [
       "<Figure size 1000x600 with 1 Axes>"
      ]
     },
     "metadata": {},
     "output_type": "display_data"
    }
   ],
   "source": [
    "df = pd.DataFrame(results)\n",
    "\n",
    "# Plot distributions\n",
    "plt.figure(figsize=(10,6))\n",
    "sns.histplot(df['stdU'], color='blue', label='Standard bootstrap', kde=True, stat=\"density\", bins=50)\n",
    "sns.histplot(df['seqU'], color='orange', label='Sequential bootstrap', kde=True, stat=\"density\", bins=50)\n",
    "plt.xlabel('Average Uniqueness')\n",
    "plt.ylabel('Density')\n",
    "plt.title('Distribution of Standard vs Sequential Bootstrap Uniqueness')\n",
    "plt.legend()\n",
    "plt.show()"
   ]
  },
  {
   "cell_type": "markdown",
   "id": "f107fb36",
   "metadata": {},
   "source": [
    "Observe how the uniqueness is shifted to the right when applying sequential boostrap!"
   ]
  },
  {
   "cell_type": "markdown",
   "id": "41891f8a",
   "metadata": {},
   "source": [
    "## RETURN ATTRIBUTION"
   ]
  },
  {
   "cell_type": "code",
   "execution_count": null,
   "id": "7ced9634",
   "metadata": {},
   "outputs": [
    {
     "name": "stdout",
     "output_type": "stream",
     "text": [
      "datetime\n",
      "2019-01-03 08:06:25.211    0.169674\n",
      "2019-01-10 03:12:02.618    0.163276\n",
      "2019-01-17 07:59:30.327    0.091019\n",
      "2019-01-24 03:55:36.130    0.069501\n",
      "2019-02-05 05:21:23.412    0.044861\n",
      "2019-02-19 02:47:39.099    0.014502\n",
      "2019-03-04 02:48:55.404    0.022491\n",
      "2019-03-14 20:43:19.748    0.024418\n",
      "2019-03-28 02:05:05.213    0.028430\n",
      "2019-04-12 05:39:02.208    0.001688\n",
      "2019-05-03 03:34:46.667    0.002006\n",
      "2019-05-08 07:50:03.613    0.010432\n",
      "2019-05-13 07:09:25.433    0.004021\n",
      "2019-05-20 17:58:09.632    0.006486\n",
      "2019-05-29 04:22:32.714    0.015692\n",
      "2019-06-04 03:00:19.705    0.023881\n",
      "2019-06-18 03:42:59.329    0.021551\n",
      "2019-07-03 05:00:02.360    0.012393\n",
      "2019-07-31 01:15:58.479    0.016949\n",
      "2019-08-05 17:05:33.515    0.012669\n",
      "2019-08-08 17:30:22.278    0.043944\n",
      "2019-08-15 06:31:42.298    0.026002\n",
      "2019-08-23 07:14:51.447    0.035200\n",
      "2019-08-27 06:08:24.058    0.027145\n",
      "2019-09-05 06:00:17.144    0.030119\n",
      "2019-09-25 04:10:54.709    0.019701\n",
      "2019-10-09 07:37:17.869    0.020429\n",
      "2019-10-21 08:12:34.852    0.026378\n",
      "2019-11-24 17:46:13.195    0.015143\n",
      "dtype: float64\n"
     ]
    }
   ],
   "source": [
    "weights = sampleW(t1, concurrent_counts, bars.close, molecule)\n",
    "print(weights)"
   ]
  },
  {
   "cell_type": "code",
   "execution_count": 46,
   "id": "60acf2ed",
   "metadata": {},
   "outputs": [
    {
     "name": "stdout",
     "output_type": "stream",
     "text": [
      "1.0 0.0\n",
      "0.75 0.000946969696969697\n",
      "0.5 0.001893939393939394\n",
      "0.09999999999999998 0.0034090909090909094\n",
      "0.0 0.003787878787878788\n",
      "-0.11111111111111116 0.004208754208754209\n",
      "-1.0 0.007575757575757576\n",
      "-3.0 0.015151515151515152\n"
     ]
    },
    {
     "data": {
      "image/png": "[encoded data removed]",
      "text/plain": [
       "<Figure size 800x500 with 1 Axes>"
      ]
     },
     "metadata": {},
     "output_type": "display_data"
    }
   ],
   "source": [
    "c_values = [1.0, 0.75, 0.5, 0.1, 0.0,-0.1, -0.5,-0.75]\n",
    "plt.figure(figsize=(8,5))\n",
    "\n",
    "\n",
    "for c in c_values:\n",
    "    decayed = getTimeDecay(concurrent_counts, clfLastW=c)\n",
    "    plt.plot(decayed.index, decayed.values, label=f\"c={c}\")\n",
    "\n",
    "plt.title(\"Time Decay of Weights for Different c values\")\n",
    "plt.xlabel(\"Observation Index\")\n",
    "plt.ylabel(\"Decayed Weight\")\n",
    "plt.legend()\n",
    "plt.grid(True)\n",
    "plt.show()"
   ]
  },
  {
   "cell_type": "code",
   "execution_count": null,
   "id": "2b146b12",
   "metadata": {},
   "outputs": [],
   "source": []
  }
 ],
 "metadata": {
  "kernelspec": {
   "display_name": "qt_env",
   "language": "python",
   "name": "python3"
  },
  "language_info": {
   "codemirror_mode": {
    "name": "ipython",
    "version": 3
   },
   "file_extension": ".py",
   "mimetype": "text/x-python",
   "name": "python",
   "nbconvert_exporter": "python",
   "pygments_lexer": "ipython3",
   "version": "3.12.2"
  }
 },
 "nbformat": 4,
 "nbformat_minor": 5
}
