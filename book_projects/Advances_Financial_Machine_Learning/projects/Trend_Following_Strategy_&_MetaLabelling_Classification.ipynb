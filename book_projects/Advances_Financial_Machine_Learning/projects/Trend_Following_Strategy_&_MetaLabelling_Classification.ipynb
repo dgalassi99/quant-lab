{
 "cells": [
  {
   "cell_type": "markdown",
   "id": "3811f2b7",
   "metadata": {},
   "source": [
    "# Classification using Meta Labelling and a Trend Following Strategy"
   ]
  },
  {
   "cell_type": "markdown",
   "id": "c03b5795",
   "metadata": {},
   "source": [
    "## Part 1: Crossing Moving Avergaes as Primitive Signal Generator"
   ]
  },
  {
   "cell_type": "markdown",
   "id": "d7962867",
   "metadata": {},
   "source": [
    "This notebook develops Exercise 3.4 proposed in AFML\n",
    "\n",
    "1. Develop a trend-following strategy (eg. crossing MAs) to get the side of each possible trade\n",
    "2. Derive metalabels for an asymmetric position (2,1) and a daily vertical barrier. The target has to be the daily standard deviation.\n",
    "3. Train a random forest (classifier) to decide wheater to trade or not {0,1}. Note the exogenous primary model will indeed decide the side {-1,1}"
   ]
  },
  {
   "cell_type": "markdown",
   "id": "555691c2",
   "metadata": {},
   "source": [
    "For this specific application I could not find futures data with timeframes lower than daily. We will spice it up with my lovely BTC 1h timeframe dataset spanning from 2018 to 2025. \n",
    "\n",
    "The dataset is continous as crypto trade 24/7 and will be of around 60k observations (manageble size).\n",
    "\n",
    "let's DIVE IN!"
   ]
  },
  {
   "cell_type": "code",
   "execution_count": 2,
   "id": "a6a1b923",
   "metadata": {},
   "outputs": [],
   "source": [
    "#general purpose imports\n",
    "import sys\n",
    "import os\n",
    "import pandas as pd\n",
    "import numpy as np\n",
    "import matplotlib.pyplot as plt\n",
    "import datetime\n",
    "from pathlib import Path\n",
    "from sklearn.model_selection import TimeSeriesSplit, train_test_split, RandomizedSearchCV, ParameterSampler\n",
    "from sklearn.ensemble import RandomForestClassifier\n",
    "from sklearn.metrics import precision_recall_fscore_support, roc_auc_score\n",
    "\n",
    "#specific imports\n",
    "sys.path.append('../scripts')\n",
    "from AFML_book_scripts import *\n",
    "from AFML_my_scripts import *"
   ]
  },
  {
   "cell_type": "markdown",
   "id": "992656f3",
   "metadata": {},
   "source": [
    "### Data"
   ]
  },
  {
   "cell_type": "markdown",
   "id": "492be734",
   "metadata": {},
   "source": [
    "#### Import and Check"
   ]
  },
  {
   "cell_type": "code",
   "execution_count": 3,
   "id": "bdba8bb1",
   "metadata": {},
   "outputs": [
    {
     "data": {
      "text/html": [
       "<div>\n",
       "<style scoped>\n",
       "    .dataframe tbody tr th:only-of-type {\n",
       "        vertical-align: middle;\n",
       "    }\n",
       "\n",
       "    .dataframe tbody tr th {\n",
       "        vertical-align: top;\n",
       "    }\n",
       "\n",
       "    .dataframe thead th {\n",
       "        text-align: right;\n",
       "    }\n",
       "</style>\n",
       "<table border=\"1\" class=\"dataframe\">\n",
       "  <thead>\n",
       "    <tr style=\"text-align: right;\">\n",
       "      <th></th>\n",
       "      <th>open</th>\n",
       "      <th>high</th>\n",
       "      <th>low</th>\n",
       "      <th>close</th>\n",
       "      <th>volume</th>\n",
       "    </tr>\n",
       "    <tr>\n",
       "      <th>timestamp</th>\n",
       "      <th></th>\n",
       "      <th></th>\n",
       "      <th></th>\n",
       "      <th></th>\n",
       "      <th></th>\n",
       "    </tr>\n",
       "  </thead>\n",
       "  <tbody>\n",
       "    <tr>\n",
       "      <th>2018-01-01 01:00:00</th>\n",
       "      <td>13715.65</td>\n",
       "      <td>13715.65</td>\n",
       "      <td>13400.01</td>\n",
       "      <td>13529.01</td>\n",
       "      <td>443.356199</td>\n",
       "    </tr>\n",
       "    <tr>\n",
       "      <th>2018-01-01 02:00:00</th>\n",
       "      <td>13528.99</td>\n",
       "      <td>13595.89</td>\n",
       "      <td>13155.38</td>\n",
       "      <td>13203.06</td>\n",
       "      <td>383.697006</td>\n",
       "    </tr>\n",
       "    <tr>\n",
       "      <th>2018-01-01 03:00:00</th>\n",
       "      <td>13203.00</td>\n",
       "      <td>13418.43</td>\n",
       "      <td>13200.00</td>\n",
       "      <td>13330.18</td>\n",
       "      <td>429.064572</td>\n",
       "    </tr>\n",
       "    <tr>\n",
       "      <th>2018-01-01 04:00:00</th>\n",
       "      <td>13330.26</td>\n",
       "      <td>13611.27</td>\n",
       "      <td>13290.00</td>\n",
       "      <td>13410.03</td>\n",
       "      <td>420.087030</td>\n",
       "    </tr>\n",
       "    <tr>\n",
       "      <th>2018-01-01 05:00:00</th>\n",
       "      <td>13434.98</td>\n",
       "      <td>13623.29</td>\n",
       "      <td>13322.15</td>\n",
       "      <td>13601.01</td>\n",
       "      <td>340.807329</td>\n",
       "    </tr>\n",
       "  </tbody>\n",
       "</table>\n",
       "</div>"
      ],
      "text/plain": [
       "                         open      high       low     close      volume\n",
       "timestamp                                                              \n",
       "2018-01-01 01:00:00  13715.65  13715.65  13400.01  13529.01  443.356199\n",
       "2018-01-01 02:00:00  13528.99  13595.89  13155.38  13203.06  383.697006\n",
       "2018-01-01 03:00:00  13203.00  13418.43  13200.00  13330.18  429.064572\n",
       "2018-01-01 04:00:00  13330.26  13611.27  13290.00  13410.03  420.087030\n",
       "2018-01-01 05:00:00  13434.98  13623.29  13322.15  13601.01  340.807329"
      ]
     },
     "execution_count": 3,
     "metadata": {},
     "output_type": "execute_result"
    }
   ],
   "source": [
    "#import data\n",
    "data = pd.read_csv('../data/btc_1h_data_2018_to_2025.csv')\n",
    "#dataframe them\n",
    "df = pd.DataFrame(data)\n",
    "#keep only colums we need\n",
    "df = df[['Close time', 'Open', 'High', 'Low', 'Close', 'Volume']]\n",
    "#rename the columns\n",
    "df = df.rename(columns={\n",
    "    'Close time': 'timestamp',\n",
    "    'Open': 'open',\n",
    "    'High': 'high',\n",
    "    'Low': 'low',\n",
    "    'Close': 'close',\n",
    "    'Volume': 'volume'\n",
    "})\n",
    "#round the time to the nearest hour (it like 59 mminutes, 59 seconds and 999 milliseconds --> 1 hour)\n",
    "# and transform the timestamp to datetime\n",
    "df = df.set_index(pd.to_datetime(df['timestamp']))\n",
    "# set the index to the timestamp and drop the original timestamp column\n",
    "df = df.drop(columns=['timestamp'])\n",
    "df.index = df.index.round('H')\n",
    "df.head()"
   ]
  },
  {
   "cell_type": "code",
   "execution_count": 4,
   "id": "c81592ef",
   "metadata": {},
   "outputs": [
    {
     "name": "stdout",
     "output_type": "stream",
     "text": [
      "Missing values in the dataframe: 0\n",
      "Duplicate rows in the dataframe: 0\n",
      "Data types of the columns:\n",
      "open      float64\n",
      "high      float64\n",
      "low       float64\n",
      "close     float64\n",
      "volume    float64\n",
      "dtype: object\n",
      "Main statistics of the dataframe\n"
     ]
    },
    {
     "data": {
      "text/html": [
       "<div>\n",
       "<style scoped>\n",
       "    .dataframe tbody tr th:only-of-type {\n",
       "        vertical-align: middle;\n",
       "    }\n",
       "\n",
       "    .dataframe tbody tr th {\n",
       "        vertical-align: top;\n",
       "    }\n",
       "\n",
       "    .dataframe thead th {\n",
       "        text-align: right;\n",
       "    }\n",
       "</style>\n",
       "<table border=\"1\" class=\"dataframe\">\n",
       "  <thead>\n",
       "    <tr style=\"text-align: right;\">\n",
       "      <th></th>\n",
       "      <th>open</th>\n",
       "      <th>high</th>\n",
       "      <th>low</th>\n",
       "      <th>close</th>\n",
       "      <th>volume</th>\n",
       "    </tr>\n",
       "  </thead>\n",
       "  <tbody>\n",
       "    <tr>\n",
       "      <th>count</th>\n",
       "      <td>64246.000000</td>\n",
       "      <td>64246.000000</td>\n",
       "      <td>64246.000000</td>\n",
       "      <td>64246.000000</td>\n",
       "      <td>64246.000000</td>\n",
       "    </tr>\n",
       "    <tr>\n",
       "      <th>mean</th>\n",
       "      <td>31051.036873</td>\n",
       "      <td>31189.717382</td>\n",
       "      <td>30905.784666</td>\n",
       "      <td>31052.287485</td>\n",
       "      <td>2899.294781</td>\n",
       "    </tr>\n",
       "    <tr>\n",
       "      <th>std</th>\n",
       "      <td>25503.916438</td>\n",
       "      <td>25605.076599</td>\n",
       "      <td>25400.640074</td>\n",
       "      <td>25505.037132</td>\n",
       "      <td>4097.290365</td>\n",
       "    </tr>\n",
       "    <tr>\n",
       "      <th>min</th>\n",
       "      <td>3172.620000</td>\n",
       "      <td>3184.750000</td>\n",
       "      <td>3156.260000</td>\n",
       "      <td>3172.050000</td>\n",
       "      <td>0.000000</td>\n",
       "    </tr>\n",
       "    <tr>\n",
       "      <th>25%</th>\n",
       "      <td>9174.257500</td>\n",
       "      <td>9210.000000</td>\n",
       "      <td>9141.062500</td>\n",
       "      <td>9174.575000</td>\n",
       "      <td>936.093341</td>\n",
       "    </tr>\n",
       "    <tr>\n",
       "      <th>50%</th>\n",
       "      <td>23792.930000</td>\n",
       "      <td>23895.065000</td>\n",
       "      <td>23684.615000</td>\n",
       "      <td>23794.135000</td>\n",
       "      <td>1603.616266</td>\n",
       "    </tr>\n",
       "    <tr>\n",
       "      <th>75%</th>\n",
       "      <td>46636.522500</td>\n",
       "      <td>46883.825000</td>\n",
       "      <td>46346.672500</td>\n",
       "      <td>46639.797500</td>\n",
       "      <td>3061.447620</td>\n",
       "    </tr>\n",
       "    <tr>\n",
       "      <th>max</th>\n",
       "      <td>108320.000000</td>\n",
       "      <td>109588.000000</td>\n",
       "      <td>107780.510000</td>\n",
       "      <td>108320.010000</td>\n",
       "      <td>137207.188600</td>\n",
       "    </tr>\n",
       "  </tbody>\n",
       "</table>\n",
       "</div>"
      ],
      "text/plain": [
       "                open           high            low          close  \\\n",
       "count   64246.000000   64246.000000   64246.000000   64246.000000   \n",
       "mean    31051.036873   31189.717382   30905.784666   31052.287485   \n",
       "std     25503.916438   25605.076599   25400.640074   25505.037132   \n",
       "min      3172.620000    3184.750000    3156.260000    3172.050000   \n",
       "25%      9174.257500    9210.000000    9141.062500    9174.575000   \n",
       "50%     23792.930000   23895.065000   23684.615000   23794.135000   \n",
       "75%     46636.522500   46883.825000   46346.672500   46639.797500   \n",
       "max    108320.000000  109588.000000  107780.510000  108320.010000   \n",
       "\n",
       "              volume  \n",
       "count   64246.000000  \n",
       "mean     2899.294781  \n",
       "std      4097.290365  \n",
       "min         0.000000  \n",
       "25%       936.093341  \n",
       "50%      1603.616266  \n",
       "75%      3061.447620  \n",
       "max    137207.188600  "
      ]
     },
     "execution_count": 4,
     "metadata": {},
     "output_type": "execute_result"
    }
   ],
   "source": [
    "#before going on lets check if we have any missing values\n",
    "print(f\"Missing values in the dataframe: {df.isnull().sum().sum()}\")\n",
    "#check if we have any duplicate rows\n",
    "print(f\"Duplicate rows in the dataframe: {df.duplicated().sum()}\")\n",
    "#check the data types of the columns\n",
    "print(f\"Data types of the columns:\\n{df.dtypes}\")\n",
    "#check the main statistics of the dataframe\n",
    "print(\"Main statistics of the dataframe\")\n",
    "df.describe()"
   ]
  },
  {
   "cell_type": "markdown",
   "id": "73d18b9e",
   "metadata": {},
   "source": [
    "#### Statistical/Microstructure Consideration"
   ]
  },
  {
   "cell_type": "markdown",
   "id": "02898d47",
   "metadata": {},
   "source": [
    "**IMPORTANT COMMENT!!!**\n",
    "\n",
    "Here we have two options:\n",
    "1. Keep the data in this format --> time bars --> much easier to work with \n",
    "2. Transform the data into volume/dollar bars --> better statistical properties but messier to work with\n",
    "\n",
    "So which one shall we pick?\n",
    "\n",
    "Normally speaking volume/dollars bars are better because they have better statistical properties:\n",
    "- Activity normalization (heteroskedasticity) --> grouping by vol/dol removes activity peaks and dumps \n",
    "- Greater microstrucutre information\n",
    "- Less noisy for meta-labelling\n",
    "\n",
    "This is true and stated. BUT... here we deal with cryptos... so what?\n",
    "\n",
    "Well I expect that activity is more spread along the hours (always open market) hence this effect should be already weaker. We can verify it and eventually (if needed) also work with a logaritmic transformation."
   ]
  },
  {
   "cell_type": "code",
   "execution_count": 5,
   "id": "f636d855",
   "metadata": {},
   "outputs": [
    {
     "data": {
      "image/png": "[encoded data removed]",
      "text/plain": [
       "<Figure size 1400x1000 with 2 Axes>"
      ]
     },
     "metadata": {},
     "output_type": "display_data"
    }
   ],
   "source": [
    "df['hour'] = df.index.hour\n",
    "df['log_volume'] = np.log(df['volume'] + 1)  # Adding 1 to avoid log(0)\n",
    "hourly_mean_volume = df.groupby('hour')['volume'].mean()\n",
    "hourly_std_volume = df.groupby('hour')['volume'].std()\n",
    "hourly_mean_log_volume = df.groupby('hour')['log_volume'].mean()\n",
    "hourly_std_log_volume = df.groupby('hour')['log_volume'].std()\n",
    "\n",
    "#create a grid for the plots\n",
    "fig, axs = plt.subplots(2, 1, figsize=(14, 10))\n",
    "# Plotting mean and std deviation of volume\n",
    "axs[0].plot(hourly_mean_volume, label='Mean Volume', marker='o', color='blue')\n",
    "axs[0].fill_between(hourly_mean_volume.index,\n",
    "                 hourly_mean_volume - hourly_std_volume, \n",
    "                 hourly_mean_volume + hourly_std_volume, \n",
    "                 color='navy', alpha=0.2, label='Std Dev')\n",
    "# Plotting mean and std deviation of log volume\n",
    "axs[1].plot(hourly_mean_log_volume, label='Mean Log Volume', marker='o', color='red')\n",
    "axs[1].fill_between(hourly_mean_log_volume.index,\n",
    "                 hourly_mean_log_volume - hourly_std_log_volume, \n",
    "                 hourly_mean_log_volume + hourly_std_log_volume, \n",
    "                 color='firebrick', alpha=0.2, label='Std Dev')\n",
    "\n",
    "# Setting titles and labels\n",
    "axs[0].set_title('Mean and Std Deviation of Volume by Hour')    \n",
    "axs[0].set_xlabel('Hour of Day')\n",
    "axs[0].set_ylabel('Volume')\n",
    "axs[0].legend()\n",
    "axs[1].set_title('Mean and Std Deviation of Log Volume by Hour')    \n",
    "axs[1].set_xlabel('Hour of Day')\n",
    "axs[1].set_ylabel('Log Volume')\n",
    "axs[1].legend()\n",
    "plt.tight_layout()\n",
    "plt.show()"
   ]
  },
  {
   "cell_type": "markdown",
   "id": "b0930cb1",
   "metadata": {},
   "source": [
    "**RESULTS?**\n",
    "\n",
    "I don't see a clear pattern here. Other than a peak occurring around 3pm the volume is quite steady and the log transormation is not eveually needed as the volume distribution per hour of the day is quite smooth.\n",
    "\n",
    "--> For this analysis I consider my hypothesis quite reasonable --> we can use hourly tick data"
   ]
  },
  {
   "cell_type": "code",
   "execution_count": 6,
   "id": "e8950c10",
   "metadata": {},
   "outputs": [
    {
     "data": {
      "text/html": [
       "<div>\n",
       "<style scoped>\n",
       "    .dataframe tbody tr th:only-of-type {\n",
       "        vertical-align: middle;\n",
       "    }\n",
       "\n",
       "    .dataframe tbody tr th {\n",
       "        vertical-align: top;\n",
       "    }\n",
       "\n",
       "    .dataframe thead th {\n",
       "        text-align: right;\n",
       "    }\n",
       "</style>\n",
       "<table border=\"1\" class=\"dataframe\">\n",
       "  <thead>\n",
       "    <tr style=\"text-align: right;\">\n",
       "      <th></th>\n",
       "      <th>open</th>\n",
       "      <th>high</th>\n",
       "      <th>low</th>\n",
       "      <th>close</th>\n",
       "      <th>volume</th>\n",
       "    </tr>\n",
       "    <tr>\n",
       "      <th>timestamp</th>\n",
       "      <th></th>\n",
       "      <th></th>\n",
       "      <th></th>\n",
       "      <th></th>\n",
       "      <th></th>\n",
       "    </tr>\n",
       "  </thead>\n",
       "  <tbody>\n",
       "    <tr>\n",
       "      <th>2018-01-01 01:00:00</th>\n",
       "      <td>13715.65</td>\n",
       "      <td>13715.65</td>\n",
       "      <td>13400.01</td>\n",
       "      <td>13529.01</td>\n",
       "      <td>443.356199</td>\n",
       "    </tr>\n",
       "    <tr>\n",
       "      <th>2018-01-01 02:00:00</th>\n",
       "      <td>13528.99</td>\n",
       "      <td>13595.89</td>\n",
       "      <td>13155.38</td>\n",
       "      <td>13203.06</td>\n",
       "      <td>383.697006</td>\n",
       "    </tr>\n",
       "    <tr>\n",
       "      <th>2018-01-01 03:00:00</th>\n",
       "      <td>13203.00</td>\n",
       "      <td>13418.43</td>\n",
       "      <td>13200.00</td>\n",
       "      <td>13330.18</td>\n",
       "      <td>429.064572</td>\n",
       "    </tr>\n",
       "    <tr>\n",
       "      <th>2018-01-01 04:00:00</th>\n",
       "      <td>13330.26</td>\n",
       "      <td>13611.27</td>\n",
       "      <td>13290.00</td>\n",
       "      <td>13410.03</td>\n",
       "      <td>420.087030</td>\n",
       "    </tr>\n",
       "    <tr>\n",
       "      <th>2018-01-01 05:00:00</th>\n",
       "      <td>13434.98</td>\n",
       "      <td>13623.29</td>\n",
       "      <td>13322.15</td>\n",
       "      <td>13601.01</td>\n",
       "      <td>340.807329</td>\n",
       "    </tr>\n",
       "  </tbody>\n",
       "</table>\n",
       "</div>"
      ],
      "text/plain": [
       "                         open      high       low     close      volume\n",
       "timestamp                                                              \n",
       "2018-01-01 01:00:00  13715.65  13715.65  13400.01  13529.01  443.356199\n",
       "2018-01-01 02:00:00  13528.99  13595.89  13155.38  13203.06  383.697006\n",
       "2018-01-01 03:00:00  13203.00  13418.43  13200.00  13330.18  429.064572\n",
       "2018-01-01 04:00:00  13330.26  13611.27  13290.00  13410.03  420.087030\n",
       "2018-01-01 05:00:00  13434.98  13623.29  13322.15  13601.01  340.807329"
      ]
     },
     "execution_count": 6,
     "metadata": {},
     "output_type": "execute_result"
    }
   ],
   "source": [
    "#drop the columns we don't need anymore\n",
    "df = df.drop(columns=['hour', 'log_volume'])\n",
    "df.head()"
   ]
  },
  {
   "cell_type": "markdown",
   "id": "558b53dd",
   "metadata": {},
   "source": [
    "### Crossing Moving Averages"
   ]
  },
  {
   "cell_type": "code",
   "execution_count": 7,
   "id": "9c261d86",
   "metadata": {},
   "outputs": [
    {
     "name": "stdout",
     "output_type": "stream",
     "text": [
      "DatetimeIndex(['2018-01-04 03:00:00', '2018-02-08 00:00:00',\n",
      "               '2018-07-04 00:00:00', '2019-06-07 21:00:00',\n",
      "               '2020-03-04 09:00:00', '2021-04-25 04:00:00'],\n",
      "              dtype='datetime64[ns]', name='timestamp', freq=None)\n",
      "DatetimeIndex([], dtype='datetime64[ns]', name='timestamp', freq=None)\n"
     ]
    }
   ],
   "source": [
    "#check for duplicates\n",
    "print(df.index[df.index.duplicated()])\n",
    "df = df[~df.index.duplicated(keep='first')]\n",
    "print(df.index[df.index.duplicated()])\n"
   ]
  },
  {
   "cell_type": "code",
   "execution_count": 8,
   "id": "a4f9cacc",
   "metadata": {},
   "outputs": [],
   "source": [
    "# Assuming df has a 'close' column and datetime index\n",
    "fast_window = 20 # for example, 10 hours\n",
    "slow_window = 200 # for example, 50 hours # 1. Compute moving averages\n",
    "df['fast_ma'] = df['close'].rolling(fast_window).mean()\n",
    "df['slow_ma'] = df['close'].rolling(slow_window).mean()\n",
    "df['side'] = np.where(df.fast_ma > df.slow_ma, 1, -1)"
   ]
  },
  {
   "cell_type": "code",
   "execution_count": 9,
   "id": "2a95dde4",
   "metadata": {},
   "outputs": [],
   "source": [
    "#calculate dialy volatility\n",
    "daily_vol = df['close'].pct_change().resample('D').std()\n",
    "#target will have the same daily vol for each observation belonging to the same day (so we assign tot he first hour and fill up to the next day)\n",
    "target = daily_vol.reindex(df.index, method = 'ffill')\n",
    "# vertical barrier is 1 day, so each positioning maximum lasts 24 hours\n",
    "t1 = df.index + pd.Timedelta(days=1)\n",
    "t1 = t1.where(t1 < df.index[-1], pd.NaT)\n",
    "t1 = pd.Series(t1, index=df.index)\n",
    "\n",
    "\n",
    "#parameters to pass\n",
    "\n",
    "minRet = 2*target.mean()\n",
    "ptSl = (1,2)\n",
    "tEvents = df.index\n",
    "trgt = target\n",
    "side = df.side\n",
    "close = df.close\n",
    "vert_barr = t1"
   ]
  },
  {
   "cell_type": "code",
   "execution_count": 10,
   "id": "c3789ad5",
   "metadata": {},
   "outputs": [],
   "source": [
    "events = getEventsMeta(close, tEvents, ptSl, trgt, minRet, t1, side)\n",
    "meta_labels = getTBMLabels(events, close)"
   ]
  },
  {
   "cell_type": "code",
   "execution_count": 11,
   "id": "f9a182a2",
   "metadata": {},
   "outputs": [
    {
     "data": {
      "text/plain": [
       "bin\n",
       "1.0    2977\n",
       "0.0    1798\n",
       "Name: count, dtype: int64"
      ]
     },
     "execution_count": 11,
     "metadata": {},
     "output_type": "execute_result"
    }
   ],
   "source": [
    "#check if labels are balanced\n",
    "meta_labels.bin.value_counts()"
   ]
  },
  {
   "cell_type": "code",
   "execution_count": 12,
   "id": "5b4b2bcc",
   "metadata": {},
   "outputs": [
    {
     "name": "stdout",
     "output_type": "stream",
     "text": [
      "Total real return: 117.0490\n",
      "Total bin1 return: 599356109795664911788008269745666129920.0000\n"
     ]
    }
   ],
   "source": [
    "#curiosity check... what would be the return of the stretegy and after the meta-label check?\n",
    "total_real_return = (1 + meta_labels['ret']).prod() - 1\n",
    "total_bin1_return = (1 + meta_labels['ret'] * meta_labels['bin']).prod() - 1\n",
    "print(f'Total real return: {total_real_return:.4f}')\n",
    "print(f'Total bin1 return: {total_bin1_return:.4f}')"
   ]
  },
  {
   "cell_type": "markdown",
   "id": "9e9c55d8",
   "metadata": {},
   "source": [
    "### RF Classifier"
   ]
  },
  {
   "cell_type": "markdown",
   "id": "0a5000bc",
   "metadata": {},
   "source": [
    "Until now we did the folllwing:\n",
    "\n",
    "1. create a simple crossing MAs strategy to position ourselves . when side is:\n",
    "  - +1 enter and stay long unitl it changes to -1\n",
    "  - -1 close long and open short until it changes to +1\n",
    "  - repeat ...\n",
    "\n",
    "2. We filtered some events considering them if only if the return associated with a possible trade was greater than a given threshold. We calcualted this threshold as the mean values of the daily standard deviation of returns (within a 1h timeframe OHLCV data)\n",
    "\n",
    "3. We used the TBM to create metalabels. Those tell us if the trade we took were profitable or not by labelling them as 1 (profitable) or 0 non profitable\n",
    "\n",
    "Now we need to train a classification method in order to predict those labels given a set of non-biased features that we have to create from the starting dataset.\n",
    "\n",
    "We will make use of some of the following features:\n",
    "\n",
    "| Axis                            | Example feature types                   | Intuition for bin=1 probability                             |\n",
    "| ------------------------------- | --------------------------------------- | ----------------------------------------------------------- |\n",
    "| **Trend strength**              | MA slope, % distance from MA, MACD      | Strong trend in same direction as `side` increases TP odds  |\n",
    "| **Volatility**                  | Rolling std, ATR, Bollinger band width  | High vol may hit barriers quicker; very low vol may stall   |\n",
    "| **Momentum**                    | Returns over past N bars, RSI           | Momentum aligned with side often helps win                  |\n",
    "| **Mean reversion pressure**     | z-score from rolling mean, RSI extremes | Overbought/oversold may signal reversals                    |\n",
    "| **Liquidity / market activity** | Rolling volume mean, volume change      | High liquidity may support trends, but also sharp reversals |\n",
    "| **Recent win/loss context**     | Rolling win rate of last k trades       | “Hot/cold streak” bias capture (optional, meta-feature)     |\n"
   ]
  },
  {
   "cell_type": "markdown",
   "id": "60593263",
   "metadata": {},
   "source": [
    "Once we tested we can create an feature engineering pipeline such as:\n",
    "\n",
    "1. Compute all features on the full initial df (no filtering yet).\n",
    "2. Align with meta_labels.index (keep only rows where you had an event).\n",
    "3. Train-test split by time (to avoid leakage from shuffling).\n",
    "4. Train RF, get importances, iterate"
   ]
  },
  {
   "cell_type": "code",
   "execution_count": 13,
   "id": "84de2e75",
   "metadata": {},
   "outputs": [
    {
     "name": "stdout",
     "output_type": "stream",
     "text": [
      "<class 'pandas.core.frame.DataFrame'>\n",
      "DatetimeIndex: 64240 entries, 2018-01-01 01:00:00 to 2025-05-06 00:00:00\n",
      "Data columns (total 8 columns):\n",
      " #   Column   Non-Null Count  Dtype  \n",
      "---  ------   --------------  -----  \n",
      " 0   open     64240 non-null  float64\n",
      " 1   high     64240 non-null  float64\n",
      " 2   low      64240 non-null  float64\n",
      " 3   close    64240 non-null  float64\n",
      " 4   volume   64240 non-null  float64\n",
      " 5   fast_ma  64221 non-null  float64\n",
      " 6   slow_ma  64041 non-null  float64\n",
      " 7   side     64240 non-null  int32  \n",
      "dtypes: float64(7), int32(1)\n",
      "memory usage: 6.2 MB\n",
      "None\n"
     ]
    },
    {
     "data": {
      "text/html": [
       "<div>\n",
       "<style scoped>\n",
       "    .dataframe tbody tr th:only-of-type {\n",
       "        vertical-align: middle;\n",
       "    }\n",
       "\n",
       "    .dataframe tbody tr th {\n",
       "        vertical-align: top;\n",
       "    }\n",
       "\n",
       "    .dataframe thead th {\n",
       "        text-align: right;\n",
       "    }\n",
       "</style>\n",
       "<table border=\"1\" class=\"dataframe\">\n",
       "  <thead>\n",
       "    <tr style=\"text-align: right;\">\n",
       "      <th></th>\n",
       "      <th>open</th>\n",
       "      <th>high</th>\n",
       "      <th>low</th>\n",
       "      <th>close</th>\n",
       "      <th>volume</th>\n",
       "      <th>fast_ma</th>\n",
       "      <th>slow_ma</th>\n",
       "      <th>side</th>\n",
       "    </tr>\n",
       "    <tr>\n",
       "      <th>timestamp</th>\n",
       "      <th></th>\n",
       "      <th></th>\n",
       "      <th></th>\n",
       "      <th></th>\n",
       "      <th></th>\n",
       "      <th></th>\n",
       "      <th></th>\n",
       "      <th></th>\n",
       "    </tr>\n",
       "  </thead>\n",
       "  <tbody>\n",
       "    <tr>\n",
       "      <th>2018-01-01 01:00:00</th>\n",
       "      <td>13715.65</td>\n",
       "      <td>13715.65</td>\n",
       "      <td>13400.01</td>\n",
       "      <td>13529.01</td>\n",
       "      <td>443.356199</td>\n",
       "      <td>NaN</td>\n",
       "      <td>NaN</td>\n",
       "      <td>-1</td>\n",
       "    </tr>\n",
       "    <tr>\n",
       "      <th>2018-01-01 02:00:00</th>\n",
       "      <td>13528.99</td>\n",
       "      <td>13595.89</td>\n",
       "      <td>13155.38</td>\n",
       "      <td>13203.06</td>\n",
       "      <td>383.697006</td>\n",
       "      <td>NaN</td>\n",
       "      <td>NaN</td>\n",
       "      <td>-1</td>\n",
       "    </tr>\n",
       "    <tr>\n",
       "      <th>2018-01-01 03:00:00</th>\n",
       "      <td>13203.00</td>\n",
       "      <td>13418.43</td>\n",
       "      <td>13200.00</td>\n",
       "      <td>13330.18</td>\n",
       "      <td>429.064572</td>\n",
       "      <td>NaN</td>\n",
       "      <td>NaN</td>\n",
       "      <td>-1</td>\n",
       "    </tr>\n",
       "    <tr>\n",
       "      <th>2018-01-01 04:00:00</th>\n",
       "      <td>13330.26</td>\n",
       "      <td>13611.27</td>\n",
       "      <td>13290.00</td>\n",
       "      <td>13410.03</td>\n",
       "      <td>420.087030</td>\n",
       "      <td>NaN</td>\n",
       "      <td>NaN</td>\n",
       "      <td>-1</td>\n",
       "    </tr>\n",
       "    <tr>\n",
       "      <th>2018-01-01 05:00:00</th>\n",
       "      <td>13434.98</td>\n",
       "      <td>13623.29</td>\n",
       "      <td>13322.15</td>\n",
       "      <td>13601.01</td>\n",
       "      <td>340.807329</td>\n",
       "      <td>NaN</td>\n",
       "      <td>NaN</td>\n",
       "      <td>-1</td>\n",
       "    </tr>\n",
       "  </tbody>\n",
       "</table>\n",
       "</div>"
      ],
      "text/plain": [
       "                         open      high       low     close      volume  \\\n",
       "timestamp                                                                 \n",
       "2018-01-01 01:00:00  13715.65  13715.65  13400.01  13529.01  443.356199   \n",
       "2018-01-01 02:00:00  13528.99  13595.89  13155.38  13203.06  383.697006   \n",
       "2018-01-01 03:00:00  13203.00  13418.43  13200.00  13330.18  429.064572   \n",
       "2018-01-01 04:00:00  13330.26  13611.27  13290.00  13410.03  420.087030   \n",
       "2018-01-01 05:00:00  13434.98  13623.29  13322.15  13601.01  340.807329   \n",
       "\n",
       "                     fast_ma  slow_ma  side  \n",
       "timestamp                                    \n",
       "2018-01-01 01:00:00      NaN      NaN    -1  \n",
       "2018-01-01 02:00:00      NaN      NaN    -1  \n",
       "2018-01-01 03:00:00      NaN      NaN    -1  \n",
       "2018-01-01 04:00:00      NaN      NaN    -1  \n",
       "2018-01-01 05:00:00      NaN      NaN    -1  "
      ]
     },
     "execution_count": 13,
     "metadata": {},
     "output_type": "execute_result"
    }
   ],
   "source": [
    "X = df.copy()\n",
    "print(X.info())\n",
    "X.head()"
   ]
  },
  {
   "cell_type": "code",
   "execution_count": 14,
   "id": "1886befa",
   "metadata": {},
   "outputs": [],
   "source": [
    "########## Trend/Momentum features\n",
    "\n",
    "#20 periods MA\n",
    "X['ma20'] = X['close'].rolling(20).mean()\n",
    "#distnace from ma20\n",
    "X['ma20_dist'] = (X.close-X.ma20)/X.ma20 # Renamed to ma20_dist for clarity\n",
    "#slope ma20 over k bars\n",
    "k = 5\n",
    "X['ma20_slope'] = X.ma20.diff(k)/k\n",
    "#emas and MACD(12,26) and differences\n",
    "X['ema12'] = X.close.ewm(span=12).mean()\n",
    "X['ema26'] = X.close.ewm(span=26).mean()\n",
    "X['macd'] = X.ema12 - X.ema26\n",
    "# Calculate macd_signal and macd_diff on the X DataFrame\n",
    "X['macd_signal'] = X['macd'].ewm(span=9, adjust=False).mean()\n",
    "X['macd_diff'] = X['macd'] - X['macd_signal']\n",
    "# past returns over some bars\n",
    "X['ret1'] = X.close.pct_change(1)\n",
    "X['ret5'] = X.close.pct_change(2)\n",
    "X['ret20'] = X.close.pct_change(3)\n",
    "\n",
    "\n",
    "############ Volatility Features\n",
    "\n",
    "#rolling std over 20 periods\n",
    "X['vol20'] = X.ret1.rolling(20).std()\n",
    "\n",
    "#14 bars ATR\n",
    "high_low = X.high - X.low\n",
    "high_close = np.abs(X.high - X.close.shift())\n",
    "low_close = np.abs(X.low - X.close.shift())\n",
    "tr = pd.concat([high_low, high_close, low_close], axis=1).max(axis=1)\n",
    "X['atr14'] = tr.rolling(14).mean()\n",
    "\n",
    "\n",
    "#bollinger bands - adjusted calculation using ma20 and vol20\n",
    "band_multiplier = 2 # Standard deviation multiplier for Bollinger Bands\n",
    "bb_up = X.ma20 * (1 + band_multiplier * X.vol20)\n",
    "bb_low = X.ma20 * (1 - band_multiplier * X.vol20)\n",
    "X['bb_upper'] = bb_up # Renamed for clarity\n",
    "X['bb_lower'] = bb_low # Renamed for clarity\n",
    "X['bb_percent'] = (X.close - bb_low)/(bb_up - bb_low) # Position within bands (0 to 1)\n",
    "\n",
    "\n",
    "########### Market Conditions Features\n",
    "\n",
    "#RSI 14 bars\n",
    "delta = X.close.diff()\n",
    "gain = (delta.where(delta > 0, 0)).rolling(14).mean()\n",
    "loss = (-delta.where(delta < 0, 0)).rolling(14).mean()\n",
    "rs = gain / loss\n",
    "X['rsi14'] = 100 - (100 / (1 + rs))\n",
    "\n",
    "#Volume deviations by z-score\n",
    "X['vol_zscore'] = (X.volume - X.volume.rolling(20).mean())/X.volume.rolling(20).std()\n",
    "\n",
    "#Corr with short term trend\n",
    "ma5 = X.close.rolling(5).mean()\n",
    "X['roll_corr'] = X.close.rolling(20).corr(ma5)"
   ]
  },
  {
   "cell_type": "code",
   "execution_count": 15,
   "id": "4b6b6ef1",
   "metadata": {},
   "outputs": [
    {
     "data": {
      "text/html": [
       "<div>\n",
       "<style scoped>\n",
       "    .dataframe tbody tr th:only-of-type {\n",
       "        vertical-align: middle;\n",
       "    }\n",
       "\n",
       "    .dataframe tbody tr th {\n",
       "        vertical-align: top;\n",
       "    }\n",
       "\n",
       "    .dataframe thead th {\n",
       "        text-align: right;\n",
       "    }\n",
       "</style>\n",
       "<table border=\"1\" class=\"dataframe\">\n",
       "  <thead>\n",
       "    <tr style=\"text-align: right;\">\n",
       "      <th></th>\n",
       "      <th>close</th>\n",
       "      <th>volume</th>\n",
       "      <th>ma20</th>\n",
       "      <th>ma20_dist</th>\n",
       "      <th>ma20_slope</th>\n",
       "      <th>ema12</th>\n",
       "      <th>ema26</th>\n",
       "      <th>macd</th>\n",
       "      <th>macd_signal</th>\n",
       "      <th>macd_diff</th>\n",
       "      <th>...</th>\n",
       "      <th>ret5</th>\n",
       "      <th>ret20</th>\n",
       "      <th>vol20</th>\n",
       "      <th>atr14</th>\n",
       "      <th>bb_upper</th>\n",
       "      <th>bb_lower</th>\n",
       "      <th>bb_percent</th>\n",
       "      <th>rsi14</th>\n",
       "      <th>vol_zscore</th>\n",
       "      <th>roll_corr</th>\n",
       "    </tr>\n",
       "    <tr>\n",
       "      <th>timestamp</th>\n",
       "      <th></th>\n",
       "      <th></th>\n",
       "      <th></th>\n",
       "      <th></th>\n",
       "      <th></th>\n",
       "      <th></th>\n",
       "      <th></th>\n",
       "      <th></th>\n",
       "      <th></th>\n",
       "      <th></th>\n",
       "      <th></th>\n",
       "      <th></th>\n",
       "      <th></th>\n",
       "      <th></th>\n",
       "      <th></th>\n",
       "      <th></th>\n",
       "      <th></th>\n",
       "      <th></th>\n",
       "      <th></th>\n",
       "      <th></th>\n",
       "      <th></th>\n",
       "    </tr>\n",
       "  </thead>\n",
       "  <tbody>\n",
       "    <tr>\n",
       "      <th>2018-01-01 01:00:00</th>\n",
       "      <td>13529.01</td>\n",
       "      <td>443.356199</td>\n",
       "      <td>NaN</td>\n",
       "      <td>NaN</td>\n",
       "      <td>NaN</td>\n",
       "      <td>13529.010000</td>\n",
       "      <td>13529.010000</td>\n",
       "      <td>0.000000</td>\n",
       "      <td>0.000000</td>\n",
       "      <td>0.000000</td>\n",
       "      <td>...</td>\n",
       "      <td>NaN</td>\n",
       "      <td>NaN</td>\n",
       "      <td>NaN</td>\n",
       "      <td>NaN</td>\n",
       "      <td>NaN</td>\n",
       "      <td>NaN</td>\n",
       "      <td>NaN</td>\n",
       "      <td>NaN</td>\n",
       "      <td>NaN</td>\n",
       "      <td>NaN</td>\n",
       "    </tr>\n",
       "    <tr>\n",
       "      <th>2018-01-01 02:00:00</th>\n",
       "      <td>13203.06</td>\n",
       "      <td>383.697006</td>\n",
       "      <td>NaN</td>\n",
       "      <td>NaN</td>\n",
       "      <td>NaN</td>\n",
       "      <td>13352.453750</td>\n",
       "      <td>13359.766731</td>\n",
       "      <td>-7.312981</td>\n",
       "      <td>-1.462596</td>\n",
       "      <td>-5.850385</td>\n",
       "      <td>...</td>\n",
       "      <td>NaN</td>\n",
       "      <td>NaN</td>\n",
       "      <td>NaN</td>\n",
       "      <td>NaN</td>\n",
       "      <td>NaN</td>\n",
       "      <td>NaN</td>\n",
       "      <td>NaN</td>\n",
       "      <td>NaN</td>\n",
       "      <td>NaN</td>\n",
       "      <td>NaN</td>\n",
       "    </tr>\n",
       "    <tr>\n",
       "      <th>2018-01-01 03:00:00</th>\n",
       "      <td>13330.18</td>\n",
       "      <td>429.064572</td>\n",
       "      <td>NaN</td>\n",
       "      <td>NaN</td>\n",
       "      <td>NaN</td>\n",
       "      <td>13343.760300</td>\n",
       "      <td>13349.136506</td>\n",
       "      <td>-5.376205</td>\n",
       "      <td>-2.245318</td>\n",
       "      <td>-3.130887</td>\n",
       "      <td>...</td>\n",
       "      <td>-0.014697</td>\n",
       "      <td>NaN</td>\n",
       "      <td>NaN</td>\n",
       "      <td>NaN</td>\n",
       "      <td>NaN</td>\n",
       "      <td>NaN</td>\n",
       "      <td>NaN</td>\n",
       "      <td>NaN</td>\n",
       "      <td>NaN</td>\n",
       "      <td>NaN</td>\n",
       "    </tr>\n",
       "    <tr>\n",
       "      <th>2018-01-01 04:00:00</th>\n",
       "      <td>13410.03</td>\n",
       "      <td>420.087030</td>\n",
       "      <td>NaN</td>\n",
       "      <td>NaN</td>\n",
       "      <td>NaN</td>\n",
       "      <td>13364.679055</td>\n",
       "      <td>13366.159666</td>\n",
       "      <td>-1.480611</td>\n",
       "      <td>-2.092377</td>\n",
       "      <td>0.611766</td>\n",
       "      <td>...</td>\n",
       "      <td>0.015676</td>\n",
       "      <td>-0.008794</td>\n",
       "      <td>NaN</td>\n",
       "      <td>NaN</td>\n",
       "      <td>NaN</td>\n",
       "      <td>NaN</td>\n",
       "      <td>NaN</td>\n",
       "      <td>NaN</td>\n",
       "      <td>NaN</td>\n",
       "      <td>NaN</td>\n",
       "    </tr>\n",
       "    <tr>\n",
       "      <th>2018-01-01 05:00:00</th>\n",
       "      <td>13601.01</td>\n",
       "      <td>340.807329</td>\n",
       "      <td>NaN</td>\n",
       "      <td>NaN</td>\n",
       "      <td>NaN</td>\n",
       "      <td>13428.889328</td>\n",
       "      <td>13420.622427</td>\n",
       "      <td>8.266901</td>\n",
       "      <td>-0.020521</td>\n",
       "      <td>8.287422</td>\n",
       "      <td>...</td>\n",
       "      <td>0.020317</td>\n",
       "      <td>0.030141</td>\n",
       "      <td>NaN</td>\n",
       "      <td>NaN</td>\n",
       "      <td>NaN</td>\n",
       "      <td>NaN</td>\n",
       "      <td>NaN</td>\n",
       "      <td>NaN</td>\n",
       "      <td>NaN</td>\n",
       "      <td>NaN</td>\n",
       "    </tr>\n",
       "  </tbody>\n",
       "</table>\n",
       "<p>5 rows × 21 columns</p>\n",
       "</div>"
      ],
      "text/plain": [
       "                        close      volume  ma20  ma20_dist  ma20_slope  \\\n",
       "timestamp                                                                \n",
       "2018-01-01 01:00:00  13529.01  443.356199   NaN        NaN         NaN   \n",
       "2018-01-01 02:00:00  13203.06  383.697006   NaN        NaN         NaN   \n",
       "2018-01-01 03:00:00  13330.18  429.064572   NaN        NaN         NaN   \n",
       "2018-01-01 04:00:00  13410.03  420.087030   NaN        NaN         NaN   \n",
       "2018-01-01 05:00:00  13601.01  340.807329   NaN        NaN         NaN   \n",
       "\n",
       "                            ema12         ema26      macd  macd_signal  \\\n",
       "timestamp                                                                \n",
       "2018-01-01 01:00:00  13529.010000  13529.010000  0.000000     0.000000   \n",
       "2018-01-01 02:00:00  13352.453750  13359.766731 -7.312981    -1.462596   \n",
       "2018-01-01 03:00:00  13343.760300  13349.136506 -5.376205    -2.245318   \n",
       "2018-01-01 04:00:00  13364.679055  13366.159666 -1.480611    -2.092377   \n",
       "2018-01-01 05:00:00  13428.889328  13420.622427  8.266901    -0.020521   \n",
       "\n",
       "                     macd_diff  ...      ret5     ret20  vol20  atr14  \\\n",
       "timestamp                       ...                                     \n",
       "2018-01-01 01:00:00   0.000000  ...       NaN       NaN    NaN    NaN   \n",
       "2018-01-01 02:00:00  -5.850385  ...       NaN       NaN    NaN    NaN   \n",
       "2018-01-01 03:00:00  -3.130887  ... -0.014697       NaN    NaN    NaN   \n",
       "2018-01-01 04:00:00   0.611766  ...  0.015676 -0.008794    NaN    NaN   \n",
       "2018-01-01 05:00:00   8.287422  ...  0.020317  0.030141    NaN    NaN   \n",
       "\n",
       "                     bb_upper  bb_lower  bb_percent  rsi14  vol_zscore  \\\n",
       "timestamp                                                                \n",
       "2018-01-01 01:00:00       NaN       NaN         NaN    NaN         NaN   \n",
       "2018-01-01 02:00:00       NaN       NaN         NaN    NaN         NaN   \n",
       "2018-01-01 03:00:00       NaN       NaN         NaN    NaN         NaN   \n",
       "2018-01-01 04:00:00       NaN       NaN         NaN    NaN         NaN   \n",
       "2018-01-01 05:00:00       NaN       NaN         NaN    NaN         NaN   \n",
       "\n",
       "                     roll_corr  \n",
       "timestamp                       \n",
       "2018-01-01 01:00:00        NaN  \n",
       "2018-01-01 02:00:00        NaN  \n",
       "2018-01-01 03:00:00        NaN  \n",
       "2018-01-01 04:00:00        NaN  \n",
       "2018-01-01 05:00:00        NaN  \n",
       "\n",
       "[5 rows x 21 columns]"
      ]
     },
     "execution_count": 15,
     "metadata": {},
     "output_type": "execute_result"
    }
   ],
   "source": [
    "X = X.drop(['fast_ma', 'slow_ma','side','open','high','low'],axis =1)\n",
    "X.head()"
   ]
  },
  {
   "cell_type": "markdown",
   "id": "11eecb9c",
   "metadata": {},
   "source": [
    "#### First Trainings and feature importance"
   ]
  },
  {
   "cell_type": "code",
   "execution_count": 16,
   "id": "989ff908",
   "metadata": {},
   "outputs": [
    {
     "name": "stdout",
     "output_type": "stream",
     "text": [
      "X shape: (4775, 21), y shape: (4775,)\n"
     ]
    }
   ],
   "source": [
    "#align the feature set with the labels\n",
    "\n",
    "X = X.loc[meta_labels.index]\n",
    "y = meta_labels['bin']\n",
    "\n",
    "print(f'X shape: {X.shape}, y shape: {y.shape}')"
   ]
  },
  {
   "cell_type": "markdown",
   "id": "747ad884",
   "metadata": {},
   "source": [
    "We have some Nans in X due to rolling --> we could force the vaues by mediand, bfill... but they are very little compared to the full dataset size.... checke here (we can just drop them without losing much information)\n"
   ]
  },
  {
   "cell_type": "code",
   "execution_count": 17,
   "id": "69c7dcac",
   "metadata": {},
   "outputs": [
    {
     "name": "stdout",
     "output_type": "stream",
     "text": [
      "The percentage of missing values compared to the total number of obsertions is 0.503%\n",
      "X shape: (4751, 21), y shape: (4751,)\n"
     ]
    }
   ],
   "source": [
    "print(f'The percentage of missing values compared to the total number of obsertions is {round(100*X.isna().sum().max()/X.shape[0],3)}%')\n",
    "obs_to_keep = ~X.isna().any(axis=1)\n",
    "X = X[obs_to_keep]\n",
    "y = y[obs_to_keep]\n",
    "print(f'X shape: {X.shape}, y shape: {y.shape}')"
   ]
  },
  {
   "cell_type": "markdown",
   "id": "cc97ddf6",
   "metadata": {},
   "source": [
    "Using a chronological order (no shuffling) we create train and test datasets. Then the train dataset will undergo TimeSeriesSplit to form real training and validation sets!"
   ]
  },
  {
   "cell_type": "code",
   "execution_count": 18,
   "id": "fa3839dc",
   "metadata": {},
   "outputs": [
    {
     "name": "stdout",
     "output_type": "stream",
     "text": [
      "X_train starts at 2018-01-02 01:00:00 and ends at 2021-02-24 13:00:00\n",
      "X_test starts at 2021-02-24 14:00:00 and ends at 2025-04-09 23:00:00\n"
     ]
    }
   ],
   "source": [
    "X_train, X_test, y_train, y_test = train_test_split(X, y, test_size=0.3, random_state=42, shuffle = False)\n",
    "\n",
    "#visulaize where train and test datasetd end in time\n",
    "print(f'X_train starts at {X_train .index[0]} and ends at {X_train.index[-1]}')\n",
    "print(f'X_test starts at {X_test.index[0]} and ends at {X_test.index[-1]}')\n"
   ]
  },
  {
   "cell_type": "code",
   "execution_count": null,
   "id": "eee8fdf5",
   "metadata": {},
   "outputs": [],
   "source": [
    "tscv = TimeSeriesSplit(n_splits=5)  # chronological splits\n",
    "clf = RandomForestClassifier(\n",
    "    n_estimators=100,\n",
    "    max_depth=5,\n",
    "    min_samples_leaf=20,\n",
    "    n_jobs=-1,\n",
    "    random_state=42,\n",
    "    class_weight='balanced',\n",
    "    max_features = 'sqrt'\n",
    ")\n",
    "\n",
    "# lists for fold metrics and fetures importances for each feature\n",
    "fold_metrics = []\n",
    "feature_importances = []\n",
    "\n",
    "for fold, (train_idx, test_idx) in enumerate(tscv.split(X_train), 1):\n",
    "    X_tr, X_val = X_train.iloc[train_idx], X_train.iloc[test_idx]\n",
    "    y_tr, y_val = y_train.iloc[train_idx], y_train.iloc[test_idx]\n",
    "\n",
    "#train the RFC on the training sets\n",
    "    clf.fit(X_tr, y_tr)\n",
    "#prediction on the OOS data\n",
    "    y_pred = clf.predict(X_val)\n",
    "    y_proba = clf.predict_proba(X_val)[:, 1]\n",
    "#main metrics\n",
    "    prec, rec, f1, _ = precision_recall_fscore_support(y_val, y_pred, average='binary', zero_division=0)\n",
    "    auc = roc_auc_score(y_val, y_proba)\n",
    "#append resutls\n",
    "    fold_metrics.append({'fold': fold, 'precision': prec, 'recall': rec, 'f1': f1, 'auc': auc})\n",
    "    feature_importances.append(clf.feature_importances_)"
   ]
  },
  {
   "cell_type": "code",
   "execution_count": 31,
   "id": "cf9a4cb0",
   "metadata": {},
   "outputs": [
    {
     "name": "stdout",
     "output_type": "stream",
     "text": [
      "Per-fold metrics:\n",
      "       precision  recall      f1     auc\n",
      "fold                                   \n",
      "1        0.6982  0.5960  0.6431  0.4726\n",
      "2        0.6012  0.9167  0.7262  0.4920\n",
      "3        0.7473  0.5574  0.6385  0.6554\n",
      "4        0.5631  0.5430  0.5529  0.4350\n",
      "5        0.5938  0.7103  0.6468  0.5071\n"
     ]
    }
   ],
   "source": [
    "metrics_df = pd.DataFrame(fold_metrics).set_index('fold')\n",
    "mean_metrics = metrics_df.mean().to_dict()\n",
    "\n",
    "fi_mean = np.mean(np.vstack(feature_importances), axis=0)\n",
    "feat_rank = pd.Series(fi_mean, index=X.columns).sort_values(ascending=False)\n",
    "\n",
    "print(\"Per-fold metrics:\\n\", metrics_df.round(4))"
   ]
  },
  {
   "cell_type": "code",
   "execution_count": 32,
   "id": "c7360edd",
   "metadata": {},
   "outputs": [
    {
     "name": "stdout",
     "output_type": "stream",
     "text": [
      "\n",
      "Average metrics: {'precision': 0.6407, 'recall': 0.6647, 'f1': 0.6415, 'auc': 0.5124}\n"
     ]
    }
   ],
   "source": [
    "print(\"\\nAverage metrics:\", {k: round(v, 4) for k, v in mean_metrics.items()})"
   ]
  },
  {
   "cell_type": "code",
   "execution_count": 33,
   "id": "534dea15",
   "metadata": {},
   "outputs": [
    {
     "name": "stdout",
     "output_type": "stream",
     "text": [
      "\n",
      "Top features:\n",
      " atr14          0.1006\n",
      "close          0.0736\n",
      "bb_lower       0.0695\n",
      "ema12          0.0694\n",
      "vol20          0.0691\n",
      "bb_upper       0.0653\n",
      "ma20           0.0631\n",
      "macd_signal    0.0608\n",
      "ema26          0.0592\n",
      "macd_diff      0.0523\n",
      "volume         0.0480\n",
      "macd           0.0422\n",
      "ma20_dist      0.0345\n",
      "ma20_slope     0.0333\n",
      "roll_corr      0.0306\n",
      "bb_percent     0.0253\n",
      "rsi14          0.0239\n",
      "vol_zscore     0.0228\n",
      "ret5           0.0204\n",
      "ret1           0.0193\n",
      "ret20          0.0167\n",
      "dtype: float64\n"
     ]
    }
   ],
   "source": [
    "print(\"\\nTop features:\\n\", feat_rank.round(4))"
   ]
  },
  {
   "cell_type": "markdown",
   "id": "1b1b2b04",
   "metadata": {},
   "source": [
    "Let's comment these results...\n",
    "\n",
    "**PRECISION/RECALL**\n",
    "\n",
    "Those metrics are calculated based on a 50% chance threshold, that is they reply to:\n",
    "\n",
    "Precision → Of all trades I entered, what % were winners?\n",
    "- High precision means few false positive (we rarely enter losing trades)\n",
    "- But we might miss a lot of good ones if recall is low\n",
    "\n",
    "Recall → Of all the profitable trades, what % did I actually take?\n",
    "- High recall means we do not miss many winning trades\n",
    "- But we might take a lot of losses if precision is low\n",
    "\n",
    "There is a limitation tho... if we change the threshold (say, only take trades with 70%+ predicted win probability), these metrics will change a lot — so their meaning depends on that cutoff.\n"
   ]
  },
  {
   "cell_type": "markdown",
   "id": "1873e298",
   "metadata": {},
   "source": [
    "**ROC/AUC**\n",
    "\n",
    "Looks at all possible thresholds at once and measure:\n",
    "\n",
    "*How well can my model rank good trades above bad trades?*\n",
    "\n",
    "AUC = 0.5 → as good as random.\n",
    "\n",
    "AUC > 0.5 → better than random ranking; the higher, the better.\n",
    "\n",
    "Doesn’t tell us exactly how many trades will win at a given threshold but just whether the ranking is consistently correct."
   ]
  },
  {
   "cell_type": "markdown",
   "id": "8dcc32cd",
   "metadata": {},
   "source": [
    "\n",
    "*Why this matters in trading?*\n",
    "\n",
    "If we trade every signal → precision, recall, and F1 at that threshold matter more.\n",
    "\n",
    "If we filter and only take top-probability trades → AUC is more important, because it reflects the quality of your ranking system regardless of cutoff.\n",
    "\n",
    "It’s like:\n",
    "\n",
    "Precision/Recall = evaluating average results after picking a specific strike zone.\n",
    "\n",
    "AUC = checking how good we are at ranking pitches from easiest to hardest, no matter where we draw the strike zone."
   ]
  },
  {
   "cell_type": "markdown",
   "id": "644c8881",
   "metadata": {},
   "source": [
    "#### Hyperparameter Tuning"
   ]
  },
  {
   "cell_type": "code",
   "execution_count": 34,
   "id": "cff98333",
   "metadata": {},
   "outputs": [
    {
     "name": "stdout",
     "output_type": "stream",
     "text": [
      "\n",
      "=== Running iteration 1/10 with params: {'n_estimators': 400, 'min_samples_leaf': 20, 'max_features': 'sqrt', 'max_depth': 10, 'class_weight': 'balanced'} ===\n",
      "  Fold 1 done. F1: 0.6376, AUC: 0.5096\n",
      "  Fold 2 done. F1: 0.7290, AUC: 0.5025\n",
      "  Fold 3 done. F1: 0.6910, AUC: 0.6645\n",
      "  Fold 4 done. F1: 0.5814, AUC: 0.4156\n",
      "  Fold 5 done. F1: 0.6685, AUC: 0.5250\n",
      "Iteration 1 mean metrics: F1=0.6615, AUC=0.5234\n",
      "\n",
      "=== Running iteration 2/10 with params: {'n_estimators': 800, 'min_samples_leaf': 20, 'max_features': 0.5, 'max_depth': 15, 'class_weight': 'balanced_subsample'} ===\n",
      "  Fold 1 done. F1: 0.6134, AUC: 0.4974\n",
      "  Fold 2 done. F1: 0.7399, AUC: 0.5060\n",
      "  Fold 3 done. F1: 0.7109, AUC: 0.6511\n",
      "  Fold 4 done. F1: 0.5856, AUC: 0.4125\n",
      "  Fold 5 done. F1: 0.6237, AUC: 0.5348\n",
      "Iteration 2 mean metrics: F1=0.6547, AUC=0.5204\n",
      "\n",
      "=== Running iteration 3/10 with params: {'n_estimators': 800, 'min_samples_leaf': 20, 'max_features': 'log2', 'max_depth': 15, 'class_weight': 'balanced_subsample'} ===\n",
      "  Fold 1 done. F1: 0.6118, AUC: 0.5074\n",
      "  Fold 2 done. F1: 0.7277, AUC: 0.4984\n",
      "  Fold 3 done. F1: 0.6984, AUC: 0.6603\n",
      "  Fold 4 done. F1: 0.5785, AUC: 0.4147\n",
      "  Fold 5 done. F1: 0.6676, AUC: 0.5234\n",
      "Iteration 3 mean metrics: F1=0.6568, AUC=0.5208\n",
      "\n",
      "=== Running iteration 4/10 with params: {'n_estimators': 100, 'min_samples_leaf': 30, 'max_features': 'log2', 'max_depth': None, 'class_weight': 'balanced_subsample'} ===\n",
      "  Fold 1 done. F1: 0.6023, AUC: 0.4837\n",
      "  Fold 2 done. F1: 0.7348, AUC: 0.4780\n",
      "  Fold 3 done. F1: 0.6524, AUC: 0.6518\n",
      "  Fold 4 done. F1: 0.5655, AUC: 0.4211\n",
      "  Fold 5 done. F1: 0.6926, AUC: 0.5248\n",
      "Iteration 4 mean metrics: F1=0.6496, AUC=0.5119\n",
      "\n",
      "=== Running iteration 5/10 with params: {'n_estimators': 800, 'min_samples_leaf': 30, 'max_features': 'log2', 'max_depth': 15, 'class_weight': 'balanced_subsample'} ===\n",
      "  Fold 1 done. F1: 0.5424, AUC: 0.4911\n",
      "  Fold 2 done. F1: 0.7325, AUC: 0.4901\n",
      "  Fold 3 done. F1: 0.6525, AUC: 0.6502\n",
      "  Fold 4 done. F1: 0.5764, AUC: 0.4154\n",
      "  Fold 5 done. F1: 0.6292, AUC: 0.5281\n",
      "Iteration 5 mean metrics: F1=0.6266, AUC=0.5150\n",
      "\n",
      "=== Running iteration 6/10 with params: {'n_estimators': 100, 'min_samples_leaf': 20, 'max_features': 0.5, 'max_depth': 15, 'class_weight': 'balanced'} ===\n",
      "  Fold 1 done. F1: 0.6125, AUC: 0.4921\n",
      "  Fold 2 done. F1: 0.7368, AUC: 0.5136\n",
      "  Fold 3 done. F1: 0.7039, AUC: 0.6524\n",
      "  Fold 4 done. F1: 0.5819, AUC: 0.4097\n",
      "  Fold 5 done. F1: 0.5895, AUC: 0.5245\n",
      "Iteration 6 mean metrics: F1=0.6449, AUC=0.5185\n",
      "\n",
      "=== Running iteration 7/10 with params: {'n_estimators': 400, 'min_samples_leaf': 10, 'max_features': 'log2', 'max_depth': None, 'class_weight': 'balanced_subsample'} ===\n",
      "  Fold 1 done. F1: 0.8040, AUC: 0.5576\n",
      "  Fold 2 done. F1: 0.6694, AUC: 0.5145\n",
      "  Fold 3 done. F1: 0.7127, AUC: 0.6477\n",
      "  Fold 4 done. F1: 0.5966, AUC: 0.4090\n",
      "  Fold 5 done. F1: 0.6924, AUC: 0.5191\n",
      "Iteration 7 mean metrics: F1=0.6950, AUC=0.5296\n",
      "\n",
      "=== Running iteration 8/10 with params: {'n_estimators': 20, 'min_samples_leaf': 30, 'max_features': 'sqrt', 'max_depth': 15, 'class_weight': 'balanced_subsample'} ===\n",
      "  Fold 1 done. F1: 0.6528, AUC: 0.4714\n",
      "  Fold 2 done. F1: 0.7294, AUC: 0.4857\n",
      "  Fold 3 done. F1: 0.6210, AUC: 0.6355\n",
      "  Fold 4 done. F1: 0.5588, AUC: 0.4144\n",
      "  Fold 5 done. F1: 0.7103, AUC: 0.4901\n",
      "Iteration 8 mean metrics: F1=0.6545, AUC=0.4994\n",
      "\n",
      "=== Running iteration 9/10 with params: {'n_estimators': 100, 'min_samples_leaf': 30, 'max_features': 'sqrt', 'max_depth': 10, 'class_weight': 'balanced'} ===\n",
      "  Fold 1 done. F1: 0.5765, AUC: 0.4817\n",
      "  Fold 2 done. F1: 0.7329, AUC: 0.4767\n",
      "  Fold 3 done. F1: 0.6657, AUC: 0.6493\n",
      "  Fold 4 done. F1: 0.5842, AUC: 0.4148\n",
      "  Fold 5 done. F1: 0.6847, AUC: 0.5149\n",
      "Iteration 9 mean metrics: F1=0.6488, AUC=0.5075\n",
      "\n",
      "=== Running iteration 10/10 with params: {'n_estimators': 100, 'min_samples_leaf': 5, 'max_features': 'log2', 'max_depth': 20, 'class_weight': 'balanced_subsample'} ===\n",
      "  Fold 1 done. F1: 0.8101, AUC: 0.5727\n",
      "  Fold 2 done. F1: 0.5508, AUC: 0.5359\n",
      "  Fold 3 done. F1: 0.7443, AUC: 0.6603\n",
      "  Fold 4 done. F1: 0.5958, AUC: 0.4043\n",
      "  Fold 5 done. F1: 0.7021, AUC: 0.5027\n",
      "Iteration 10 mean metrics: F1=0.6806, AUC=0.5352\n"
     ]
    }
   ],
   "source": [
    "import time\n",
    "\n",
    "param_grid = {\n",
    "    'n_estimators': [20, 50, 100, 400, 800],\n",
    "    'max_depth': [None, 10, 15, 20],\n",
    "    'min_samples_leaf': [5, 10, 20, 30],\n",
    "    'max_features': ['sqrt', 'log2', 0.5],\n",
    "    'class_weight': ['balanced', 'balanced_subsample']\n",
    "}\n",
    "\n",
    "n_iter = 10  # number of random combinations to try\n",
    "tscv = TimeSeriesSplit(n_splits=5)\n",
    "\n",
    "# generate random samples\n",
    "param_list = list(ParameterSampler(param_grid, n_iter=n_iter, random_state=42))\n",
    "\n",
    "for i, params in enumerate(param_list, 1):\n",
    "    print(f\"\\n=== Running iteration {i}/{n_iter} with params: {params} ===\")\n",
    "    clf.set_params(**params)\n",
    "\n",
    "    fold_metrics = []\n",
    "\n",
    "    for fold, (train_idx, test_idx) in enumerate(tscv.split(X_train), 1):\n",
    "        X_tr, X_val = X_train.iloc[train_idx], X_train.iloc[test_idx]\n",
    "        y_tr, y_val = y_train.iloc[train_idx], y_train.iloc[test_idx]\n",
    "\n",
    "        clf.fit(X_tr, y_tr)\n",
    "        y_proba = clf.predict_proba(X_val)[:, 1]\n",
    "        y_pred = clf.predict(X_val)\n",
    "\n",
    "        prec, rec, f1, _ = precision_recall_fscore_support(y_val, y_pred, average='binary', zero_division=0)\n",
    "        auc = roc_auc_score(y_val, y_proba)\n",
    "\n",
    "        fold_metrics.append({'fold': fold, 'precision': prec, 'recall': rec, 'f1': f1, 'auc': auc})\n",
    "        print(f\"  Fold {fold} done. F1: {f1:.4f}, AUC: {auc:.4f}\")\n",
    "\n",
    "    # aggregate metrics for this iteration\n",
    "    metrics_df = pd.DataFrame(fold_metrics)\n",
    "    mean_metrics = metrics_df.mean().to_dict()\n",
    "    print(f\"Iteration {i} mean metrics: F1={mean_metrics['f1']:.4f}, AUC={mean_metrics['auc']:.4f}\")\n"
   ]
  },
  {
   "cell_type": "markdown",
   "id": "93bb18e1",
   "metadata": {},
   "source": [
    "The random test of different hyperparameters combination did not improve the situation, the model itself or the singal generated are not very good to obtain great results... \n",
    "\n",
    "Several reason might influence this results... most of them are explained here:\n",
    "\n",
    "https://github.com/dgalassi99/quant-lab/blob/main/book_projects/Advances_Financial_Machine_Learning/notebooks/Sampling%20Weights/theory.md"
   ]
  },
  {
   "cell_type": "markdown",
   "id": "1af1db7f",
   "metadata": {},
   "source": [
    "## Mean Reverting Strategy With Bollinger Bands as Primitive Signal Generator"
   ]
  },
  {
   "cell_type": "markdown",
   "id": "25837c2b",
   "metadata": {},
   "source": [
    "From EXERCISE 3.5\n",
    "\n",
    "Develop a mean-reverting strategy based on Bollinger bands. For each observa-\n",
    "tion, the model suggests a side, but not a size of the bet.\n",
    "\n",
    "1. Derive meta-labels for ptSl=[0,2] and t1 where numDays=1. Use as\n",
    "trgt the daily standard deviation as computed by Snippet 3.1.\n",
    "\n",
    "2. Train a random forest to decide whether to trade or not. Use as fea-\n",
    "tures: volatility, serial correlation, and the crossing moving averages from past exercises\n",
    "\n",
    "3. What is the accuracy of predictions from the primary model (i.e., if the sec-\n",
    "ondary model does not filter the bets)? What are the precision, recall, and F1-scores?\n",
    "\n",
    "4. What is the accuracy of predictions from the secondary model? What are the\n",
    "precision, recall, and F1-scores?"
   ]
  },
  {
   "cell_type": "markdown",
   "id": "c46bd1ae",
   "metadata": {},
   "source": [
    "ALERT!!!\n",
    "\n",
    "THIS STRATEGY IS A SUICIDE FOR ASSETS SUCH AS BITCOIN DUE TO THE VERY STRONG UPTREND... BUT WE ARE HERE FOR LEARNING NOT TO MAKE MONEY, YET."
   ]
  },
  {
   "cell_type": "code",
   "execution_count": 48,
   "id": "cfaa1c43",
   "metadata": {},
   "outputs": [],
   "source": [
    "#extra libraries for model evaluation\n",
    "from sklearn.ensemble import RandomForestClassifier\n",
    "from sklearn.metrics import accuracy_score, precision_score, recall_score, f1_score"
   ]
  },
  {
   "cell_type": "code",
   "execution_count": 36,
   "id": "196d63b0",
   "metadata": {},
   "outputs": [],
   "source": [
    "#we use the same data as part one...\n",
    "df = pd.DataFrame(data)\n",
    "df = df.rename(columns={'Close time': 'datetime', 'Open': 'open', 'High': 'high', 'Low': 'low', 'Close': 'close', 'Volume': 'volume'})\n",
    "df = df.drop(columns=['Open time', 'Quote asset volume', 'Number of trades', 'Taker buy base asset volume', 'Taker buy quote asset volume', 'Ignore'],axis=1)\n",
    "df['datetime'] = pd.to_datetime(df['datetime'])\n",
    "df = df.set_index('datetime') # Now set the index using the column name\n",
    "df.index = df.index.round('H')"
   ]
  },
  {
   "cell_type": "code",
   "execution_count": 37,
   "id": "98af86e2",
   "metadata": {},
   "outputs": [
    {
     "name": "stdout",
     "output_type": "stream",
     "text": [
      "DatetimeIndex(['2018-01-04 03:00:00', '2018-02-08 00:00:00',\n",
      "               '2018-07-04 00:00:00', '2019-06-07 21:00:00',\n",
      "               '2020-03-04 09:00:00', '2021-04-25 04:00:00'],\n",
      "              dtype='datetime64[ns]', name='datetime', freq=None)\n",
      "DatetimeIndex([], dtype='datetime64[ns]', name='datetime', freq=None)\n"
     ]
    }
   ],
   "source": [
    "print(df.index[df.index.duplicated()])\n",
    "df = df[~df.index.duplicated(keep='first')]\n",
    "print(df.index[df.index.duplicated()])"
   ]
  },
  {
   "cell_type": "markdown",
   "id": "468ae2c7",
   "metadata": {},
   "source": [
    "### Bollinger Bands Mean Reverting Primary Signal"
   ]
  },
  {
   "cell_type": "code",
   "execution_count": 38,
   "id": "0a4896a4",
   "metadata": {},
   "outputs": [],
   "source": [
    "# window lookbar and std multiplier\n",
    "window = 20\n",
    "k = 2\n",
    "\n",
    "#ma, std and upper/lower bb bands\n",
    "df['ma'] = df['close'].rolling(window).mean()\n",
    "df['std'] = df['close'].rolling(window).std()\n",
    "df['upper_band'] = df['ma'] + k * df['std']\n",
    "df['lower_band'] = df['ma'] - k * df['std']\n",
    "\n",
    "#stretegy\n",
    "\n",
    "#long if price goes below lower bb\n",
    "#short if price goes above upper bb\n",
    "# no position id between bands\n",
    "\n",
    "df['side'] = 0\n",
    "df.loc[df.close < df.lower_band, 'side'] = 1\n",
    "df.loc[df.close > df.upper_band, 'side'] = -1"
   ]
  },
  {
   "cell_type": "code",
   "execution_count": null,
   "id": "bb794d5a",
   "metadata": {},
   "outputs": [],
   "source": [
    "#calculate dialy volatility\n",
    "daily_vol = df['close'].pct_change().resample('D').std()\n",
    "#target will have the same daily vol for each observation belonging to the same day (so we assign tot he first hour and fill up to the next day)\n",
    "target = daily_vol.reindex(df.index, method = 'ffill')\n",
    "# vertical barrier is 1 day, so each positioning maximum lasts 24 hours\n",
    "t1 = df.index + pd.Timedelta(days=1)\n",
    "t1 = t1.where(t1 < df.index[-1], pd.NaT)\n",
    "t1 = pd.Series(t1, index=df.index)\n",
    "\n",
    "\n",
    "#parameters to pass\n",
    "\n",
    "minRet = target.mean()\n",
    "ptSl = (0,2)\n",
    "tEvents = df.index\n",
    "trgt = target\n",
    "side = df.side\n",
    "close = df.close\n",
    "vert_barr = t1"
   ]
  },
  {
   "cell_type": "code",
   "execution_count": 40,
   "id": "196ce2f4",
   "metadata": {},
   "outputs": [],
   "source": [
    "events = getEventsMeta(close, tEvents, ptSl, trgt, minRet, t1, side)\n",
    "meta_labels = getTBMLabels(events, close)"
   ]
  },
  {
   "cell_type": "code",
   "execution_count": 41,
   "id": "39f80510",
   "metadata": {},
   "outputs": [
    {
     "name": "stdout",
     "output_type": "stream",
     "text": [
      "bin\n",
      "0.0    22358\n",
      "1.0     1232\n",
      "Name: count, dtype: int64\n"
     ]
    }
   ],
   "source": [
    "#check if labels are balanced\n",
    "print(meta_labels.bin.value_counts())"
   ]
  },
  {
   "cell_type": "markdown",
   "id": "8868242f",
   "metadata": {},
   "source": [
    "### Feature Creation and RF Classifier"
   ]
  },
  {
   "cell_type": "code",
   "execution_count": 42,
   "id": "2b5f3c3f",
   "metadata": {},
   "outputs": [],
   "source": [
    "#calculate hourly returns\n",
    "df['returns'] = df['close'].pct_change()\n",
    "#volatility\n",
    "df['volatility'] = df['close'].rolling(window=20).std()  # same window as BB\n",
    "#serial correlation\n",
    "df['return'] = df['close'].pct_change()  # daily returns\n",
    "df['serial_corr'] = df['close'].rolling(window=20).apply(lambda x: x.autocorr(lag=1), raw=False)\n",
    "#crossing moving averages\n",
    "short_window = 7\n",
    "long_window = 20\n",
    "\n",
    "df['MA_short'] = df['close'].rolling(short_window).mean()\n",
    "df['MA_long'] = df['close'].rolling(long_window).mean()\n",
    "\n",
    "# Crossing feature: 1 if short MA above long MA, -1 if below, 0 if equal\n",
    "df['ma_cross'] = 0\n",
    "df.loc[df['MA_short'] > df['MA_long'], 'ma_cross'] = 1\n",
    "df.loc[df['MA_short'] < df['MA_long'], 'ma_cross'] = -1\n"
   ]
  },
  {
   "cell_type": "code",
   "execution_count": 43,
   "id": "77ac72be",
   "metadata": {},
   "outputs": [
    {
     "name": "stdout",
     "output_type": "stream",
     "text": [
      "(64240, 3)\n",
      "(23590, 3)\n",
      "(23571, 3)\n",
      "(23590,)\n",
      "X shape: (23571, 3), y shape: (23571,)\n"
     ]
    }
   ],
   "source": [
    "features = ['volatility', 'serial_corr', 'ma_cross']\n",
    "X = df[features]\n",
    "print(X.shape)\n",
    "\n",
    "#align the feature set with the labels and drop NANs\n",
    "\n",
    "X = X.loc[meta_labels.index]\n",
    "print(X.shape)\n",
    "X = X.dropna()\n",
    "print(X.shape)\n",
    "\n",
    "y = meta_labels['bin']\n",
    "print(y.shape)\n",
    "y = y.loc[X.index]\n",
    "print(f'X shape: {X.shape}, y shape: {y.shape}')"
   ]
  },
  {
   "cell_type": "code",
   "execution_count": 45,
   "id": "9b091379",
   "metadata": {},
   "outputs": [
    {
     "data": {
      "text/html": [
       "<style>#sk-container-id-2 {color: black;}#sk-container-id-2 pre{padding: 0;}#sk-container-id-2 div.sk-toggleable {background-color: white;}#sk-container-id-2 label.sk-toggleable__label {cursor: pointer;display: block;width: 100%;margin-bottom: 0;padding: 0.3em;box-sizing: border-box;text-align: center;}#sk-container-id-2 label.sk-toggleable__label-arrow:before {content: \"▸\";float: left;margin-right: 0.25em;color: #696969;}#sk-container-id-2 label.sk-toggleable__label-arrow:hover:before {color: black;}#sk-container-id-2 div.sk-estimator:hover label.sk-toggleable__label-arrow:before {color: black;}#sk-container-id-2 div.sk-toggleable__content {max-height: 0;max-width: 0;overflow: hidden;text-align: left;background-color: #f0f8ff;}#sk-container-id-2 div.sk-toggleable__content pre {margin: 0.2em;color: black;border-radius: 0.25em;background-color: #f0f8ff;}#sk-container-id-2 input.sk-toggleable__control:checked~div.sk-toggleable__content {max-height: 200px;max-width: 100%;overflow: auto;}#sk-container-id-2 input.sk-toggleable__control:checked~label.sk-toggleable__label-arrow:before {content: \"▾\";}#sk-container-id-2 div.sk-estimator input.sk-toggleable__control:checked~label.sk-toggleable__label {background-color: #d4ebff;}#sk-container-id-2 div.sk-label input.sk-toggleable__control:checked~label.sk-toggleable__label {background-color: #d4ebff;}#sk-container-id-2 input.sk-hidden--visually {border: 0;clip: rect(1px 1px 1px 1px);clip: rect(1px, 1px, 1px, 1px);height: 1px;margin: -1px;overflow: hidden;padding: 0;position: absolute;width: 1px;}#sk-container-id-2 div.sk-estimator {font-family: monospace;background-color: #f0f8ff;border: 1px dotted black;border-radius: 0.25em;box-sizing: border-box;margin-bottom: 0.5em;}#sk-container-id-2 div.sk-estimator:hover {background-color: #d4ebff;}#sk-container-id-2 div.sk-parallel-item::after {content: \"\";width: 100%;border-bottom: 1px solid gray;flex-grow: 1;}#sk-container-id-2 div.sk-label:hover label.sk-toggleable__label {background-color: #d4ebff;}#sk-container-id-2 div.sk-serial::before {content: \"\";position: absolute;border-left: 1px solid gray;box-sizing: border-box;top: 0;bottom: 0;left: 50%;z-index: 0;}#sk-container-id-2 div.sk-serial {display: flex;flex-direction: column;align-items: center;background-color: white;padding-right: 0.2em;padding-left: 0.2em;position: relative;}#sk-container-id-2 div.sk-item {position: relative;z-index: 1;}#sk-container-id-2 div.sk-parallel {display: flex;align-items: stretch;justify-content: center;background-color: white;position: relative;}#sk-container-id-2 div.sk-item::before, #sk-container-id-2 div.sk-parallel-item::before {content: \"\";position: absolute;border-left: 1px solid gray;box-sizing: border-box;top: 0;bottom: 0;left: 50%;z-index: -1;}#sk-container-id-2 div.sk-parallel-item {display: flex;flex-direction: column;z-index: 1;position: relative;background-color: white;}#sk-container-id-2 div.sk-parallel-item:first-child::after {align-self: flex-end;width: 50%;}#sk-container-id-2 div.sk-parallel-item:last-child::after {align-self: flex-start;width: 50%;}#sk-container-id-2 div.sk-parallel-item:only-child::after {width: 0;}#sk-container-id-2 div.sk-dashed-wrapped {border: 1px dashed gray;margin: 0 0.4em 0.5em 0.4em;box-sizing: border-box;padding-bottom: 0.4em;background-color: white;}#sk-container-id-2 div.sk-label label {font-family: monospace;font-weight: bold;display: inline-block;line-height: 1.2em;}#sk-container-id-2 div.sk-label-container {text-align: center;}#sk-container-id-2 div.sk-container {/* jupyter's `normalize.less` sets `[hidden] { display: none; }` but bootstrap.min.css set `[hidden] { display: none !important; }` so we also need the `!important` here to be able to override the default hidden behavior on the sphinx rendered scikit-learn.org. See: https://github.com/scikit-learn/scikit-learn/issues/21755 */display: inline-block !important;position: relative;}#sk-container-id-2 div.sk-text-repr-fallback {display: none;}</style><div id=\"sk-container-id-2\" class=\"sk-top-container\"><div class=\"sk-text-repr-fallback\"><pre>RandomForestClassifier(class_weight=&#x27;balanced&#x27;, max_depth=10,\n",
       "                       min_samples_leaf=10, random_state=42)</pre><b>In a Jupyter environment, please rerun this cell to show the HTML representation or trust the notebook. <br />On GitHub, the HTML representation is unable to render, please try loading this page with nbviewer.org.</b></div><div class=\"sk-container\" hidden><div class=\"sk-item\"><div class=\"sk-estimator sk-toggleable\"><input class=\"sk-toggleable__control sk-hidden--visually\" id=\"sk-estimator-id-2\" type=\"checkbox\" checked><label for=\"sk-estimator-id-2\" class=\"sk-toggleable__label sk-toggleable__label-arrow\">RandomForestClassifier</label><div class=\"sk-toggleable__content\"><pre>RandomForestClassifier(class_weight=&#x27;balanced&#x27;, max_depth=10,\n",
       "                       min_samples_leaf=10, random_state=42)</pre></div></div></div></div></div>"
      ],
      "text/plain": [
       "RandomForestClassifier(class_weight='balanced', max_depth=10,\n",
       "                       min_samples_leaf=10, random_state=42)"
      ]
     },
     "execution_count": 45,
     "metadata": {},
     "output_type": "execute_result"
    }
   ],
   "source": [
    "# Train-test split (80-20) - Not shuffled!!!\n",
    "split = int(len(X) * 0.8)\n",
    "X_train, X_test = X.iloc[:split], X.iloc[split:]\n",
    "y_train, y_test = y.iloc[:split], y.iloc[split:]\n",
    "\n",
    "# Train Random Forest\n",
    "rf = RandomForestClassifier(n_estimators=100, random_state=42, max_depth=10, min_samples_leaf=10, class_weight='balanced')\n",
    "rf.fit(X_train, y_train)"
   ]
  },
  {
   "cell_type": "code",
   "execution_count": 46,
   "id": "af2970f7",
   "metadata": {},
   "outputs": [],
   "source": [
    "#predictions on the meta_labels\n",
    "y_rf_pred = rf.predict(X_test)\n",
    "\n",
    "#predictions on the primary model (if side != 0 we are trading)\n",
    "y_primary_pred = np.where(df.loc[y_test.index, 'side'] != 0, 1, 0)"
   ]
  },
  {
   "cell_type": "code",
   "execution_count": 49,
   "id": "88d46cc7",
   "metadata": {},
   "outputs": [
    {
     "name": "stdout",
     "output_type": "stream",
     "text": [
      "Primary Model Metrics:\n",
      "Accuracy: 0.910, Precision: 0.409, Recall: 1.000, F1-score: 0.581\n",
      "\n",
      "Secondary Model (RF) Metrics:\n",
      "Accuracy: 0.793, Precision: 0.061, Recall: 0.160, F1-score: 0.088\n"
     ]
    }
   ],
   "source": [
    "# --------------------------\n",
    "# Evaluate primary model\n",
    "# --------------------------\n",
    "acc_primary = accuracy_score(y_test, y_primary_pred)\n",
    "prec_primary = precision_score(y_test, y_primary_pred)\n",
    "rec_primary = recall_score(y_test, y_primary_pred)\n",
    "f1_primary = f1_score(y_test, y_primary_pred)\n",
    "\n",
    "print(\"Primary Model Metrics:\")\n",
    "print(f\"Accuracy: {acc_primary:.3f}, Precision: {prec_primary:.3f}, Recall: {rec_primary:.3f}, F1-score: {f1_primary:.3f}\")\n",
    "\n",
    "# --------------------------\n",
    "# Evaluate secondary model (RF)\n",
    "# --------------------------\n",
    "acc_rf = accuracy_score(y_test, y_rf_pred)\n",
    "prec_rf = precision_score(y_test, y_rf_pred)\n",
    "rec_rf = recall_score(y_test, y_rf_pred)\n",
    "f1_rf = f1_score(y_test, y_rf_pred)\n",
    "\n",
    "print(\"\\nSecondary Model (RF) Metrics:\")\n",
    "print(f\"Accuracy: {acc_rf:.3f}, Precision: {prec_rf:.3f}, Recall: {rec_rf:.3f}, F1-score: {f1_rf:.3f}\")"
   ]
  },
  {
   "cell_type": "code",
   "execution_count": null,
   "id": "b22f6500",
   "metadata": {},
   "outputs": [],
   "source": [
    "###PRIMARY MODEL###\n",
    "\n",
    "#create primary model signals: 1 if trade, 0 if no trade, with direction from signal (+1/-1)\n",
    "primary_signal = df.loc[y_test.index, 'side']  # +1/-1/0\n",
    "primary_signal = primary_signal.fillna(0)\n",
    "#align with actual returns (assuming you have a column 'returns' in df)\n",
    "returns = df.loc[y_test.index, 'returns'].fillna(0)\n",
    "#Primary model strategy returns\n",
    "primary_ret = primary_signal * returns\n",
    "#Cumulative returns\n",
    "primary_cumret = (1 + primary_ret).cumprod()\n",
    "\n",
    "##META-LABELLED MODEL###\n",
    "\n",
    "# RF predictions: 1 = trade, 0 = skip\n",
    "secondary_filter = y_rf_pred  # from RF\n",
    "filtered_signal = primary_signal * secondary_filter\n",
    "secondary_ret = filtered_signal * returns\n",
    "secondary_cumret = (1 + secondary_ret).cumprod()"
   ]
  },
  {
   "cell_type": "code",
   "execution_count": 53,
   "id": "78795c8b",
   "metadata": {},
   "outputs": [
    {
     "data": {
      "image/png": "[encoded data removed]",
      "text/plain": [
       "<Figure size 1200x600 with 1 Axes>"
      ]
     },
     "metadata": {},
     "output_type": "display_data"
    }
   ],
   "source": [
    "plt.figure(figsize=(12,6))\n",
    "plt.plot(primary_cumret, label='Primary Model')\n",
    "plt.plot(secondary_cumret, label='Primary + RF Filter')\n",
    "plt.xlabel('Time')\n",
    "plt.ylabel('Cumulative Returns')\n",
    "plt.legend()\n",
    "plt.show()\n"
   ]
  },
  {
   "cell_type": "markdown",
   "id": "81556794",
   "metadata": {},
   "source": [
    "As we said this strategy on BTC was expecting to be a disaster... but the application of Meta-Labelling show how we \"manage to reduce the losses\""
   ]
  },
  {
   "cell_type": "markdown",
   "id": "380eaed3",
   "metadata": {},
   "source": []
  },
  {
   "cell_type": "markdown",
   "id": "76a337c1",
   "metadata": {},
   "source": [
    "## Connection to File SAMPLING WEIGHTS.IPYNB -- LAST EXERCISE"
   ]
  },
  {
   "cell_type": "code",
   "execution_count": 19,
   "id": "a19ed0ce",
   "metadata": {},
   "outputs": [],
   "source": [
    "#save to CSV the train and test sets\n",
    "\n",
    "train_df = X_train.copy()\n",
    "train_df['y'] = y_train\n",
    "train_df.to_csv('train.csv', index=True)\n",
    "\n",
    "test_df = X_test.copy()\n",
    "test_df['y'] = y_test\n",
    "test_df.to_csv('test.csv', index=True)\n",
    "\n"
   ]
  },
  {
   "cell_type": "code",
   "execution_count": null,
   "id": "e0661033",
   "metadata": {},
   "outputs": [],
   "source": []
  }
 ],
 "metadata": {
  "kernelspec": {
   "display_name": "base",
   "language": "python",
   "name": "python3"
  },
  "language_info": {
   "codemirror_mode": {
    "name": "ipython",
    "version": 3
   },
   "file_extension": ".py",
   "mimetype": "text/x-python",
   "name": "python",
   "nbconvert_exporter": "python",
   "pygments_lexer": "ipython3",
   "version": "3.11.5"
  }
 },
 "nbformat": 4,
 "nbformat_minor": 5
}
