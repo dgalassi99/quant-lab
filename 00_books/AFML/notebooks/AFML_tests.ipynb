{
 "cells": [
  {
   "cell_type": "markdown",
   "id": "8743cbf5",
   "metadata": {},
   "source": [
    "# Testing and Playing with AFML\n"
   ]
  },
  {
   "cell_type": "code",
   "execution_count": 30,
   "id": "8231dda9",
   "metadata": {},
   "outputs": [],
   "source": [
    "import sys\n",
    "import os\n",
    "import pandas as pd\n",
    "import numpy as np"
   ]
  },
  {
   "cell_type": "markdown",
   "id": "a7d33391",
   "metadata": {},
   "source": [
    "## Data Analysis"
   ]
  },
  {
   "cell_type": "markdown",
   "id": "f98bfe86",
   "metadata": {},
   "source": [
    "### 2.1 PCA WEIGHTS FROM A RISK DISTRIBUTION"
   ]
  },
  {
   "cell_type": "code",
   "execution_count": 31,
   "id": "cadd79c7",
   "metadata": {},
   "outputs": [],
   "source": [
    "sys.path.append('../scripts')\n",
    "from AFML_book_scripts import pca_weights"
   ]
  },
  {
   "cell_type": "code",
   "execution_count": 32,
   "id": "1bb4f1f7",
   "metadata": {},
   "outputs": [],
   "source": [
    "num_days = 100\n",
    "num_assets = 10\n",
    "mu = np.zeros(num_assets)\n",
    "V = 0.01*(np.eye(num_assets)+0.2)\n",
    "returns = np.random.multivariate_normal(mean=mu,cov=V,size=num_days)\n",
    "returns_df = pd.DataFrame(returns, columns=[f'asset_{i+1}' for i in range(num_assets)])\n",
    "cov_matrix = returns_df.cov().values"
   ]
  },
  {
   "cell_type": "markdown",
   "id": "5c2c5279",
   "metadata": {},
   "source": []
  },
  {
   "cell_type": "code",
   "execution_count": 33,
   "id": "0c32eabb",
   "metadata": {},
   "outputs": [
    {
     "ename": "AttributeError",
     "evalue": "module 'numpy.linalg' has no attribute 'eihg'",
     "output_type": "error",
     "traceback": [
      "\u001b[31m---------------------------------------------------------------------------\u001b[39m",
      "\u001b[31mAttributeError\u001b[39m                            Traceback (most recent call last)",
      "\u001b[36mCell\u001b[39m\u001b[36m \u001b[39m\u001b[32mIn[33]\u001b[39m\u001b[32m, line 2\u001b[39m\n\u001b[32m      1\u001b[39m \u001b[38;5;66;03m#no risk distr... al risk on last PC\u001b[39;00m\n\u001b[32m----> \u001b[39m\u001b[32m2\u001b[39m weights = \u001b[43mpca_weights\u001b[49m\u001b[43m(\u001b[49m\u001b[43mcov_matrix\u001b[49m\u001b[43m,\u001b[49m\u001b[43m \u001b[49m\u001b[43mrisk_distribution\u001b[49m\u001b[43m=\u001b[49m\u001b[43m \u001b[49m\u001b[38;5;28;43;01mNone\u001b[39;49;00m\u001b[43m,\u001b[49m\u001b[43m \u001b[49m\u001b[43mrisk_target\u001b[49m\u001b[43m=\u001b[49m\u001b[43m \u001b[49m\u001b[32;43m1\u001b[39;49m\u001b[43m)\u001b[49m\n\u001b[32m      3\u001b[39m weights_df = pd.DataFrame(weights, index=returns_df.columns, columns=[\u001b[33m\"\u001b[39m\u001b[33mWeight\u001b[39m\u001b[33m\"\u001b[39m])\n\u001b[32m      4\u001b[39m weights_df\n",
      "\u001b[36mFile \u001b[39m\u001b[32mc:\\Users\\dgalassi\\quant-trading-self-study\\00_books\\AFML\\notebooks\\../scripts\\AFML_book_scripts.py:19\u001b[39m, in \u001b[36mpca_weights\u001b[39m\u001b[34m(cov_matrix, risk_distribution, risk_target)\u001b[39m\n\u001b[32m      6\u001b[39m \u001b[38;5;250m\u001b[39m\u001b[33;03m\"\"\" \u001b[39;00m\n\u001b[32m      7\u001b[39m \u001b[33;03mGiven a cov matrix NxN computes the portfolio weights based on PCA\u001b[39;00m\n\u001b[32m      8\u001b[39m \u001b[33;03mrisk decomposition\u001b[39;00m\n\u001b[32m   (...)\u001b[39m\u001b[32m     16\u001b[39m \u001b[33;03m- weights --> vector of assets weights (Nx1) \u001b[39;00m\n\u001b[32m     17\u001b[39m \u001b[33;03m\"\"\"\u001b[39;00m\n\u001b[32m     18\u001b[39m \u001b[38;5;66;03m#eigen decomposition\u001b[39;00m\n\u001b[32m---> \u001b[39m\u001b[32m19\u001b[39m \u001b[38;5;28meval\u001b[39m, evec = \u001b[43mnp\u001b[49m\u001b[43m.\u001b[49m\u001b[43mlinalg\u001b[49m\u001b[43m.\u001b[49m\u001b[43meihg\u001b[49m(cov_matrix) \n\u001b[32m     20\u001b[39m \u001b[38;5;66;03m#sort eval descending \u001b[39;00m\n\u001b[32m     21\u001b[39m indices = \u001b[38;5;28meval\u001b[39m.argsort()[::-\u001b[32m1\u001b[39m]\n",
      "\u001b[31mAttributeError\u001b[39m: module 'numpy.linalg' has no attribute 'eihg'"
     ]
    }
   ],
   "source": [
    "#no risk distr... al risk on last PC\n",
    "weights = pca_weights(cov_matrix, risk_distribution= None, risk_target= 1)\n",
    "weights_df = pd.DataFrame(weights, index=returns_df.columns, columns=[\"Weight\"])\n",
    "weights_df\n"
   ]
  },
  {
   "cell_type": "code",
   "execution_count": null,
   "id": "50e75c1e",
   "metadata": {},
   "outputs": [],
   "source": []
  },
  {
   "cell_type": "code",
   "execution_count": null,
   "id": "da5548fb",
   "metadata": {},
   "outputs": [],
   "source": []
  }
 ],
 "metadata": {
  "kernelspec": {
   "display_name": "qt_env",
   "language": "python",
   "name": "python3"
  },
  "language_info": {
   "codemirror_mode": {
    "name": "ipython",
    "version": 3
   },
   "file_extension": ".py",
   "mimetype": "text/x-python",
   "name": "python",
   "nbconvert_exporter": "python",
   "pygments_lexer": "ipython3",
   "version": "3.12.2"
  }
 },
 "nbformat": 4,
 "nbformat_minor": 5
}
