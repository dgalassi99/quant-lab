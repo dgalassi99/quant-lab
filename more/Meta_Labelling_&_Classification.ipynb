{
  "nbformat": 4,
  "nbformat_minor": 0,
  "metadata": {
    "colab": {
      "provenance": [],
      "authorship_tag": "ABX9TyP/nCyPxqbbpwA/8gH6lFlG",
      "include_colab_link": true
    },
    "kernelspec": {
      "name": "python3",
      "display_name": "Python 3"
    },
    "language_info": {
      "name": "python"
    }
  },
  "cells": [
    {
      "cell_type": "markdown",
      "metadata": {
        "id": "view-in-github",
        "colab_type": "text"
      },
      "source": [
        "<a href=\"https://colab.research.google.com/github/dgalassi99/quant-trading-self-study/blob/main/more/Meta_Labelling_%26_Classification.ipynb\" target=\"_parent\"><img src=\"https://colab.research.google.com/assets/colab-badge.svg\" alt=\"Open In Colab\"/></a>"
      ]
    },
    {
      "cell_type": "markdown",
      "source": [
        "# Main Code\n",
        "\n",
        "This exercise comes from studying \"Machine Learning for Asset Managers\". Due to the sie of the exercise I created a separate notebook file.\n",
        "\n",
        "The full book study and exercise is here: https://github.com/dgalassi99/quant-trading-self-study/blob/main/00_books/Machine_Learning_for_Asset_Managers.ipynb"
      ],
      "metadata": {
        "id": "-vdRlhlgjRax"
      }
    },
    {
      "cell_type": "markdown",
      "source": [
        "## Labelling with Triple Barrier Method"
      ],
      "metadata": {
        "id": "ecxyDQtsjuNx"
      }
    },
    {
      "cell_type": "code",
      "source": [
        "from google.colab import drive\n",
        "import pandas as pd, numpy as np\n",
        "import matplotlib.pyplot as plt\n",
        "\n",
        "drive.mount('/content/drive')\n",
        "# Load the CSV data\n",
        "file_path = '/content/drive/MyDrive/QUANT/DATA/btc_1h_data_2018_to_2025.csv'\n",
        "df = pd.read_csv(file_path, date_format='%Y%m%d %H%M%S')\n",
        "df['Open time'] = pd.to_datetime(df['Open time'])\n",
        "df = df[['Open time', 'Close','Volume']]\n",
        "\n",
        "#define a target volume --> we use the average\n",
        "target_vol = df.Volume.mean()\n",
        "df['cum_vol'] = df.Volume.cumsum()\n",
        "#create the bar_num in the df\n",
        "df['vol_bar_num'] = df.cum_vol.apply(lambda x: x/target_vol).astype(int)\n",
        "#keep only when vol_bar_num changes\n",
        "df_vol = df.groupby('vol_bar_num').first()\n",
        "\n",
        "#compute returns and std\n",
        "df_vol['returns'] = df_vol.Close.pct_change()\n",
        "std_returns = df_vol.returns.std()\n",
        "# horizontal barriers #\n",
        "hrz_barrier = 2*std_returns\n",
        "print(f\"Standard deviation of returns: {std_returns:.6f}\")\n",
        "print(f\"Horizontal barrier (2 * std): {hrz_barrier:.6f}\")\n",
        "\n",
        "''' the maximum holding period is defined as the\n",
        "average number of bars per day\n",
        "\n",
        "'''\n",
        "# Reset index to use timestamps again\n",
        "df_vol = df_vol.reset_index()\n",
        "\n",
        "# Add date column (only the day)\n",
        "df_vol['date'] = df_vol['Open time'].dt.date\n",
        "\n",
        "# Count bars per day, then average\n",
        "bars_per_day = df_vol.groupby('date').size()\n",
        "max_holding_period = int(bars_per_day.mean())\n",
        "print(f\"Max holding period (avg bars/day): {max_holding_period}\")\n",
        "\n",
        "labels = []  # list to store labels\n",
        "\n",
        "#loop through the rows, stopping max_holding_period early\n",
        "for i in range(len(df_vol.Close) - max_holding_period):\n",
        "    label = 0  # default label\n",
        "    start_price = df_vol.Close.iloc[i]\n",
        "\n",
        "    #look forward up to max_holding_period steps\n",
        "    for j in range(1, max_holding_period + 1):\n",
        "        future_price = df_vol.Close.iloc[i + j]\n",
        "        returns = (future_price - start_price) / start_price\n",
        "        #check labelling conditions\n",
        "        if returns >= hrz_barrier:\n",
        "            label = 1\n",
        "            break\n",
        "        elif returns <= -hrz_barrier:\n",
        "            label = -1\n",
        "            break\n",
        "\n",
        "    labels.append(label)\n",
        "#append NaNs to align with df_vol's length\n",
        "labels += [np.nan] * max_holding_period\n",
        "df_vol[\"label\"] = labels\n",
        "print(df_vol['label'].value_counts(dropna=True))\n"
      ],
      "metadata": {
        "colab": {
          "base_uri": "https://localhost:8080/"
        },
        "id": "nSWapcQwj1h3",
        "outputId": "af89a108-bcce-47a7-e404-e8cbc9497eb1"
      },
      "execution_count": 1,
      "outputs": [
        {
          "output_type": "stream",
          "name": "stdout",
          "text": [
            "Mounted at /content/drive\n",
            "Standard deviation of returns: 0.009658\n",
            "Horizontal barrier (2 * std): 0.019315\n",
            "Max holding period (avg bars/day): 14\n",
            "label\n",
            " 1.0    13132\n",
            " 0.0    13017\n",
            "-1.0    12436\n",
            "Name: count, dtype: int64\n"
          ]
        }
      ]
    },
    {
      "cell_type": "code",
      "source": [
        "# overall distribution\n",
        "overall_dist = df_vol['label'].value_counts(normalize=True)\n",
        "print(\"Overall label distribution (Triple Barrier):\")\n",
        "print(overall_dist)\n",
        "\n",
        "df_vol['hour'] = df_vol['Open time'].dt.hour\n",
        "hourly_dist = df_vol.groupby('hour')['label'].value_counts(normalize=True).unstack().fillna(0)\n",
        "print(\"Hourly label distribution (Triple Barrier):\")\n",
        "print(hourly_dist)"
      ],
      "metadata": {
        "colab": {
          "base_uri": "https://localhost:8080/"
        },
        "id": "vR-XYaxRj_h7",
        "outputId": "70aa1cfb-6c4c-4c80-a38d-f2aab2b68806"
      },
      "execution_count": 2,
      "outputs": [
        {
          "output_type": "stream",
          "name": "stdout",
          "text": [
            "Overall label distribution (Triple Barrier):\n",
            "label\n",
            " 1.0    0.340340\n",
            " 0.0    0.337359\n",
            "-1.0    0.322301\n",
            "Name: proportion, dtype: float64\n",
            "Hourly label distribution (Triple Barrier):\n",
            "label      -1.0       0.0       1.0\n",
            "hour                               \n",
            "0      0.343131  0.328134  0.328734\n",
            "1      0.327804  0.332449  0.339748\n",
            "2      0.330812  0.323934  0.345254\n",
            "3      0.325747  0.327881  0.346373\n",
            "4      0.317073  0.335725  0.347202\n",
            "5      0.313584  0.317919  0.368497\n",
            "6      0.327610  0.340659  0.331731\n",
            "7      0.325032  0.332695  0.342273\n",
            "8      0.324040  0.332714  0.343247\n",
            "9      0.338054  0.327586  0.334360\n",
            "10     0.307359  0.333333  0.359307\n",
            "11     0.319436  0.321888  0.358676\n",
            "12     0.328054  0.328054  0.343891\n",
            "13     0.329570  0.318817  0.351613\n",
            "14     0.330474  0.346115  0.323411\n",
            "15     0.315628  0.356997  0.327375\n",
            "16     0.315817  0.356280  0.327903\n",
            "17     0.305035  0.353630  0.341335\n",
            "18     0.330055  0.344806  0.325138\n",
            "19     0.315231  0.347066  0.337703\n",
            "20     0.311746  0.333333  0.354921\n",
            "21     0.311707  0.354725  0.333568\n",
            "22     0.309353  0.354676  0.335971\n",
            "23     0.329715  0.339891  0.330393\n"
          ]
        }
      ]
    },
    {
      "cell_type": "code",
      "source": [],
      "metadata": {
        "id": "jmnNztxIkFCP"
      },
      "execution_count": null,
      "outputs": []
    }
  ]
}